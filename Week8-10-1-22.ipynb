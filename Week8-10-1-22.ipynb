{
 "cells": [
  {
   "cell_type": "code",
   "execution_count": 1,
   "metadata": {},
   "outputs": [],
   "source": [
    "import pandas as pd\n",
    "import numpy as np\n",
    "import matplotlib.pyplot as plt"
   ]
  },
  {
   "cell_type": "code",
   "execution_count": 2,
   "metadata": {},
   "outputs": [],
   "source": [
    "import warnings\n",
    "warnings.filterwarnings('ignore')"
   ]
  },
  {
   "cell_type": "code",
   "execution_count": 3,
   "metadata": {},
   "outputs": [
    {
     "data": {
      "text/html": [
       "<div>\n",
       "<style scoped>\n",
       "    .dataframe tbody tr th:only-of-type {\n",
       "        vertical-align: middle;\n",
       "    }\n",
       "\n",
       "    .dataframe tbody tr th {\n",
       "        vertical-align: top;\n",
       "    }\n",
       "\n",
       "    .dataframe thead th {\n",
       "        text-align: right;\n",
       "    }\n",
       "</style>\n",
       "<table border=\"1\" class=\"dataframe\">\n",
       "  <thead>\n",
       "    <tr style=\"text-align: right;\">\n",
       "      <th></th>\n",
       "      <th>S.No</th>\n",
       "      <th>Year</th>\n",
       "      <th>Month</th>\n",
       "      <th>Day</th>\n",
       "      <th>Hour</th>\n",
       "      <th>Minute</th>\n",
       "      <th>Second</th>\n",
       "      <th>PM1</th>\n",
       "      <th>PM2.5</th>\n",
       "      <th>PM10</th>\n",
       "      <th>Temp</th>\n",
       "      <th>Humidity</th>\n",
       "      <th>Light</th>\n",
       "      <th>CO</th>\n",
       "      <th>Water Temp</th>\n",
       "      <th>pH</th>\n",
       "    </tr>\n",
       "  </thead>\n",
       "  <tbody>\n",
       "    <tr>\n",
       "      <th>0</th>\n",
       "      <td>1</td>\n",
       "      <td>2019</td>\n",
       "      <td>11</td>\n",
       "      <td>26</td>\n",
       "      <td>10</td>\n",
       "      <td>27</td>\n",
       "      <td>20</td>\n",
       "      <td>8.0</td>\n",
       "      <td>12</td>\n",
       "      <td>14</td>\n",
       "      <td>25</td>\n",
       "      <td>91</td>\n",
       "      <td>34.0</td>\n",
       "      <td>95.0</td>\n",
       "      <td>24.63</td>\n",
       "      <td>6.52</td>\n",
       "    </tr>\n",
       "    <tr>\n",
       "      <th>1</th>\n",
       "      <td>2</td>\n",
       "      <td>2019</td>\n",
       "      <td>11</td>\n",
       "      <td>26</td>\n",
       "      <td>10</td>\n",
       "      <td>28</td>\n",
       "      <td>12</td>\n",
       "      <td>9.0</td>\n",
       "      <td>12</td>\n",
       "      <td>15</td>\n",
       "      <td>25</td>\n",
       "      <td>91</td>\n",
       "      <td>34.0</td>\n",
       "      <td>95.0</td>\n",
       "      <td>24.63</td>\n",
       "      <td>6.59</td>\n",
       "    </tr>\n",
       "    <tr>\n",
       "      <th>2</th>\n",
       "      <td>3</td>\n",
       "      <td>2019</td>\n",
       "      <td>11</td>\n",
       "      <td>26</td>\n",
       "      <td>10</td>\n",
       "      <td>29</td>\n",
       "      <td>4</td>\n",
       "      <td>10.0</td>\n",
       "      <td>14</td>\n",
       "      <td>15</td>\n",
       "      <td>26</td>\n",
       "      <td>89</td>\n",
       "      <td>34.0</td>\n",
       "      <td>95.0</td>\n",
       "      <td>24.63</td>\n",
       "      <td>6.53</td>\n",
       "    </tr>\n",
       "    <tr>\n",
       "      <th>3</th>\n",
       "      <td>4</td>\n",
       "      <td>2019</td>\n",
       "      <td>11</td>\n",
       "      <td>26</td>\n",
       "      <td>10</td>\n",
       "      <td>29</td>\n",
       "      <td>56</td>\n",
       "      <td>8.0</td>\n",
       "      <td>12</td>\n",
       "      <td>12</td>\n",
       "      <td>26</td>\n",
       "      <td>90</td>\n",
       "      <td>34.0</td>\n",
       "      <td>95.0</td>\n",
       "      <td>24.56</td>\n",
       "      <td>6.59</td>\n",
       "    </tr>\n",
       "    <tr>\n",
       "      <th>4</th>\n",
       "      <td>5</td>\n",
       "      <td>2019</td>\n",
       "      <td>11</td>\n",
       "      <td>26</td>\n",
       "      <td>10</td>\n",
       "      <td>30</td>\n",
       "      <td>43</td>\n",
       "      <td>9.0</td>\n",
       "      <td>12</td>\n",
       "      <td>15</td>\n",
       "      <td>26</td>\n",
       "      <td>91</td>\n",
       "      <td>34.0</td>\n",
       "      <td>95.0</td>\n",
       "      <td>24.56</td>\n",
       "      <td>6.54</td>\n",
       "    </tr>\n",
       "  </tbody>\n",
       "</table>\n",
       "</div>"
      ],
      "text/plain": [
       "   S.No  Year  Month  Day  Hour  Minute  Second   PM1  PM2.5  PM10  Temp  \\\n",
       "0     1  2019     11   26    10      27      20   8.0     12    14    25   \n",
       "1     2  2019     11   26    10      28      12   9.0     12    15    25   \n",
       "2     3  2019     11   26    10      29       4  10.0     14    15    26   \n",
       "3     4  2019     11   26    10      29      56   8.0     12    12    26   \n",
       "4     5  2019     11   26    10      30      43   9.0     12    15    26   \n",
       "\n",
       "   Humidity  Light    CO  Water Temp    pH  \n",
       "0        91   34.0  95.0       24.63  6.52  \n",
       "1        91   34.0  95.0       24.63  6.59  \n",
       "2        89   34.0  95.0       24.63  6.53  \n",
       "3        90   34.0  95.0       24.56  6.59  \n",
       "4        91   34.0  95.0       24.56  6.54  "
      ]
     },
     "execution_count": 3,
     "metadata": {},
     "output_type": "execute_result"
    }
   ],
   "source": [
    "df_fish = pd.read_csv(\"fishdata1.csv\")\n",
    "df_fish.head()"
   ]
  },
  {
   "cell_type": "code",
   "execution_count": 4,
   "metadata": {},
   "outputs": [
    {
     "data": {
      "text/html": [
       "<div>\n",
       "<style scoped>\n",
       "    .dataframe tbody tr th:only-of-type {\n",
       "        vertical-align: middle;\n",
       "    }\n",
       "\n",
       "    .dataframe tbody tr th {\n",
       "        vertical-align: top;\n",
       "    }\n",
       "\n",
       "    .dataframe thead th {\n",
       "        text-align: right;\n",
       "    }\n",
       "</style>\n",
       "<table border=\"1\" class=\"dataframe\">\n",
       "  <thead>\n",
       "    <tr style=\"text-align: right;\">\n",
       "      <th></th>\n",
       "      <th>Timestamp</th>\n",
       "      <th>Gender เพศ</th>\n",
       "      <th>Degree ระดับการศึกษา</th>\n",
       "      <th>Major of Study สาขา</th>\n",
       "      <th>Year of Birth ปีเกิด</th>\n",
       "      <th>Mode of Transportation วิธีการเดินทาง</th>\n",
       "      <th>Most favourite food shop in TNI ร้านอาหารที่ชอบในTNI</th>\n",
       "      <th>Most favourite food shop near TNI ร้านอาหารที่ชอบใกล้TNI</th>\n",
       "      <th>Most favourite beverage shop ร้านเครื่องดื่มที่ชอบ</th>\n",
       "      <th>Most favourite vending machine ตู้กดอัตโนมัติที่ชอบ</th>\n",
       "      <th>...</th>\n",
       "      <th>Stress from Lecturer ความเครียดจากอาจารย์ผู้สอน</th>\n",
       "      <th>Stress from Family Situation ความเครียดจากครอบครัว</th>\n",
       "      <th>How satisfied with the job prospect of TNI คุณพึงพอใจกับโอกาสในการได้รับงานจากTNIหรือไม่</th>\n",
       "      <th>How satisfied with the language proficiency in English and Japanese คุณพึงพอใจกับทักษะระดับภาษาอังกฤษและญี่ปุ่นขนาดไหน</th>\n",
       "      <th>How satisfied with the first aid room facility คุณพึงพอใจกับห้องปฐมพยาบาลหรือไม่</th>\n",
       "      <th>How satisfied with the library คุณพึงพอใจกับห้องสมุดขนาดไหน</th>\n",
       "      <th>How satisfied with the WiFi and Internet คุณพึงพอใจกับไวไฟและอินเตอร์เน็ตขนาดไหน</th>\n",
       "      <th>Are you satisfied with the speed of the printing services shop คุณพึงพอใจกับความเร็วของร้านถ่ายเอกสารหรือไม่</th>\n",
       "      <th>Does cooperative shop has the item or goods you want สหกรณ์มีสินค้าที่คุณต้องการหรือไม่</th>\n",
       "      <th>Overall opinion about TNI ความคิดเห็นเกี่ยวกับTNI</th>\n",
       "    </tr>\n",
       "  </thead>\n",
       "  <tbody>\n",
       "    <tr>\n",
       "      <th>0</th>\n",
       "      <td>11/28/2022 10:01:43</td>\n",
       "      <td>Male/ชาย</td>\n",
       "      <td>Undergraduate/ปริญญาตรี</td>\n",
       "      <td>DSA</td>\n",
       "      <td>2001</td>\n",
       "      <td>Walk เดินเท้า</td>\n",
       "      <td>Hainanese chicken rice ข้าวมันไก่นายโส่ย</td>\n",
       "      <td>Green Steak shop สเต็กคุณพีซ (ร้านเขียว)</td>\n",
       "      <td>Infinity/เอมุ (Building E) ตึก E</td>\n",
       "      <td>7-11</td>\n",
       "      <td>...</td>\n",
       "      <td>3</td>\n",
       "      <td>4</td>\n",
       "      <td>4</td>\n",
       "      <td>3</td>\n",
       "      <td>3</td>\n",
       "      <td>4</td>\n",
       "      <td>4</td>\n",
       "      <td>3</td>\n",
       "      <td>Sometimes บางครั้ง</td>\n",
       "      <td>4</td>\n",
       "    </tr>\n",
       "    <tr>\n",
       "      <th>1</th>\n",
       "      <td>11/28/2022 13:14:43</td>\n",
       "      <td>Male/ชาย</td>\n",
       "      <td>Undergraduate/ปริญญาตรี</td>\n",
       "      <td>DGE</td>\n",
       "      <td>2004</td>\n",
       "      <td>Walk เดินเท้า</td>\n",
       "      <td>Hiramiya Japanese Food ร้านอาหารญี่ปุ่นฮิรามิยะ</td>\n",
       "      <td>Shop opposite blue building ร้านป้านิด (ร้านตร...</td>\n",
       "      <td>Infinity/เอมุ (Building E) ตึก E</td>\n",
       "      <td>7-11</td>\n",
       "      <td>...</td>\n",
       "      <td>1</td>\n",
       "      <td>2</td>\n",
       "      <td>5</td>\n",
       "      <td>5</td>\n",
       "      <td>3</td>\n",
       "      <td>5</td>\n",
       "      <td>4</td>\n",
       "      <td>4</td>\n",
       "      <td>Sometimes บางครั้ง</td>\n",
       "      <td>5</td>\n",
       "    </tr>\n",
       "    <tr>\n",
       "      <th>2</th>\n",
       "      <td>11/28/2022 13:19:31</td>\n",
       "      <td>Female/หญิง</td>\n",
       "      <td>Undergraduate/ปริญญาตรี</td>\n",
       "      <td>JIB</td>\n",
       "      <td>2004</td>\n",
       "      <td>Car รถยนต์</td>\n",
       "      <td>Snack shop ขนม-นม-เนย</td>\n",
       "      <td>7-11</td>\n",
       "      <td>Coffee Shop (Building B) ตึก B</td>\n",
       "      <td>7-11</td>\n",
       "      <td>...</td>\n",
       "      <td>2</td>\n",
       "      <td>2</td>\n",
       "      <td>5</td>\n",
       "      <td>5</td>\n",
       "      <td>3</td>\n",
       "      <td>3</td>\n",
       "      <td>4</td>\n",
       "      <td>5</td>\n",
       "      <td>Always มีตลอดเวลา</td>\n",
       "      <td>5</td>\n",
       "    </tr>\n",
       "    <tr>\n",
       "      <th>3</th>\n",
       "      <td>11/28/2022 13:20:51</td>\n",
       "      <td>Female/หญิง</td>\n",
       "      <td>Undergraduate/ปริญญาตรี</td>\n",
       "      <td>DSA</td>\n",
       "      <td>2002</td>\n",
       "      <td>Walk เดินเท้า</td>\n",
       "      <td>Hainanese chicken rice ข้าวมันไก่นายโส่ย</td>\n",
       "      <td>Green Steak shop สเต็กคุณพีซ (ร้านเขียว)</td>\n",
       "      <td>Coffee Shop (Building B) ตึก B</td>\n",
       "      <td>7-11</td>\n",
       "      <td>...</td>\n",
       "      <td>3</td>\n",
       "      <td>3</td>\n",
       "      <td>4</td>\n",
       "      <td>3</td>\n",
       "      <td>3</td>\n",
       "      <td>4</td>\n",
       "      <td>4</td>\n",
       "      <td>3</td>\n",
       "      <td>Sometimes บางครั้ง</td>\n",
       "      <td>4</td>\n",
       "    </tr>\n",
       "    <tr>\n",
       "      <th>4</th>\n",
       "      <td>11/28/2022 13:20:52</td>\n",
       "      <td>Female/หญิง</td>\n",
       "      <td>Undergraduate/ปริญญาตรี</td>\n",
       "      <td>DSA</td>\n",
       "      <td>2002</td>\n",
       "      <td>Walk เดินเท้า</td>\n",
       "      <td>Hiramiya Japanese Food ร้านอาหารญี่ปุ่นฮิรามิยะ</td>\n",
       "      <td>Shop under blue building ร้านพี่นก (ร้านใต้ตึก...</td>\n",
       "      <td>Sunrise Coffee (Building A) ตึก A</td>\n",
       "      <td>7-11</td>\n",
       "      <td>...</td>\n",
       "      <td>1</td>\n",
       "      <td>1</td>\n",
       "      <td>5</td>\n",
       "      <td>4</td>\n",
       "      <td>3</td>\n",
       "      <td>4</td>\n",
       "      <td>4</td>\n",
       "      <td>3</td>\n",
       "      <td>Sometimes บางครั้ง</td>\n",
       "      <td>5</td>\n",
       "    </tr>\n",
       "  </tbody>\n",
       "</table>\n",
       "<p>5 rows × 31 columns</p>\n",
       "</div>"
      ],
      "text/plain": [
       "             Timestamp   Gender เพศ     Degree ระดับการศึกษา  \\\n",
       "0  11/28/2022 10:01:43     Male/ชาย  Undergraduate/ปริญญาตรี   \n",
       "1  11/28/2022 13:14:43     Male/ชาย  Undergraduate/ปริญญาตรี   \n",
       "2  11/28/2022 13:19:31  Female/หญิง  Undergraduate/ปริญญาตรี   \n",
       "3  11/28/2022 13:20:51  Female/หญิง  Undergraduate/ปริญญาตรี   \n",
       "4  11/28/2022 13:20:52  Female/หญิง  Undergraduate/ปริญญาตรี   \n",
       "\n",
       "  Major of Study สาขา  Year of Birth ปีเกิด  \\\n",
       "0                 DSA                  2001   \n",
       "1                 DGE                  2004   \n",
       "2                 JIB                  2004   \n",
       "3                 DSA                  2002   \n",
       "4                 DSA                  2002   \n",
       "\n",
       "  Mode of Transportation วิธีการเดินทาง  \\\n",
       "0                         Walk เดินเท้า   \n",
       "1                         Walk เดินเท้า   \n",
       "2                            Car รถยนต์   \n",
       "3                         Walk เดินเท้า   \n",
       "4                         Walk เดินเท้า   \n",
       "\n",
       "  Most favourite food shop in TNI ร้านอาหารที่ชอบในTNI  \\\n",
       "0           Hainanese chicken rice ข้าวมันไก่นายโส่ย     \n",
       "1    Hiramiya Japanese Food ร้านอาหารญี่ปุ่นฮิรามิยะ     \n",
       "2                              Snack shop ขนม-นม-เนย     \n",
       "3           Hainanese chicken rice ข้าวมันไก่นายโส่ย     \n",
       "4    Hiramiya Japanese Food ร้านอาหารญี่ปุ่นฮิรามิยะ     \n",
       "\n",
       "  Most favourite food shop near TNI ร้านอาหารที่ชอบใกล้TNI  \\\n",
       "0           Green Steak shop สเต็กคุณพีซ (ร้านเขียว)         \n",
       "1  Shop opposite blue building ร้านป้านิด (ร้านตร...         \n",
       "2                                               7-11         \n",
       "3           Green Steak shop สเต็กคุณพีซ (ร้านเขียว)         \n",
       "4  Shop under blue building ร้านพี่นก (ร้านใต้ตึก...         \n",
       "\n",
       "  Most favourite beverage shop ร้านเครื่องดื่มที่ชอบ  \\\n",
       "0                   Infinity/เอมุ (Building E) ตึก E   \n",
       "1                   Infinity/เอมุ (Building E) ตึก E   \n",
       "2                     Coffee Shop (Building B) ตึก B   \n",
       "3                     Coffee Shop (Building B) ตึก B   \n",
       "4                  Sunrise Coffee (Building A) ตึก A   \n",
       "\n",
       "  Most favourite vending machine ตู้กดอัตโนมัติที่ชอบ  ...  \\\n",
       "0                                               7-11   ...   \n",
       "1                                               7-11   ...   \n",
       "2                                               7-11   ...   \n",
       "3                                               7-11   ...   \n",
       "4                                               7-11   ...   \n",
       "\n",
       "  Stress from Lecturer ความเครียดจากอาจารย์ผู้สอน  \\\n",
       "0                                               3   \n",
       "1                                               1   \n",
       "2                                               2   \n",
       "3                                               3   \n",
       "4                                               1   \n",
       "\n",
       "  Stress from Family Situation ความเครียดจากครอบครัว  \\\n",
       "0                                                  4   \n",
       "1                                                  2   \n",
       "2                                                  2   \n",
       "3                                                  3   \n",
       "4                                                  1   \n",
       "\n",
       "  How satisfied with the job prospect of TNI คุณพึงพอใจกับโอกาสในการได้รับงานจากTNIหรือไม่  \\\n",
       "0                                                  4                                         \n",
       "1                                                  5                                         \n",
       "2                                                  5                                         \n",
       "3                                                  4                                         \n",
       "4                                                  5                                         \n",
       "\n",
       "  How satisfied with the language proficiency in English and Japanese คุณพึงพอใจกับทักษะระดับภาษาอังกฤษและญี่ปุ่นขนาดไหน  \\\n",
       "0                                                  3                                                                       \n",
       "1                                                  5                                                                       \n",
       "2                                                  5                                                                       \n",
       "3                                                  3                                                                       \n",
       "4                                                  4                                                                       \n",
       "\n",
       "  How satisfied with the first aid room facility คุณพึงพอใจกับห้องปฐมพยาบาลหรือไม่  \\\n",
       "0                                                  3                                 \n",
       "1                                                  3                                 \n",
       "2                                                  3                                 \n",
       "3                                                  3                                 \n",
       "4                                                  3                                 \n",
       "\n",
       "  How satisfied with the library คุณพึงพอใจกับห้องสมุดขนาดไหน  \\\n",
       "0                                                  4            \n",
       "1                                                  5            \n",
       "2                                                  3            \n",
       "3                                                  4            \n",
       "4                                                  4            \n",
       "\n",
       "  How satisfied with the WiFi and Internet คุณพึงพอใจกับไวไฟและอินเตอร์เน็ตขนาดไหน  \\\n",
       "0                                                  4                                 \n",
       "1                                                  4                                 \n",
       "2                                                  4                                 \n",
       "3                                                  4                                 \n",
       "4                                                  4                                 \n",
       "\n",
       "   Are you satisfied with the speed of the printing services shop คุณพึงพอใจกับความเร็วของร้านถ่ายเอกสารหรือไม่  \\\n",
       "0                                                  3                                                              \n",
       "1                                                  4                                                              \n",
       "2                                                  5                                                              \n",
       "3                                                  3                                                              \n",
       "4                                                  3                                                              \n",
       "\n",
       "   Does cooperative shop has the item or goods you want สหกรณ์มีสินค้าที่คุณต้องการหรือไม่  \\\n",
       "0                                 Sometimes บางครั้ง                                         \n",
       "1                                 Sometimes บางครั้ง                                         \n",
       "2                                  Always มีตลอดเวลา                                         \n",
       "3                                 Sometimes บางครั้ง                                         \n",
       "4                                 Sometimes บางครั้ง                                         \n",
       "\n",
       "   Overall opinion about TNI ความคิดเห็นเกี่ยวกับTNI  \n",
       "0                                                  4  \n",
       "1                                                  5  \n",
       "2                                                  5  \n",
       "3                                                  4  \n",
       "4                                                  5  \n",
       "\n",
       "[5 rows x 31 columns]"
      ]
     },
     "execution_count": 4,
     "metadata": {},
     "output_type": "execute_result"
    }
   ],
   "source": [
    "df_student = pd.read_csv(\"TNIstudent.csv\")\n",
    "df_student.head()"
   ]
  },
  {
   "attachments": {},
   "cell_type": "markdown",
   "metadata": {},
   "source": [
    "# imputation"
   ]
  },
  {
   "cell_type": "code",
   "execution_count": 5,
   "metadata": {},
   "outputs": [
    {
     "data": {
      "text/html": [
       "<div>\n",
       "<style scoped>\n",
       "    .dataframe tbody tr th:only-of-type {\n",
       "        vertical-align: middle;\n",
       "    }\n",
       "\n",
       "    .dataframe tbody tr th {\n",
       "        vertical-align: top;\n",
       "    }\n",
       "\n",
       "    .dataframe thead th {\n",
       "        text-align: right;\n",
       "    }\n",
       "</style>\n",
       "<table border=\"1\" class=\"dataframe\">\n",
       "  <thead>\n",
       "    <tr style=\"text-align: right;\">\n",
       "      <th></th>\n",
       "      <th>S.No</th>\n",
       "      <th>Year</th>\n",
       "      <th>Month</th>\n",
       "      <th>Day</th>\n",
       "      <th>Hour</th>\n",
       "      <th>Minute</th>\n",
       "      <th>Second</th>\n",
       "      <th>PM1</th>\n",
       "      <th>PM2.5</th>\n",
       "      <th>PM10</th>\n",
       "      <th>Temp</th>\n",
       "      <th>Humidity</th>\n",
       "      <th>Light</th>\n",
       "      <th>CO</th>\n",
       "      <th>Water Temp</th>\n",
       "      <th>pH</th>\n",
       "    </tr>\n",
       "  </thead>\n",
       "  <tbody>\n",
       "    <tr>\n",
       "      <th>0</th>\n",
       "      <td>1</td>\n",
       "      <td>2019</td>\n",
       "      <td>11</td>\n",
       "      <td>26</td>\n",
       "      <td>10</td>\n",
       "      <td>27</td>\n",
       "      <td>20</td>\n",
       "      <td>8.0</td>\n",
       "      <td>12</td>\n",
       "      <td>14</td>\n",
       "      <td>25</td>\n",
       "      <td>91</td>\n",
       "      <td>34.0</td>\n",
       "      <td>95.0</td>\n",
       "      <td>24.63</td>\n",
       "      <td>6.52</td>\n",
       "    </tr>\n",
       "    <tr>\n",
       "      <th>1</th>\n",
       "      <td>2</td>\n",
       "      <td>2019</td>\n",
       "      <td>11</td>\n",
       "      <td>26</td>\n",
       "      <td>10</td>\n",
       "      <td>28</td>\n",
       "      <td>12</td>\n",
       "      <td>9.0</td>\n",
       "      <td>12</td>\n",
       "      <td>15</td>\n",
       "      <td>25</td>\n",
       "      <td>91</td>\n",
       "      <td>34.0</td>\n",
       "      <td>95.0</td>\n",
       "      <td>24.63</td>\n",
       "      <td>6.59</td>\n",
       "    </tr>\n",
       "    <tr>\n",
       "      <th>2</th>\n",
       "      <td>3</td>\n",
       "      <td>2019</td>\n",
       "      <td>11</td>\n",
       "      <td>26</td>\n",
       "      <td>10</td>\n",
       "      <td>29</td>\n",
       "      <td>4</td>\n",
       "      <td>10.0</td>\n",
       "      <td>14</td>\n",
       "      <td>15</td>\n",
       "      <td>26</td>\n",
       "      <td>89</td>\n",
       "      <td>34.0</td>\n",
       "      <td>95.0</td>\n",
       "      <td>24.63</td>\n",
       "      <td>6.53</td>\n",
       "    </tr>\n",
       "    <tr>\n",
       "      <th>3</th>\n",
       "      <td>4</td>\n",
       "      <td>2019</td>\n",
       "      <td>11</td>\n",
       "      <td>26</td>\n",
       "      <td>10</td>\n",
       "      <td>29</td>\n",
       "      <td>56</td>\n",
       "      <td>8.0</td>\n",
       "      <td>12</td>\n",
       "      <td>12</td>\n",
       "      <td>26</td>\n",
       "      <td>90</td>\n",
       "      <td>34.0</td>\n",
       "      <td>95.0</td>\n",
       "      <td>24.56</td>\n",
       "      <td>6.59</td>\n",
       "    </tr>\n",
       "    <tr>\n",
       "      <th>4</th>\n",
       "      <td>5</td>\n",
       "      <td>2019</td>\n",
       "      <td>11</td>\n",
       "      <td>26</td>\n",
       "      <td>10</td>\n",
       "      <td>30</td>\n",
       "      <td>43</td>\n",
       "      <td>9.0</td>\n",
       "      <td>12</td>\n",
       "      <td>15</td>\n",
       "      <td>26</td>\n",
       "      <td>91</td>\n",
       "      <td>34.0</td>\n",
       "      <td>95.0</td>\n",
       "      <td>24.56</td>\n",
       "      <td>6.54</td>\n",
       "    </tr>\n",
       "    <tr>\n",
       "      <th>...</th>\n",
       "      <td>...</td>\n",
       "      <td>...</td>\n",
       "      <td>...</td>\n",
       "      <td>...</td>\n",
       "      <td>...</td>\n",
       "      <td>...</td>\n",
       "      <td>...</td>\n",
       "      <td>...</td>\n",
       "      <td>...</td>\n",
       "      <td>...</td>\n",
       "      <td>...</td>\n",
       "      <td>...</td>\n",
       "      <td>...</td>\n",
       "      <td>...</td>\n",
       "      <td>...</td>\n",
       "      <td>...</td>\n",
       "    </tr>\n",
       "    <tr>\n",
       "      <th>23531</th>\n",
       "      <td>23532</td>\n",
       "      <td>2019</td>\n",
       "      <td>12</td>\n",
       "      <td>10</td>\n",
       "      <td>8</td>\n",
       "      <td>8</td>\n",
       "      <td>23</td>\n",
       "      <td>18.0</td>\n",
       "      <td>27</td>\n",
       "      <td>28</td>\n",
       "      <td>45</td>\n",
       "      <td>-13</td>\n",
       "      <td>35.0</td>\n",
       "      <td>95.0</td>\n",
       "      <td>27.06</td>\n",
       "      <td>6.34</td>\n",
       "    </tr>\n",
       "    <tr>\n",
       "      <th>23532</th>\n",
       "      <td>23533</td>\n",
       "      <td>2019</td>\n",
       "      <td>12</td>\n",
       "      <td>10</td>\n",
       "      <td>8</td>\n",
       "      <td>9</td>\n",
       "      <td>9</td>\n",
       "      <td>19.0</td>\n",
       "      <td>33</td>\n",
       "      <td>48</td>\n",
       "      <td>47</td>\n",
       "      <td>9</td>\n",
       "      <td>35.0</td>\n",
       "      <td>95.0</td>\n",
       "      <td>27.06</td>\n",
       "      <td>6.35</td>\n",
       "    </tr>\n",
       "    <tr>\n",
       "      <th>23533</th>\n",
       "      <td>23534</td>\n",
       "      <td>2019</td>\n",
       "      <td>12</td>\n",
       "      <td>10</td>\n",
       "      <td>8</td>\n",
       "      <td>9</td>\n",
       "      <td>57</td>\n",
       "      <td>22.0</td>\n",
       "      <td>30</td>\n",
       "      <td>34</td>\n",
       "      <td>47</td>\n",
       "      <td>8</td>\n",
       "      <td>35.0</td>\n",
       "      <td>95.0</td>\n",
       "      <td>27.06</td>\n",
       "      <td>6.34</td>\n",
       "    </tr>\n",
       "    <tr>\n",
       "      <th>23534</th>\n",
       "      <td>23535</td>\n",
       "      <td>2019</td>\n",
       "      <td>12</td>\n",
       "      <td>10</td>\n",
       "      <td>8</td>\n",
       "      <td>10</td>\n",
       "      <td>49</td>\n",
       "      <td>21.0</td>\n",
       "      <td>35</td>\n",
       "      <td>47</td>\n",
       "      <td>51</td>\n",
       "      <td>6</td>\n",
       "      <td>34.0</td>\n",
       "      <td>95.0</td>\n",
       "      <td>27.06</td>\n",
       "      <td>6.38</td>\n",
       "    </tr>\n",
       "    <tr>\n",
       "      <th>23535</th>\n",
       "      <td>23536</td>\n",
       "      <td>2019</td>\n",
       "      <td>12</td>\n",
       "      <td>10</td>\n",
       "      <td>8</td>\n",
       "      <td>11</td>\n",
       "      <td>41</td>\n",
       "      <td>23.0</td>\n",
       "      <td>34</td>\n",
       "      <td>39</td>\n",
       "      <td>47</td>\n",
       "      <td>8</td>\n",
       "      <td>34.0</td>\n",
       "      <td>95.0</td>\n",
       "      <td>27.06</td>\n",
       "      <td>6.34</td>\n",
       "    </tr>\n",
       "  </tbody>\n",
       "</table>\n",
       "<p>23536 rows × 16 columns</p>\n",
       "</div>"
      ],
      "text/plain": [
       "        S.No  Year  Month  Day  Hour  Minute  Second   PM1  PM2.5  PM10  Temp  \\\n",
       "0          1  2019     11   26    10      27      20   8.0     12    14    25   \n",
       "1          2  2019     11   26    10      28      12   9.0     12    15    25   \n",
       "2          3  2019     11   26    10      29       4  10.0     14    15    26   \n",
       "3          4  2019     11   26    10      29      56   8.0     12    12    26   \n",
       "4          5  2019     11   26    10      30      43   9.0     12    15    26   \n",
       "...      ...   ...    ...  ...   ...     ...     ...   ...    ...   ...   ...   \n",
       "23531  23532  2019     12   10     8       8      23  18.0     27    28    45   \n",
       "23532  23533  2019     12   10     8       9       9  19.0     33    48    47   \n",
       "23533  23534  2019     12   10     8       9      57  22.0     30    34    47   \n",
       "23534  23535  2019     12   10     8      10      49  21.0     35    47    51   \n",
       "23535  23536  2019     12   10     8      11      41  23.0     34    39    47   \n",
       "\n",
       "       Humidity  Light    CO  Water Temp    pH  \n",
       "0            91   34.0  95.0       24.63  6.52  \n",
       "1            91   34.0  95.0       24.63  6.59  \n",
       "2            89   34.0  95.0       24.63  6.53  \n",
       "3            90   34.0  95.0       24.56  6.59  \n",
       "4            91   34.0  95.0       24.56  6.54  \n",
       "...         ...    ...   ...         ...   ...  \n",
       "23531       -13   35.0  95.0       27.06  6.34  \n",
       "23532         9   35.0  95.0       27.06  6.35  \n",
       "23533         8   35.0  95.0       27.06  6.34  \n",
       "23534         6   34.0  95.0       27.06  6.38  \n",
       "23535         8   34.0  95.0       27.06  6.34  \n",
       "\n",
       "[23536 rows x 16 columns]"
      ]
     },
     "execution_count": 5,
     "metadata": {},
     "output_type": "execute_result"
    }
   ],
   "source": [
    "threashold = 0.7\n",
    "# drop the column with the missing value higher than the threashold\n",
    "df_fish = df_fish[df_fish.columns[df_fish.isnull().mean() < threashold]]\n",
    "# drop the row with the missing value higher than the threashold\n",
    "df_fish = df_fish.loc[df_fish.isnull().mean(axis=1) < threashold]\n",
    "df_fish"
   ]
  },
  {
   "attachments": {},
   "cell_type": "markdown",
   "metadata": {},
   "source": [
    "# Numerical Impuration"
   ]
  },
  {
   "cell_type": "code",
   "execution_count": 6,
   "metadata": {},
   "outputs": [],
   "source": [
    "# Fill missing value with 0\n",
    "df_fish = df_fish.fillna(0)\n",
    "# Filling missing value with mean\n",
    "df_fish = df_fish.fillna(df_fish.median())"
   ]
  },
  {
   "attachments": {},
   "cell_type": "markdown",
   "metadata": {},
   "source": [
    "# Categorical Imputation"
   ]
  },
  {
   "cell_type": "code",
   "execution_count": 7,
   "metadata": {},
   "outputs": [],
   "source": [
    "# Max fill function for categorical columns\n",
    "df_student[\"Gender เพศ\"].fillna(df_student[\"Gender เพศ\"].value_counts().idxmax, inplace=True)"
   ]
  },
  {
   "attachments": {},
   "cell_type": "markdown",
   "metadata": {},
   "source": [
    "# Handling Outlier"
   ]
  },
  {
   "attachments": {},
   "cell_type": "markdown",
   "metadata": {},
   "source": [
    "## Standard diviation"
   ]
  },
  {
   "cell_type": "code",
   "execution_count": 8,
   "metadata": {},
   "outputs": [
    {
     "data": {
      "text/plain": [
       "count    23536.000000\n",
       "mean       375.356971\n",
       "std       4701.856481\n",
       "min          0.000000\n",
       "25%          6.380000\n",
       "50%          6.440000\n",
       "75%          6.510000\n",
       "max      62019.000000\n",
       "Name: pH, dtype: float64"
      ]
     },
     "execution_count": 8,
     "metadata": {},
     "output_type": "execute_result"
    }
   ],
   "source": [
    "df_fish['pH'].describe()"
   ]
  },
  {
   "cell_type": "code",
   "execution_count": 9,
   "metadata": {},
   "outputs": [
    {
     "data": {
      "image/png": "[encoded data removed]",
      "text/plain": [
       "<Figure size 432x288 with 1 Axes>"
      ]
     },
     "metadata": {
      "needs_background": "light"
     },
     "output_type": "display_data"
    }
   ],
   "source": [
    "# plot line chart of pH before removing outlier\n",
    "plt.plot( df_fish['S.No'], df_fish['pH'])\n",
    "plt.title('pH before removing outlier')\n",
    "plt.xlabel('S.No')\n",
    "plt.ylabel('pH')\n",
    "plt.show()"
   ]
  },
  {
   "cell_type": "code",
   "execution_count": 10,
   "metadata": {},
   "outputs": [
    {
     "data": {
      "text/plain": [
       "count    23400.000000\n",
       "mean        17.086225\n",
       "std        146.718784\n",
       "min          0.000000\n",
       "25%          6.380000\n",
       "50%          6.440000\n",
       "75%          6.510000\n",
       "max       2019.000000\n",
       "Name: pH, dtype: float64"
      ]
     },
     "execution_count": 10,
     "metadata": {},
     "output_type": "execute_result"
    }
   ],
   "source": [
    "# Droping outlier row with the standard diviation\n",
    "factor = 3\n",
    "upper_lim = df_fish['pH'].mean() + df_fish['pH'].std() * factor\n",
    "lower_lim = df_fish['pH'].mean() - df_fish['pH'].std() * factor\n",
    "df_fish_new = df_fish[(df_fish['pH'] < upper_lim) & (df_fish['pH'] > lower_lim)]\n",
    "df_fish_new['pH'].describe()"
   ]
  },
  {
   "cell_type": "code",
   "execution_count": 11,
   "metadata": {},
   "outputs": [
    {
     "data": {
      "image/png": "[encoded data removed]",
      "text/plain": [
       "<Figure size 432x288 with 1 Axes>"
      ]
     },
     "metadata": {
      "needs_background": "light"
     },
     "output_type": "display_data"
    }
   ],
   "source": [
    "# plot line chart of pH before removing outlier\n",
    "plt.plot(df_fish_new['S.No'], df_fish_new['pH'])\n",
    "plt.title('pH After removing outlier')\n",
    "plt.xlabel('S.No')\n",
    "plt.ylabel('pH')\n",
    "plt.show()"
   ]
  },
  {
   "attachments": {},
   "cell_type": "markdown",
   "metadata": {},
   "source": [
    "## Percentile"
   ]
  },
  {
   "cell_type": "code",
   "execution_count": 12,
   "metadata": {},
   "outputs": [
    {
     "data": {
      "text/plain": [
       "count     23536.000000\n",
       "mean       1045.768698\n",
       "std       15720.498528\n",
       "min           0.000000\n",
       "25%          24.750000\n",
       "50%          26.130000\n",
       "75%          27.190000\n",
       "max      292019.000000\n",
       "Name: Water Temp, dtype: float64"
      ]
     },
     "execution_count": 12,
     "metadata": {},
     "output_type": "execute_result"
    }
   ],
   "source": [
    "df_fish[\"Water Temp\"].describe()"
   ]
  },
  {
   "cell_type": "code",
   "execution_count": 13,
   "metadata": {},
   "outputs": [
    {
     "data": {
      "image/png": "[encoded data removed]",
      "text/plain": [
       "<Figure size 432x288 with 1 Axes>"
      ]
     },
     "metadata": {
      "needs_background": "light"
     },
     "output_type": "display_data"
    }
   ],
   "source": [
    "# plot line chart of Water Temp before removing outlier\n",
    "plt.plot(df_fish['S.No'], df_fish['Water Temp'])\n",
    "plt.title('Water Temp before removing outlier')\n",
    "plt.xlabel('S.No')\n",
    "plt.ylabel('Water Temp')\n",
    "plt.show()"
   ]
  },
  {
   "cell_type": "code",
   "execution_count": 14,
   "metadata": {},
   "outputs": [
    {
     "data": {
      "text/plain": [
       "count    21088.000000\n",
       "mean        26.015681\n",
       "std          1.471507\n",
       "min         23.380000\n",
       "25%         24.880000\n",
       "50%         26.130000\n",
       "75%         27.060000\n",
       "max         29.120190\n",
       "Name: Water Temp, dtype: float64"
      ]
     },
     "execution_count": 14,
     "metadata": {},
     "output_type": "execute_result"
    }
   ],
   "source": [
    "# Droping the outlier rows with the percentile\n",
    "upper_lim = df_fish[\"Water Temp\"].quantile(.95)\n",
    "lower_lim = df_fish[\"Water Temp\"].quantile(.05)\n",
    "df_fish_new = df_fish[(df_fish[\"Water Temp\"] < upper_lim) &( df_fish[\"Water Temp\"] > lower_lim)]\n",
    "df_fish_new[\"Water Temp\"].describe()\n"
   ]
  },
  {
   "cell_type": "code",
   "execution_count": 15,
   "metadata": {},
   "outputs": [
    {
     "data": {
      "image/png": "[encoded data removed]",
      "text/plain": [
       "<Figure size 432x288 with 1 Axes>"
      ]
     },
     "metadata": {
      "needs_background": "light"
     },
     "output_type": "display_data"
    }
   ],
   "source": [
    "# plot line chart of Water Temp after removing outlier\n",
    "plt.plot(df_fish_new['S.No'], df_fish_new['Water Temp'])\n",
    "plt.title('Water Temp after removing outlier')\n",
    "plt.xlabel('S.No')\n",
    "plt.ylabel('Water Temp')\n",
    "plt.show()"
   ]
  },
  {
   "attachments": {},
   "cell_type": "markdown",
   "metadata": {},
   "source": [
    "# Log Transform"
   ]
  },
  {
   "cell_type": "code",
   "execution_count": 16,
   "metadata": {},
   "outputs": [
    {
     "data": {
      "text/plain": [
       "count    23536.000000\n",
       "mean        33.841519\n",
       "std         39.406609\n",
       "min        -24.000000\n",
       "25%          3.000000\n",
       "50%         10.000000\n",
       "75%         81.000000\n",
       "max         95.000000\n",
       "Name: Humidity, dtype: float64"
      ]
     },
     "execution_count": 16,
     "metadata": {},
     "output_type": "execute_result"
    }
   ],
   "source": [
    "df_fish[\"Humidity\"].describe()"
   ]
  },
  {
   "cell_type": "code",
   "execution_count": 17,
   "metadata": {},
   "outputs": [
    {
     "data": {
      "text/html": [
       "<div>\n",
       "<style scoped>\n",
       "    .dataframe tbody tr th:only-of-type {\n",
       "        vertical-align: middle;\n",
       "    }\n",
       "\n",
       "    .dataframe tbody tr th {\n",
       "        vertical-align: top;\n",
       "    }\n",
       "\n",
       "    .dataframe thead th {\n",
       "        text-align: right;\n",
       "    }\n",
       "</style>\n",
       "<table border=\"1\" class=\"dataframe\">\n",
       "  <thead>\n",
       "    <tr style=\"text-align: right;\">\n",
       "      <th></th>\n",
       "      <th>Humidity</th>\n",
       "      <th>Humidity Log+1</th>\n",
       "      <th>Humidity Log</th>\n",
       "    </tr>\n",
       "  </thead>\n",
       "  <tbody>\n",
       "    <tr>\n",
       "      <th>23526</th>\n",
       "      <td>5</td>\n",
       "      <td>1.791759</td>\n",
       "      <td>3.401197</td>\n",
       "    </tr>\n",
       "    <tr>\n",
       "      <th>23527</th>\n",
       "      <td>8</td>\n",
       "      <td>2.197225</td>\n",
       "      <td>3.496508</td>\n",
       "    </tr>\n",
       "    <tr>\n",
       "      <th>23528</th>\n",
       "      <td>9</td>\n",
       "      <td>2.302585</td>\n",
       "      <td>3.526361</td>\n",
       "    </tr>\n",
       "    <tr>\n",
       "      <th>23529</th>\n",
       "      <td>3</td>\n",
       "      <td>1.386294</td>\n",
       "      <td>3.332205</td>\n",
       "    </tr>\n",
       "    <tr>\n",
       "      <th>23530</th>\n",
       "      <td>10</td>\n",
       "      <td>2.397895</td>\n",
       "      <td>3.555348</td>\n",
       "    </tr>\n",
       "    <tr>\n",
       "      <th>23531</th>\n",
       "      <td>-13</td>\n",
       "      <td>NaN</td>\n",
       "      <td>2.484907</td>\n",
       "    </tr>\n",
       "    <tr>\n",
       "      <th>23532</th>\n",
       "      <td>9</td>\n",
       "      <td>2.302585</td>\n",
       "      <td>3.526361</td>\n",
       "    </tr>\n",
       "    <tr>\n",
       "      <th>23533</th>\n",
       "      <td>8</td>\n",
       "      <td>2.197225</td>\n",
       "      <td>3.496508</td>\n",
       "    </tr>\n",
       "    <tr>\n",
       "      <th>23534</th>\n",
       "      <td>6</td>\n",
       "      <td>1.945910</td>\n",
       "      <td>3.433987</td>\n",
       "    </tr>\n",
       "    <tr>\n",
       "      <th>23535</th>\n",
       "      <td>8</td>\n",
       "      <td>2.197225</td>\n",
       "      <td>3.496508</td>\n",
       "    </tr>\n",
       "  </tbody>\n",
       "</table>\n",
       "</div>"
      ],
      "text/plain": [
       "       Humidity  Humidity Log+1  Humidity Log\n",
       "23526         5        1.791759      3.401197\n",
       "23527         8        2.197225      3.496508\n",
       "23528         9        2.302585      3.526361\n",
       "23529         3        1.386294      3.332205\n",
       "23530        10        2.397895      3.555348\n",
       "23531       -13             NaN      2.484907\n",
       "23532         9        2.302585      3.526361\n",
       "23533         8        2.197225      3.496508\n",
       "23534         6        1.945910      3.433987\n",
       "23535         8        2.197225      3.496508"
      ]
     },
     "execution_count": 17,
     "metadata": {},
     "output_type": "execute_result"
    }
   ],
   "source": [
    "df_fish_new[\"Humidity Log+1\"] = (df_fish[\"Humidity\"] + 1).transform(np.log)\n",
    "\n",
    "# Negative value handling\n",
    "# Note that the value are diffrent\n",
    "df_fish_new[\"Humidity Log\"] = (df_fish[\"Humidity\"] - df_fish[\"Humidity\"].min() + 1).transform(np.log)\n",
    "Humidity = df_fish_new[[\"Humidity\", \"Humidity Log+1\", \"Humidity Log\"]]\n",
    "Humidity.tail(10)"
   ]
  },
  {
   "cell_type": "code",
   "execution_count": 18,
   "metadata": {},
   "outputs": [
    {
     "data": {
      "text/plain": [
       "count    21088.000000\n",
       "mean         3.792692\n",
       "std          0.797705\n",
       "min          0.000000\n",
       "25%          3.295837\n",
       "50%          3.555348\n",
       "75%          4.672829\n",
       "max          4.762174\n",
       "Name: Humidity Log, dtype: float64"
      ]
     },
     "execution_count": 18,
     "metadata": {},
     "output_type": "execute_result"
    }
   ],
   "source": [
    "df_fish_new[\"Humidity Log\"].describe()"
   ]
  },
  {
   "attachments": {},
   "cell_type": "markdown",
   "metadata": {},
   "source": [
    "# Hot encoding: Grouping operation"
   ]
  },
  {
   "attachments": {},
   "cell_type": "markdown",
   "metadata": {},
   "source": [
    "## Categorical column grouping"
   ]
  },
  {
   "cell_type": "code",
   "execution_count": 26,
   "metadata": {},
   "outputs": [
    {
     "data": {
      "text/html": [
       "<div>\n",
       "<style scoped>\n",
       "    .dataframe tbody tr th:only-of-type {\n",
       "        vertical-align: middle;\n",
       "    }\n",
       "\n",
       "    .dataframe tbody tr th {\n",
       "        vertical-align: top;\n",
       "    }\n",
       "\n",
       "    .dataframe thead th {\n",
       "        text-align: right;\n",
       "    }\n",
       "</style>\n",
       "<table border=\"1\" class=\"dataframe\">\n",
       "  <thead>\n",
       "    <tr style=\"text-align: right;\">\n",
       "      <th>Mode of Transportation วิธีการเดินทาง</th>\n",
       "      <th>Car รถยนต์</th>\n",
       "      <th>Motorbike จักรยานยนต์</th>\n",
       "      <th>Public Transport การเดินทางสาธารณะ</th>\n",
       "      <th>Walk เดินเท้า</th>\n",
       "    </tr>\n",
       "    <tr>\n",
       "      <th>Major of Study สาขา</th>\n",
       "      <th></th>\n",
       "      <th></th>\n",
       "      <th></th>\n",
       "      <th></th>\n",
       "    </tr>\n",
       "  </thead>\n",
       "  <tbody>\n",
       "    <tr>\n",
       "      <th>DGE</th>\n",
       "      <td>4</td>\n",
       "      <td>0</td>\n",
       "      <td>0</td>\n",
       "      <td>9</td>\n",
       "    </tr>\n",
       "    <tr>\n",
       "      <th>DSA</th>\n",
       "      <td>0</td>\n",
       "      <td>5</td>\n",
       "      <td>4</td>\n",
       "      <td>34</td>\n",
       "    </tr>\n",
       "    <tr>\n",
       "      <th>IBN</th>\n",
       "      <td>3</td>\n",
       "      <td>0</td>\n",
       "      <td>8</td>\n",
       "      <td>0</td>\n",
       "    </tr>\n",
       "    <tr>\n",
       "      <th>IT</th>\n",
       "      <td>0</td>\n",
       "      <td>3</td>\n",
       "      <td>0</td>\n",
       "      <td>0</td>\n",
       "    </tr>\n",
       "    <tr>\n",
       "      <th>JIB</th>\n",
       "      <td>5</td>\n",
       "      <td>0</td>\n",
       "      <td>0</td>\n",
       "      <td>0</td>\n",
       "    </tr>\n",
       "    <tr>\n",
       "      <th>MIT</th>\n",
       "      <td>0</td>\n",
       "      <td>0</td>\n",
       "      <td>4</td>\n",
       "      <td>0</td>\n",
       "    </tr>\n",
       "    <tr>\n",
       "      <th>MT</th>\n",
       "      <td>3</td>\n",
       "      <td>0</td>\n",
       "      <td>0</td>\n",
       "      <td>13</td>\n",
       "    </tr>\n",
       "  </tbody>\n",
       "</table>\n",
       "</div>"
      ],
      "text/plain": [
       "Mode of Transportation วิธีการเดินทาง  Car รถยนต์  Motorbike จักรยานยนต์  \\\n",
       "Major of Study สาขา                                                        \n",
       "DGE                                             4                      0   \n",
       "DSA                                             0                      5   \n",
       "IBN                                             3                      0   \n",
       "IT                                              0                      3   \n",
       "JIB                                             5                      0   \n",
       "MIT                                             0                      0   \n",
       "MT                                              3                      0   \n",
       "\n",
       "Mode of Transportation วิธีการเดินทาง  Public Transport การเดินทางสาธารณะ  \\\n",
       "Major of Study สาขา                                                         \n",
       "DGE                                                                     0   \n",
       "DSA                                                                     4   \n",
       "IBN                                                                     8   \n",
       "IT                                                                      0   \n",
       "JIB                                                                     0   \n",
       "MIT                                                                     4   \n",
       "MT                                                                      0   \n",
       "\n",
       "Mode of Transportation วิธีการเดินทาง  Walk เดินเท้า  \n",
       "Major of Study สาขา                                   \n",
       "DGE                                                9  \n",
       "DSA                                               34  \n",
       "IBN                                                0  \n",
       "IT                                                 0  \n",
       "JIB                                                0  \n",
       "MIT                                                0  \n",
       "MT                                                13  "
      ]
     },
     "execution_count": 26,
     "metadata": {},
     "output_type": "execute_result"
    }
   ],
   "source": [
    "# Pivot table\n",
    "df_student.pivot_table(index=\"Major of Study สาขา\", columns=\"Mode of Transportation วิธีการเดินทาง\",\n",
    "                        values=\"Overall opinion about TNI ความคิดเห็นเกี่ยวกับTNI\", aggfunc=np.sum, fill_value=0)"
   ]
  },
  {
   "attachments": {},
   "cell_type": "markdown",
   "metadata": {},
   "source": [
    "## Numerical column grouping"
   ]
  },
  {
   "cell_type": "code",
   "execution_count": 29,
   "metadata": {},
   "outputs": [
    {
     "data": {
      "text/html": [
       "<div>\n",
       "<style scoped>\n",
       "    .dataframe tbody tr th:only-of-type {\n",
       "        vertical-align: middle;\n",
       "    }\n",
       "\n",
       "    .dataframe tbody tr th {\n",
       "        vertical-align: top;\n",
       "    }\n",
       "\n",
       "    .dataframe thead th {\n",
       "        text-align: right;\n",
       "    }\n",
       "</style>\n",
       "<table border=\"1\" class=\"dataframe\">\n",
       "  <thead>\n",
       "    <tr style=\"text-align: right;\">\n",
       "      <th></th>\n",
       "      <th>How satisfied with the library คุณพึงพอใจกับห้องสมุดขนาดไหน</th>\n",
       "      <th>How satisfied with the library คุณพึงพอใจกับห้องสมุดขนาดไหน</th>\n",
       "    </tr>\n",
       "  </thead>\n",
       "  <tbody>\n",
       "    <tr>\n",
       "      <th>DGE_sum</th>\n",
       "      <td>10.0</td>\n",
       "      <td>NaN</td>\n",
       "    </tr>\n",
       "    <tr>\n",
       "      <th>DSA_sum</th>\n",
       "      <td>42.0</td>\n",
       "      <td>NaN</td>\n",
       "    </tr>\n",
       "    <tr>\n",
       "      <th>IBN_sum</th>\n",
       "      <td>11.0</td>\n",
       "      <td>NaN</td>\n",
       "    </tr>\n",
       "    <tr>\n",
       "      <th>IT_sum</th>\n",
       "      <td>3.0</td>\n",
       "      <td>NaN</td>\n",
       "    </tr>\n",
       "    <tr>\n",
       "      <th>JIB_sum</th>\n",
       "      <td>3.0</td>\n",
       "      <td>NaN</td>\n",
       "    </tr>\n",
       "    <tr>\n",
       "      <th>MIT_sum</th>\n",
       "      <td>3.0</td>\n",
       "      <td>NaN</td>\n",
       "    </tr>\n",
       "    <tr>\n",
       "      <th>MT_sum</th>\n",
       "      <td>18.0</td>\n",
       "      <td>NaN</td>\n",
       "    </tr>\n",
       "    <tr>\n",
       "      <th>DGE_avg</th>\n",
       "      <td>NaN</td>\n",
       "      <td>3.333333</td>\n",
       "    </tr>\n",
       "    <tr>\n",
       "      <th>DSA_avg</th>\n",
       "      <td>NaN</td>\n",
       "      <td>4.200000</td>\n",
       "    </tr>\n",
       "    <tr>\n",
       "      <th>IBN_avg</th>\n",
       "      <td>NaN</td>\n",
       "      <td>3.666667</td>\n",
       "    </tr>\n",
       "  </tbody>\n",
       "</table>\n",
       "</div>"
      ],
      "text/plain": [
       "         How satisfied with the library คุณพึงพอใจกับห้องสมุดขนาดไหน  \\\n",
       "DGE_sum                                               10.0             \n",
       "DSA_sum                                               42.0             \n",
       "IBN_sum                                               11.0             \n",
       "IT_sum                                                 3.0             \n",
       "JIB_sum                                                3.0             \n",
       "MIT_sum                                                3.0             \n",
       "MT_sum                                                18.0             \n",
       "DGE_avg                                                NaN             \n",
       "DSA_avg                                                NaN             \n",
       "IBN_avg                                                NaN             \n",
       "\n",
       "         How satisfied with the library คุณพึงพอใจกับห้องสมุดขนาดไหน  \n",
       "DGE_sum                                                NaN            \n",
       "DSA_sum                                                NaN            \n",
       "IBN_sum                                                NaN            \n",
       "IT_sum                                                 NaN            \n",
       "JIB_sum                                                NaN            \n",
       "MIT_sum                                                NaN            \n",
       "MT_sum                                                 NaN            \n",
       "DGE_avg                                           3.333333            \n",
       "DSA_avg                                           4.200000            \n",
       "IBN_avg                                           3.666667            "
      ]
     },
     "execution_count": 29,
     "metadata": {},
     "output_type": "execute_result"
    }
   ],
   "source": [
    "# sum_col: list of column to sum\n",
    "# mean_col: list of column to average\n",
    "\n",
    "grouped = df_student.groupby(\"Major of Study สาขา\")\n",
    "sums = grouped[\"How satisfied with the library คุณพึงพอใจกับห้องสมุดขนาดไหน\"].sum().add_suffix(\"_sum\")\n",
    "avgs = grouped[\"How satisfied with the library คุณพึงพอใจกับห้องสมุดขนาดไหน\"].mean().add_suffix(\"_avg\")\n",
    "\n",
    "new_student_df = pd.concat([sums, avgs], axis=1)\n",
    "new_student_df.head(10)"
   ]
  },
  {
   "attachments": {},
   "cell_type": "markdown",
   "metadata": {},
   "source": [
    "# Feature Split"
   ]
  },
  {
   "cell_type": "code",
   "execution_count": 31,
   "metadata": {},
   "outputs": [
    {
     "data": {
      "text/plain": [
       "0    11/28/2022 10:01:43\n",
       "1    11/28/2022 13:14:43\n",
       "2    11/28/2022 13:19:31\n",
       "3    11/28/2022 13:20:51\n",
       "4    11/28/2022 13:20:52\n",
       "Name: Timestamp, dtype: object"
      ]
     },
     "execution_count": 31,
     "metadata": {},
     "output_type": "execute_result"
    }
   ],
   "source": [
    "df_student.Timestamp.head()"
   ]
  },
  {
   "cell_type": "code",
   "execution_count": 32,
   "metadata": {},
   "outputs": [
    {
     "data": {
      "text/plain": [
       "0     11/28/2022\n",
       "1     11/28/2022\n",
       "2     11/28/2022\n",
       "3     11/28/2022\n",
       "4     11/28/2022\n",
       "5     11/28/2022\n",
       "6     11/28/2022\n",
       "7     11/28/2022\n",
       "8     11/28/2022\n",
       "9     11/28/2022\n",
       "10    11/28/2022\n",
       "11    11/28/2022\n",
       "12    11/28/2022\n",
       "13    11/29/2022\n",
       "14    11/29/2022\n",
       "15    11/29/2022\n",
       "16    11/29/2022\n",
       "17    11/29/2022\n",
       "18    11/29/2022\n",
       "19    11/29/2022\n",
       "20    11/29/2022\n",
       "21    11/29/2022\n",
       "22    11/29/2022\n",
       "Name: Timestamp, dtype: object"
      ]
     },
     "execution_count": 32,
     "metadata": {},
     "output_type": "execute_result"
    }
   ],
   "source": [
    "# Extracting date\n",
    "df_student.Timestamp.str.split(\" \").map(lambda x:x[0])"
   ]
  },
  {
   "cell_type": "code",
   "execution_count": 33,
   "metadata": {},
   "outputs": [
    {
     "data": {
      "text/plain": [
       "0     10:01:43\n",
       "1     13:14:43\n",
       "2     13:19:31\n",
       "3     13:20:51\n",
       "4     13:20:52\n",
       "5     13:20:54\n",
       "6     13:22:59\n",
       "7     13:47:58\n",
       "8     14:05:57\n",
       "9     18:27:32\n",
       "10    20:25:23\n",
       "11    22:43:34\n",
       "12    23:21:08\n",
       "13     2:53:52\n",
       "14     9:18:50\n",
       "15     9:19:23\n",
       "16     9:20:50\n",
       "17     9:23:14\n",
       "18     9:24:19\n",
       "19     9:26:46\n",
       "20     9:33:51\n",
       "21     9:46:25\n",
       "22    10:28:21\n",
       "Name: Timestamp, dtype: object"
      ]
     },
     "execution_count": 33,
     "metadata": {},
     "output_type": "execute_result"
    }
   ],
   "source": [
    "# Extracting time\n",
    "df_student.Timestamp.str.split(\" \").map(lambda x:x[-1])"
   ]
  },
  {
   "attachments": {},
   "cell_type": "markdown",
   "metadata": {},
   "source": [
    "# Scaling"
   ]
  },
  {
   "attachments": {},
   "cell_type": "markdown",
   "metadata": {},
   "source": [
    "## Normalization"
   ]
  },
  {
   "cell_type": "code",
   "execution_count": 34,
   "metadata": {},
   "outputs": [
    {
     "data": {
      "text/plain": [
       "count    23536.000000\n",
       "mean        92.548372\n",
       "std         12.979871\n",
       "min          6.300000\n",
       "25%         95.000000\n",
       "50%         95.000000\n",
       "75%         95.000000\n",
       "max         95.002019\n",
       "Name: CO, dtype: float64"
      ]
     },
     "execution_count": 34,
     "metadata": {},
     "output_type": "execute_result"
    }
   ],
   "source": [
    "df_fish.CO.describe()"
   ]
  },
  {
   "cell_type": "code",
   "execution_count": 35,
   "metadata": {},
   "outputs": [
    {
     "data": {
      "text/plain": [
       "0    0.999977\n",
       "1    0.999977\n",
       "2    0.999977\n",
       "3    0.999977\n",
       "4    0.999977\n",
       "Name: CO_normalized, dtype: float64"
      ]
     },
     "execution_count": 35,
     "metadata": {},
     "output_type": "execute_result"
    }
   ],
   "source": [
    "df_fish_new[\"CO_normalized\"] = (df_fish[\"CO\"] - df_fish[\"CO\"].min()) / (df_fish[\"CO\"].max() - df_fish[\"CO\"].min())\n",
    "df_fish_new[\"CO_normalized\"].head()"
   ]
  },
  {
   "attachments": {},
   "cell_type": "markdown",
   "metadata": {},
   "source": [
    "## Standardization"
   ]
  },
  {
   "cell_type": "code",
   "execution_count": 36,
   "metadata": {},
   "outputs": [
    {
     "data": {
      "text/plain": [
       "0    0.188879\n",
       "1    0.188879\n",
       "2    0.188879\n",
       "3    0.188879\n",
       "4    0.188879\n",
       "Name: CO_standardize, dtype: float64"
      ]
     },
     "execution_count": 36,
     "metadata": {},
     "output_type": "execute_result"
    }
   ],
   "source": [
    "df_fish_new[\"CO_standardize\"] = (df_fish[\"CO\"] - df_fish[\"CO\"].mean()) / (df_fish[\"CO\"].std())\n",
    "df_fish_new[\"CO_standardize\"].head()"
   ]
  }
 ],
 "metadata": {
  "kernelspec": {
   "display_name": "am_keras_tf",
   "language": "python",
   "name": "python3"
  },
  "language_info": {
   "codemirror_mode": {
    "name": "ipython",
    "version": 3
   },
   "file_extension": ".py",
   "mimetype": "text/x-python",
   "name": "python",
   "nbconvert_exporter": "python",
   "pygments_lexer": "ipython3",
   "version": "3.7.11"
  },
  "orig_nbformat": 4,
  "vscode": {
   "interpreter": {
    "hash": "30cf1f57c47d08da85c82f6cd73d64711e7d22ae8049cbb8ad1d5cf59f4e4188"
   }
  }
 },
 "nbformat": 4,
 "nbformat_minor": 2
}
