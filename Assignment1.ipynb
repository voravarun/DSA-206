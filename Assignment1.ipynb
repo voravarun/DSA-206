{
 "cells": [
  {
   "cell_type": "code",
   "execution_count": 2,
   "metadata": {},
   "outputs": [],
   "source": [
    "import pandas as pd\n",
    "import numpy as np\n",
    "import seaborn as sns\n",
    "import matplotlib.pyplot as plt"
   ]
  },
  {
   "attachments": {},
   "cell_type": "markdown",
   "metadata": {},
   "source": [
    "# Import Data"
   ]
  },
  {
   "cell_type": "code",
   "execution_count": 3,
   "metadata": {},
   "outputs": [
    {
     "data": {
      "text/html": [
       "<div>\n",
       "<style scoped>\n",
       "    .dataframe tbody tr th:only-of-type {\n",
       "        vertical-align: middle;\n",
       "    }\n",
       "\n",
       "    .dataframe tbody tr th {\n",
       "        vertical-align: top;\n",
       "    }\n",
       "\n",
       "    .dataframe thead th {\n",
       "        text-align: right;\n",
       "    }\n",
       "</style>\n",
       "<table border=\"1\" class=\"dataframe\">\n",
       "  <thead>\n",
       "    <tr style=\"text-align: right;\">\n",
       "      <th></th>\n",
       "      <th>Gender</th>\n",
       "      <th>Degree</th>\n",
       "      <th>Major</th>\n",
       "      <th>Age</th>\n",
       "      <th>Transportation</th>\n",
       "      <th>TNIfoodShop</th>\n",
       "      <th>NearTNIfood</th>\n",
       "      <th>BeverageShop</th>\n",
       "      <th>VendingMachine</th>\n",
       "      <th>SportFacilities</th>\n",
       "      <th>...</th>\n",
       "      <th>LecturerStress</th>\n",
       "      <th>FamilyStress</th>\n",
       "      <th>JopProspect</th>\n",
       "      <th>LanguageProficiency</th>\n",
       "      <th>FirstAid</th>\n",
       "      <th>LibrarySatsfied</th>\n",
       "      <th>InternetSatisfied</th>\n",
       "      <th>PrintingServices</th>\n",
       "      <th>CooperativeShop</th>\n",
       "      <th>Overall</th>\n",
       "    </tr>\n",
       "  </thead>\n",
       "  <tbody>\n",
       "    <tr>\n",
       "      <th>0</th>\n",
       "      <td>Male/ชาย</td>\n",
       "      <td>Undergraduate/ปริญญาตรี</td>\n",
       "      <td>DSA</td>\n",
       "      <td>2001</td>\n",
       "      <td>Walk เดินเท้า</td>\n",
       "      <td>Hainanese chicken rice ข้าวมันไก่นายโส่ย</td>\n",
       "      <td>Green Steak shop สเต็กคุณพีซ (ร้านเขียว)</td>\n",
       "      <td>Infinity/เอมุ (Building E) ตึก E</td>\n",
       "      <td>7-11</td>\n",
       "      <td>Table Tennis</td>\n",
       "      <td>...</td>\n",
       "      <td>3</td>\n",
       "      <td>4</td>\n",
       "      <td>4</td>\n",
       "      <td>3</td>\n",
       "      <td>3</td>\n",
       "      <td>4</td>\n",
       "      <td>4</td>\n",
       "      <td>3</td>\n",
       "      <td>Sometimes บางครั้ง</td>\n",
       "      <td>4</td>\n",
       "    </tr>\n",
       "    <tr>\n",
       "      <th>1</th>\n",
       "      <td>Male/ชาย</td>\n",
       "      <td>Undergraduate/ปริญญาตรี</td>\n",
       "      <td>DGE</td>\n",
       "      <td>2004</td>\n",
       "      <td>Walk เดินเท้า</td>\n",
       "      <td>Hiramiya Japanese Food ร้านอาหารญี่ปุ่นฮิรามิยะ</td>\n",
       "      <td>Shop opposite blue building ร้านป้านิด (ร้านตร...</td>\n",
       "      <td>Infinity/เอมุ (Building E) ตึก E</td>\n",
       "      <td>7-11</td>\n",
       "      <td>Badminton court</td>\n",
       "      <td>...</td>\n",
       "      <td>1</td>\n",
       "      <td>2</td>\n",
       "      <td>5</td>\n",
       "      <td>5</td>\n",
       "      <td>3</td>\n",
       "      <td>5</td>\n",
       "      <td>4</td>\n",
       "      <td>4</td>\n",
       "      <td>Sometimes บางครั้ง</td>\n",
       "      <td>5</td>\n",
       "    </tr>\n",
       "    <tr>\n",
       "      <th>2</th>\n",
       "      <td>Female/หญิง</td>\n",
       "      <td>Undergraduate/ปริญญาตรี</td>\n",
       "      <td>JIB</td>\n",
       "      <td>2004</td>\n",
       "      <td>Car รถยนต์</td>\n",
       "      <td>Snack shop ขนม-นม-เนย</td>\n",
       "      <td>7-11</td>\n",
       "      <td>Coffee Shop (Building B) ตึก B</td>\n",
       "      <td>7-11</td>\n",
       "      <td>Gym</td>\n",
       "      <td>...</td>\n",
       "      <td>2</td>\n",
       "      <td>2</td>\n",
       "      <td>5</td>\n",
       "      <td>5</td>\n",
       "      <td>3</td>\n",
       "      <td>3</td>\n",
       "      <td>4</td>\n",
       "      <td>5</td>\n",
       "      <td>Always มีตลอดเวลา</td>\n",
       "      <td>5</td>\n",
       "    </tr>\n",
       "    <tr>\n",
       "      <th>3</th>\n",
       "      <td>Female/หญิง</td>\n",
       "      <td>Undergraduate/ปริญญาตรี</td>\n",
       "      <td>DSA</td>\n",
       "      <td>2002</td>\n",
       "      <td>Walk เดินเท้า</td>\n",
       "      <td>Hainanese chicken rice ข้าวมันไก่นายโส่ย</td>\n",
       "      <td>Green Steak shop สเต็กคุณพีซ (ร้านเขียว)</td>\n",
       "      <td>Coffee Shop (Building B) ตึก B</td>\n",
       "      <td>7-11</td>\n",
       "      <td>Badminton court</td>\n",
       "      <td>...</td>\n",
       "      <td>3</td>\n",
       "      <td>3</td>\n",
       "      <td>4</td>\n",
       "      <td>3</td>\n",
       "      <td>3</td>\n",
       "      <td>4</td>\n",
       "      <td>4</td>\n",
       "      <td>3</td>\n",
       "      <td>Sometimes บางครั้ง</td>\n",
       "      <td>4</td>\n",
       "    </tr>\n",
       "    <tr>\n",
       "      <th>4</th>\n",
       "      <td>Female/หญิง</td>\n",
       "      <td>Undergraduate/ปริญญาตรี</td>\n",
       "      <td>DSA</td>\n",
       "      <td>2002</td>\n",
       "      <td>Walk เดินเท้า</td>\n",
       "      <td>Hiramiya Japanese Food ร้านอาหารญี่ปุ่นฮิรามิยะ</td>\n",
       "      <td>Shop under blue building ร้านพี่นก (ร้านใต้ตึก...</td>\n",
       "      <td>Sunrise Coffee (Building A) ตึก A</td>\n",
       "      <td>7-11</td>\n",
       "      <td>Basketball / Volley ball</td>\n",
       "      <td>...</td>\n",
       "      <td>1</td>\n",
       "      <td>1</td>\n",
       "      <td>5</td>\n",
       "      <td>4</td>\n",
       "      <td>3</td>\n",
       "      <td>4</td>\n",
       "      <td>4</td>\n",
       "      <td>3</td>\n",
       "      <td>Sometimes บางครั้ง</td>\n",
       "      <td>5</td>\n",
       "    </tr>\n",
       "  </tbody>\n",
       "</table>\n",
       "<p>5 rows × 30 columns</p>\n",
       "</div>"
      ],
      "text/plain": [
       "        Gender                   Degree Major   Age Transportation  \\\n",
       "0     Male/ชาย  Undergraduate/ปริญญาตรี   DSA  2001  Walk เดินเท้า   \n",
       "1     Male/ชาย  Undergraduate/ปริญญาตรี   DGE  2004  Walk เดินเท้า   \n",
       "2  Female/หญิง  Undergraduate/ปริญญาตรี   JIB  2004     Car รถยนต์   \n",
       "3  Female/หญิง  Undergraduate/ปริญญาตรี   DSA  2002  Walk เดินเท้า   \n",
       "4  Female/หญิง  Undergraduate/ปริญญาตรี   DSA  2002  Walk เดินเท้า   \n",
       "\n",
       "                                       TNIfoodShop  \\\n",
       "0         Hainanese chicken rice ข้าวมันไก่นายโส่ย   \n",
       "1  Hiramiya Japanese Food ร้านอาหารญี่ปุ่นฮิรามิยะ   \n",
       "2                            Snack shop ขนม-นม-เนย   \n",
       "3         Hainanese chicken rice ข้าวมันไก่นายโส่ย   \n",
       "4  Hiramiya Japanese Food ร้านอาหารญี่ปุ่นฮิรามิยะ   \n",
       "\n",
       "                                         NearTNIfood  \\\n",
       "0           Green Steak shop สเต็กคุณพีซ (ร้านเขียว)   \n",
       "1  Shop opposite blue building ร้านป้านิด (ร้านตร...   \n",
       "2                                               7-11   \n",
       "3           Green Steak shop สเต็กคุณพีซ (ร้านเขียว)   \n",
       "4  Shop under blue building ร้านพี่นก (ร้านใต้ตึก...   \n",
       "\n",
       "                        BeverageShop VendingMachine           SportFacilities  \\\n",
       "0   Infinity/เอมุ (Building E) ตึก E           7-11              Table Tennis   \n",
       "1   Infinity/เอมุ (Building E) ตึก E           7-11           Badminton court   \n",
       "2     Coffee Shop (Building B) ตึก B           7-11                       Gym   \n",
       "3     Coffee Shop (Building B) ตึก B           7-11           Badminton court   \n",
       "4  Sunrise Coffee (Building A) ตึก A           7-11  Basketball / Volley ball   \n",
       "\n",
       "   ... LecturerStress FamilyStress JopProspect LanguageProficiency FirstAid  \\\n",
       "0  ...              3            4           4                   3        3   \n",
       "1  ...              1            2           5                   5        3   \n",
       "2  ...              2            2           5                   5        3   \n",
       "3  ...              3            3           4                   3        3   \n",
       "4  ...              1            1           5                   4        3   \n",
       "\n",
       "  LibrarySatsfied  InternetSatisfied  PrintingServices     CooperativeShop  \\\n",
       "0               4                  4                 3  Sometimes บางครั้ง   \n",
       "1               5                  4                 4  Sometimes บางครั้ง   \n",
       "2               3                  4                 5   Always มีตลอดเวลา   \n",
       "3               4                  4                 3  Sometimes บางครั้ง   \n",
       "4               4                  4                 3  Sometimes บางครั้ง   \n",
       "\n",
       "   Overall  \n",
       "0        4  \n",
       "1        5  \n",
       "2        5  \n",
       "3        4  \n",
       "4        5  \n",
       "\n",
       "[5 rows x 30 columns]"
      ]
     },
     "execution_count": 3,
     "metadata": {},
     "output_type": "execute_result"
    }
   ],
   "source": [
    "df = pd.read_csv(\"TNIstudent.csv\")\n",
    "df = df.drop(\"Timestamp\", axis=1)\n",
    "# Change Columns name\n",
    "df = df.rename(columns={\n",
    "    'Gender เพศ':'Gender',\n",
    "    'Degree ระดับการศึกษา':'Degree',\n",
    "    'Major of Study สาขา':'Major',\n",
    "    'Year of Birth ปีเกิด':'Age',\n",
    "    'Mode of Transportation วิธีการเดินทาง':'Transportation',\n",
    "    'Most favourite food shop in TNI ร้านอาหารที่ชอบในTNI':'TNIfoodShop',\n",
    "    'Most favourite food shop near TNI ร้านอาหารที่ชอบใกล้TNI':'NearTNIfood',\n",
    "    'Most favourite beverage shop ร้านเครื่องดื่มที่ชอบ':'BeverageShop',\n",
    "    'Most favourite vending machine ตู้กดอัตโนมัติที่ชอบ':'VendingMachine',\n",
    "    'Most Favourite Sport Facilities กีฬาที่ชอบ':'SportFacilities',\n",
    "    'Most favourite spot to relax สถานที่พักผ่อนที่ชอบ':'RelaxSpot',\n",
    "    'Time spending in the library per week (hours) เวลาที่ใช้ในห้องสมุดต่อสัปดาห์':'LibrarySpendingTime',\n",
    "    'study tools and Devices อุปกรณ์ที่ใช้ในการเรียนรู้':'StudyTools',\n",
    "    'Device Brand แบรนด์ของอุปกรณ์':'DeviceBrand',\n",
    "    'How do you spend per month คุณใช้จ่ายเท่าไรต่อเดือน':'MonthlySpending',\n",
    "    'Type of accommodation รูปแบบที่พักอาศัย':'Accommodation',\n",
    "    'Do you think the shops in the institute is expensive คุณคิดว่าสินค้าของร้านค้าในสถาบันมีราคาสูงหรือไม่':'ShopExpensive',\n",
    "    'Stress from Study ความเครียดจากการเรียน':'StudyStress',\n",
    "    'Stress from Workload and Homework ความเครียดจากงานและการบ้าน':'HomeworkStress',\n",
    "    'Stress from Social interaction ความเครียดจากสังคม':'SocialStress',\n",
    "    'Stress from Lecturer ความเครียดจากอาจารย์ผู้สอน':'LecturerStress',\n",
    "    'Stress from Family Situation ความเครียดจากครอบครัว':'FamilyStress',\n",
    "    'How satisfied with the job prospect of TNI คุณพึงพอใจกับโอกาสในการได้รับงานจากTNIหรือไม่':'JopProspect',\n",
    "    'How satisfied with the language proficiency in English and Japanese คุณพึงพอใจกับทักษะระดับภาษาอังกฤษและญี่ปุ่นขนาดไหน':'LanguageProficiency',\n",
    "    'How satisfied with the first aid room facility คุณพึงพอใจกับห้องปฐมพยาบาลหรือไม่':'FirstAid',\n",
    "    'How satisfied with the library คุณพึงพอใจกับห้องสมุดขนาดไหน':'LibrarySatsfied',\n",
    "    'How satisfied with the WiFi and Internet คุณพึงพอใจกับไวไฟและอินเตอร์เน็ตขนาดไหน':'InternetSatisfied',\n",
    "    'Are you satisfied with the speed of the printing services shop คุณพึงพอใจกับความเร็วของร้านถ่ายเอกสารหรือไม่':'PrintingServices',\n",
    "    'Does cooperative shop has the item or goods you want สหกรณ์มีสินค้าที่คุณต้องการหรือไม่':'CooperativeShop',\n",
    "    'Overall opinion about TNI ความคิดเห็นเกี่ยวกับTNI':'Overall'\n",
    "    })\n",
    "df.head()"
   ]
  },
  {
   "cell_type": "code",
   "execution_count": 4,
   "metadata": {},
   "outputs": [
    {
     "data": {
      "text/html": [
       "<div>\n",
       "<style scoped>\n",
       "    .dataframe tbody tr th:only-of-type {\n",
       "        vertical-align: middle;\n",
       "    }\n",
       "\n",
       "    .dataframe tbody tr th {\n",
       "        vertical-align: top;\n",
       "    }\n",
       "\n",
       "    .dataframe thead th {\n",
       "        text-align: right;\n",
       "    }\n",
       "</style>\n",
       "<table border=\"1\" class=\"dataframe\">\n",
       "  <thead>\n",
       "    <tr style=\"text-align: right;\">\n",
       "      <th></th>\n",
       "      <th>Gender</th>\n",
       "      <th>Degree</th>\n",
       "      <th>Major</th>\n",
       "      <th>Age</th>\n",
       "      <th>Transportation</th>\n",
       "      <th>TNIfoodShop</th>\n",
       "      <th>NearTNIfood</th>\n",
       "      <th>BeverageShop</th>\n",
       "      <th>VendingMachine</th>\n",
       "      <th>SportFacilities</th>\n",
       "      <th>...</th>\n",
       "      <th>LecturerStress</th>\n",
       "      <th>FamilyStress</th>\n",
       "      <th>JopProspect</th>\n",
       "      <th>LanguageProficiency</th>\n",
       "      <th>FirstAid</th>\n",
       "      <th>LibrarySatsfied</th>\n",
       "      <th>InternetSatisfied</th>\n",
       "      <th>PrintingServices</th>\n",
       "      <th>CooperativeShop</th>\n",
       "      <th>Overall</th>\n",
       "    </tr>\n",
       "  </thead>\n",
       "  <tbody>\n",
       "    <tr>\n",
       "      <th>0</th>\n",
       "      <td>Male</td>\n",
       "      <td>Undergraduate</td>\n",
       "      <td>DSA</td>\n",
       "      <td>21</td>\n",
       "      <td>Walk</td>\n",
       "      <td>Hainanese chicken rice</td>\n",
       "      <td>Green Steak shop</td>\n",
       "      <td>Infinity (Building E)</td>\n",
       "      <td>7-11</td>\n",
       "      <td>Table Tennis</td>\n",
       "      <td>...</td>\n",
       "      <td>3</td>\n",
       "      <td>4</td>\n",
       "      <td>4</td>\n",
       "      <td>3</td>\n",
       "      <td>3</td>\n",
       "      <td>4</td>\n",
       "      <td>4</td>\n",
       "      <td>3</td>\n",
       "      <td>Sometimes</td>\n",
       "      <td>4</td>\n",
       "    </tr>\n",
       "    <tr>\n",
       "      <th>1</th>\n",
       "      <td>Male</td>\n",
       "      <td>Undergraduate</td>\n",
       "      <td>DGE</td>\n",
       "      <td>18</td>\n",
       "      <td>Walk</td>\n",
       "      <td>Hiramiya Japanese Food</td>\n",
       "      <td>Shop opposite blue building</td>\n",
       "      <td>Infinity (Building E)</td>\n",
       "      <td>7-11</td>\n",
       "      <td>Badminton court</td>\n",
       "      <td>...</td>\n",
       "      <td>1</td>\n",
       "      <td>2</td>\n",
       "      <td>5</td>\n",
       "      <td>5</td>\n",
       "      <td>3</td>\n",
       "      <td>5</td>\n",
       "      <td>4</td>\n",
       "      <td>4</td>\n",
       "      <td>Sometimes</td>\n",
       "      <td>5</td>\n",
       "    </tr>\n",
       "    <tr>\n",
       "      <th>2</th>\n",
       "      <td>Female</td>\n",
       "      <td>Undergraduate</td>\n",
       "      <td>JIB</td>\n",
       "      <td>18</td>\n",
       "      <td>Car</td>\n",
       "      <td>Snack shop</td>\n",
       "      <td>7-11</td>\n",
       "      <td>Coffee Shop (Building B)</td>\n",
       "      <td>7-11</td>\n",
       "      <td>Gym</td>\n",
       "      <td>...</td>\n",
       "      <td>2</td>\n",
       "      <td>2</td>\n",
       "      <td>5</td>\n",
       "      <td>5</td>\n",
       "      <td>3</td>\n",
       "      <td>3</td>\n",
       "      <td>4</td>\n",
       "      <td>5</td>\n",
       "      <td>Always</td>\n",
       "      <td>5</td>\n",
       "    </tr>\n",
       "    <tr>\n",
       "      <th>3</th>\n",
       "      <td>Female</td>\n",
       "      <td>Undergraduate</td>\n",
       "      <td>DSA</td>\n",
       "      <td>20</td>\n",
       "      <td>Walk</td>\n",
       "      <td>Hainanese chicken rice</td>\n",
       "      <td>Green Steak shop</td>\n",
       "      <td>Coffee Shop (Building B)</td>\n",
       "      <td>7-11</td>\n",
       "      <td>Badminton court</td>\n",
       "      <td>...</td>\n",
       "      <td>3</td>\n",
       "      <td>3</td>\n",
       "      <td>4</td>\n",
       "      <td>3</td>\n",
       "      <td>3</td>\n",
       "      <td>4</td>\n",
       "      <td>4</td>\n",
       "      <td>3</td>\n",
       "      <td>Sometimes</td>\n",
       "      <td>4</td>\n",
       "    </tr>\n",
       "    <tr>\n",
       "      <th>4</th>\n",
       "      <td>Female</td>\n",
       "      <td>Undergraduate</td>\n",
       "      <td>DSA</td>\n",
       "      <td>20</td>\n",
       "      <td>Walk</td>\n",
       "      <td>Hiramiya Japanese Food</td>\n",
       "      <td>Shop under blue building</td>\n",
       "      <td>Sunrise Coffee (Building A)</td>\n",
       "      <td>7-11</td>\n",
       "      <td>Basketball / Volley ball</td>\n",
       "      <td>...</td>\n",
       "      <td>1</td>\n",
       "      <td>1</td>\n",
       "      <td>5</td>\n",
       "      <td>4</td>\n",
       "      <td>3</td>\n",
       "      <td>4</td>\n",
       "      <td>4</td>\n",
       "      <td>3</td>\n",
       "      <td>Sometimes</td>\n",
       "      <td>5</td>\n",
       "    </tr>\n",
       "  </tbody>\n",
       "</table>\n",
       "<p>5 rows × 30 columns</p>\n",
       "</div>"
      ],
      "text/plain": [
       "   Gender         Degree Major  Age Transportation             TNIfoodShop  \\\n",
       "0    Male  Undergraduate   DSA   21           Walk  Hainanese chicken rice   \n",
       "1    Male  Undergraduate   DGE   18           Walk  Hiramiya Japanese Food   \n",
       "2  Female  Undergraduate   JIB   18            Car              Snack shop   \n",
       "3  Female  Undergraduate   DSA   20           Walk  Hainanese chicken rice   \n",
       "4  Female  Undergraduate   DSA   20           Walk  Hiramiya Japanese Food   \n",
       "\n",
       "                   NearTNIfood                 BeverageShop VendingMachine  \\\n",
       "0             Green Steak shop        Infinity (Building E)           7-11   \n",
       "1  Shop opposite blue building        Infinity (Building E)           7-11   \n",
       "2                         7-11     Coffee Shop (Building B)           7-11   \n",
       "3             Green Steak shop     Coffee Shop (Building B)           7-11   \n",
       "4     Shop under blue building  Sunrise Coffee (Building A)           7-11   \n",
       "\n",
       "            SportFacilities  ... LecturerStress FamilyStress JopProspect  \\\n",
       "0              Table Tennis  ...              3            4           4   \n",
       "1           Badminton court  ...              1            2           5   \n",
       "2                       Gym  ...              2            2           5   \n",
       "3           Badminton court  ...              3            3           4   \n",
       "4  Basketball / Volley ball  ...              1            1           5   \n",
       "\n",
       "  LanguageProficiency FirstAid LibrarySatsfied  InternetSatisfied  \\\n",
       "0                   3        3               4                  4   \n",
       "1                   5        3               5                  4   \n",
       "2                   5        3               3                  4   \n",
       "3                   3        3               4                  4   \n",
       "4                   4        3               4                  4   \n",
       "\n",
       "   PrintingServices  CooperativeShop  Overall  \n",
       "0                 3        Sometimes        4  \n",
       "1                 4        Sometimes        5  \n",
       "2                 5           Always        5  \n",
       "3                 3        Sometimes        4  \n",
       "4                 3        Sometimes        5  \n",
       "\n",
       "[5 rows x 30 columns]"
      ]
     },
     "execution_count": 4,
     "metadata": {},
     "output_type": "execute_result"
    }
   ],
   "source": [
    "dithen = {\n",
    "    # Gender\n",
    "    'Male/ชาย':'Male',\n",
    "    'Female/หญิง':'Female',\n",
    "    'Prefer not to say/ไม่ระบุ':'Prefer not to say',\n",
    "    'LGBT/เพศทางเลือก':'LGBT',\n",
    "    # Degree\n",
    "    'Undergraduate/ปริญญาตรี':'Undergraduate',\n",
    "    'Master/ปริญญาโท':'Master',\n",
    "    # Transportation\n",
    "    'Walk เดินเท้า':'Walk',\n",
    "    'Public Transport การเดินทางสาธารณะ':'Public Transport',\n",
    "    'Bicycle จักรยาน':'Bicycle',\n",
    "    'Motorbike จักรยานยนต์':'Motorbike',\n",
    "    'Car รถยนต์':'Car',\n",
    "    # TNIfoodShop\n",
    "    'Hiramiya Japanese Food ร้านอาหารญี่ปุ่นฮิรามิยะ':'Hiramiya Japanese Food',\n",
    "    'Nima (Halal food) ร้านนิมา':'Nima (Halal food)',\n",
    "    'โอยาซึ (o yatsu)':'o yatsu',\n",
    "    'Kaizen ไข่เส้น':'Kaizen',\n",
    "    'Hainanese chicken rice ข้าวมันไก่นายโส่ย':'Hainanese chicken rice',\n",
    "    'Snack shop ขนม-นม-เนย':'Snack shop',\n",
    "    'Noodle shop ชิม ชาม นุ้ดเดิ้ล':'Noodle shop',\n",
    "    'Thai food shop ร้านคุณภา':'Thai food shop',\n",
    "    'Fast food building D ป้ากาณจน์ ตึก D':'Fast food building D',\n",
    "    'Thai omlet shop building Dร้านข้าวไข่เจียวตึก D':'Thai omlet shop building D',\n",
    "    # NearTNIfood\t\n",
    "    'Blue shop behind 7-11 เลิศวิลัย (ร้านฟ้า)':'Blue shop behind 7-11',\n",
    "    'Green Steak shop สเต็กคุณพีซ (ร้านเขียว)':'Green Steak shop',\n",
    "    'Kitty shop (japanese food) ร้านคิตตี้':'Kitty shop (japanese food)',\n",
    "    'Shop under blue building ร้านพี่นก (ร้านใต้ตึกฟ้า)':'Shop under blue building',\n",
    "    'Shop opposite blue building ร้านป้านิด (ร้านตรงข้ามตึกฟ้า)':'Shop opposite blue building',\n",
    "    'Shop next to pink building ครัวเจ๊น้อย (ร้านข้างตึกชมพู)':'Shop next to pink building',\n",
    "    'Beadouin steak and coffee เบดูอิน':'Beadouin steak and coffee',\n",
    "    'Noodle at soi 40 ก๋วยเตี๋ยวซอย40':'Noodle at soi 40',\n",
    "    'Food shop in front of soi 40 ร้านอาหารตามสั่งหน้าซอย40':'Food shop in front of soi 40',\n",
    "    'Papaya salad at soi 40 ร้านส้มตำซอย40':'Papaya salad at soi 40',\n",
    "    # BeverageShop\n",
    "    'Sunrise Coffee (Building A) ตึก A':'Sunrise Coffee (Building A)',\n",
    "    'Infinity/เอมุ (Building E) ตึก E':'Infinity (Building E)',\n",
    "    'Coffee Shop (Building B) ตึก B':'Coffee Shop (Building B)',\n",
    "    'Coffee Shop (Building D) ตึกD':'Coffee Shop (Building D)',\n",
    "    # LibrarySpendingTime\n",
    "    'less than 1 น้อยกว่า 1':'less than 1',\n",
    "    '15 - 20 hr':'15 - 20',\n",
    "    'More than 20 (มากกว่า 20 ชั่วโมง)':'More than 20',\n",
    "    # MonthlySpending\t\n",
    "    'less than 3,000 น้อยกว่า3,000':'less than 3,000',\n",
    "    'more than 10,000 มากกว่า10,000':'more than 10,000',\n",
    "    # Accommodation\t\n",
    "    'Dormitory หอพัก':'Dormitory',\n",
    "    'Condominium คอนโดมิเนียม':'Condominium',\n",
    "    'Detached House บ้านเดี่ยว':'Detached House',\n",
    "    'Apartment อพาร์ทเม้นท์':'Apartment',\n",
    "    'Town house ทาวน์เฮ้าส์':'Town house',\n",
    "    'Town home ทาวน์โฮม':'Town home',\n",
    "    # CooperativeShop\t\n",
    "    'Always มีตลอดเวลา':'Always',\n",
    "    'Sometimes บางครั้ง':'Sometimes',\n",
    "    'Never ไม่เคย':'Never'\n",
    "}\n",
    "\n",
    "# Replacing the value with the wanted value\n",
    "df['Gender'].replace(dithen,inplace=True)\n",
    "df['Degree'].replace(dithen,inplace=True)\n",
    "df['Age']=2022-df['Age']\n",
    "df['Transportation'].replace(dithen,inplace=True)\n",
    "df['TNIfoodShop'].replace(dithen,inplace=True)\n",
    "df['NearTNIfood'].replace(dithen,inplace=True)\n",
    "df['BeverageShop'].replace(dithen,inplace=True)\n",
    "df['LibrarySpendingTime'].replace(dithen,inplace=True)\n",
    "df['MonthlySpending'].replace(dithen,inplace=True)\n",
    "df['Accommodation'].replace(dithen,inplace=True)\n",
    "df['CooperativeShop'].replace(dithen,inplace=True)\n",
    "\n",
    "df.head()"
   ]
  },
  {
   "cell_type": "markdown",
   "metadata": {},
   "source": [
    "# Check the value in the column"
   ]
  },
  {
   "cell_type": "code",
   "execution_count": 5,
   "metadata": {},
   "outputs": [
    {
     "data": {
      "text/plain": [
       "Index(['Gender', 'Degree', 'Major', 'Age', 'Transportation', 'TNIfoodShop',\n",
       "       'NearTNIfood', 'BeverageShop', 'VendingMachine', 'SportFacilities',\n",
       "       'RelaxSpot', 'LibrarySpendingTime', 'StudyTools', 'DeviceBrand',\n",
       "       'MonthlySpending', 'Accommodation', 'ShopExpensive', 'StudyStress',\n",
       "       'HomeworkStress', 'SocialStress', 'LecturerStress', 'FamilyStress',\n",
       "       'JopProspect', 'LanguageProficiency', 'FirstAid', 'LibrarySatsfied',\n",
       "       'InternetSatisfied', 'PrintingServices', 'CooperativeShop', 'Overall'],\n",
       "      dtype='object')"
      ]
     },
     "execution_count": 5,
     "metadata": {},
     "output_type": "execute_result"
    }
   ],
   "source": [
    "df.columns"
   ]
  },
  {
   "cell_type": "code",
   "execution_count": 6,
   "metadata": {},
   "outputs": [
    {
     "data": {
      "text/plain": [
       "Gender                 object\n",
       "Degree                 object\n",
       "Major                  object\n",
       "Age                     int64\n",
       "Transportation         object\n",
       "TNIfoodShop            object\n",
       "NearTNIfood            object\n",
       "BeverageShop           object\n",
       "VendingMachine         object\n",
       "SportFacilities        object\n",
       "RelaxSpot              object\n",
       "LibrarySpendingTime    object\n",
       "StudyTools             object\n",
       "DeviceBrand            object\n",
       "MonthlySpending        object\n",
       "Accommodation          object\n",
       "ShopExpensive           int64\n",
       "StudyStress             int64\n",
       "HomeworkStress          int64\n",
       "SocialStress            int64\n",
       "LecturerStress          int64\n",
       "FamilyStress            int64\n",
       "JopProspect             int64\n",
       "LanguageProficiency     int64\n",
       "FirstAid                int64\n",
       "LibrarySatsfied         int64\n",
       "InternetSatisfied       int64\n",
       "PrintingServices        int64\n",
       "CooperativeShop        object\n",
       "Overall                 int64\n",
       "dtype: object"
      ]
     },
     "execution_count": 6,
     "metadata": {},
     "output_type": "execute_result"
    }
   ],
   "source": [
    "df.dtypes"
   ]
  },
  {
   "cell_type": "code",
   "execution_count": 7,
   "metadata": {},
   "outputs": [
    {
     "data": {
      "text/plain": [
       "array(['DSA', 'DGE', 'JIB', 'IBN', 'MT', 'MIT', 'IT'], dtype=object)"
      ]
     },
     "execution_count": 7,
     "metadata": {},
     "output_type": "execute_result"
    }
   ],
   "source": [
    "pd.unique(df['Major'])"
   ]
  },
  {
   "cell_type": "code",
   "execution_count": 8,
   "metadata": {},
   "outputs": [
    {
     "data": {
      "text/plain": [
       "DSA    10\n",
       "MT      4\n",
       "DGE     3\n",
       "IBN     3\n",
       "JIB     1\n",
       "MIT     1\n",
       "IT      1\n",
       "Name: Major, dtype: int64"
      ]
     },
     "execution_count": 8,
     "metadata": {},
     "output_type": "execute_result"
    }
   ],
   "source": [
    "df['Major'].value_counts()"
   ]
  },
  {
   "cell_type": "code",
   "execution_count": 9,
   "metadata": {},
   "outputs": [
    {
     "data": {
      "text/html": [
       "<div>\n",
       "<style scoped>\n",
       "    .dataframe tbody tr th:only-of-type {\n",
       "        vertical-align: middle;\n",
       "    }\n",
       "\n",
       "    .dataframe tbody tr th {\n",
       "        vertical-align: top;\n",
       "    }\n",
       "\n",
       "    .dataframe thead th {\n",
       "        text-align: right;\n",
       "    }\n",
       "</style>\n",
       "<table border=\"1\" class=\"dataframe\">\n",
       "  <thead>\n",
       "    <tr style=\"text-align: right;\">\n",
       "      <th></th>\n",
       "      <th>LibrarySpendingTime</th>\n",
       "      <th>StudyTools</th>\n",
       "      <th>DeviceBrand</th>\n",
       "      <th>MonthlySpending</th>\n",
       "      <th>Accommodation</th>\n",
       "      <th>ShopExpensive</th>\n",
       "      <th>StudyStress</th>\n",
       "      <th>HomeworkStress</th>\n",
       "      <th>SocialStress</th>\n",
       "    </tr>\n",
       "  </thead>\n",
       "  <tbody>\n",
       "    <tr>\n",
       "      <th>0</th>\n",
       "      <td>less than 1</td>\n",
       "      <td>Tablet, Laptop, PC, Smart Phone</td>\n",
       "      <td>Apple, Samsung, Acer, Asus</td>\n",
       "      <td>more than 10,000</td>\n",
       "      <td>Dormitory</td>\n",
       "      <td>2</td>\n",
       "      <td>4</td>\n",
       "      <td>3</td>\n",
       "      <td>2</td>\n",
       "    </tr>\n",
       "    <tr>\n",
       "      <th>1</th>\n",
       "      <td>1 - 5</td>\n",
       "      <td>Tablet, Laptop, Paper, PC, Smart Phone</td>\n",
       "      <td>Apple, Acer, Other</td>\n",
       "      <td>more than 10,000</td>\n",
       "      <td>Dormitory</td>\n",
       "      <td>2</td>\n",
       "      <td>3</td>\n",
       "      <td>1</td>\n",
       "      <td>1</td>\n",
       "    </tr>\n",
       "    <tr>\n",
       "      <th>2</th>\n",
       "      <td>less than 1</td>\n",
       "      <td>Tablet, Smart Phone</td>\n",
       "      <td>Samsung, Huawei</td>\n",
       "      <td>5,000 - 10,000</td>\n",
       "      <td>Condominium</td>\n",
       "      <td>3</td>\n",
       "      <td>1</td>\n",
       "      <td>1</td>\n",
       "      <td>1</td>\n",
       "    </tr>\n",
       "    <tr>\n",
       "      <th>3</th>\n",
       "      <td>10 - 15</td>\n",
       "      <td>Tablet, Laptop, Smart Phone</td>\n",
       "      <td>Apple, Lenovo</td>\n",
       "      <td>3,000 - 5,000</td>\n",
       "      <td>Dormitory</td>\n",
       "      <td>4</td>\n",
       "      <td>3</td>\n",
       "      <td>4</td>\n",
       "      <td>1</td>\n",
       "    </tr>\n",
       "    <tr>\n",
       "      <th>4</th>\n",
       "      <td>10 - 15</td>\n",
       "      <td>Tablet, Laptop</td>\n",
       "      <td>Apple, Acer</td>\n",
       "      <td>3,000 - 5,000</td>\n",
       "      <td>Dormitory</td>\n",
       "      <td>1</td>\n",
       "      <td>1</td>\n",
       "      <td>4</td>\n",
       "      <td>3</td>\n",
       "    </tr>\n",
       "  </tbody>\n",
       "</table>\n",
       "</div>"
      ],
      "text/plain": [
       "  LibrarySpendingTime                              StudyTools  \\\n",
       "0         less than 1         Tablet, Laptop, PC, Smart Phone   \n",
       "1               1 - 5  Tablet, Laptop, Paper, PC, Smart Phone   \n",
       "2         less than 1                     Tablet, Smart Phone   \n",
       "3             10 - 15             Tablet, Laptop, Smart Phone   \n",
       "4             10 - 15                          Tablet, Laptop   \n",
       "\n",
       "                  DeviceBrand   MonthlySpending Accommodation  ShopExpensive  \\\n",
       "0  Apple, Samsung, Acer, Asus  more than 10,000     Dormitory              2   \n",
       "1          Apple, Acer, Other  more than 10,000     Dormitory              2   \n",
       "2             Samsung, Huawei    5,000 - 10,000   Condominium              3   \n",
       "3               Apple, Lenovo     3,000 - 5,000     Dormitory              4   \n",
       "4                 Apple, Acer     3,000 - 5,000     Dormitory              1   \n",
       "\n",
       "   StudyStress  HomeworkStress  SocialStress  \n",
       "0            4               3             2  \n",
       "1            3               1             1  \n",
       "2            1               1             1  \n",
       "3            3               4             1  \n",
       "4            1               4             3  "
      ]
     },
     "execution_count": 9,
     "metadata": {},
     "output_type": "execute_result"
    }
   ],
   "source": [
    "#Show the hidden columns\n",
    "df.iloc[:, 11: 20].head()"
   ]
  },
  {
   "cell_type": "markdown",
   "metadata": {},
   "source": [
    "# View Format data"
   ]
  },
  {
   "cell_type": "code",
   "execution_count": 10,
   "metadata": {},
   "outputs": [
    {
     "data": {
      "text/html": [
       "<div>\n",
       "<style scoped>\n",
       "    .dataframe tbody tr th:only-of-type {\n",
       "        vertical-align: middle;\n",
       "    }\n",
       "\n",
       "    .dataframe tbody tr th {\n",
       "        vertical-align: top;\n",
       "    }\n",
       "\n",
       "    .dataframe thead th {\n",
       "        text-align: right;\n",
       "    }\n",
       "</style>\n",
       "<table border=\"1\" class=\"dataframe\">\n",
       "  <thead>\n",
       "    <tr style=\"text-align: right;\">\n",
       "      <th></th>\n",
       "      <th>Gender</th>\n",
       "      <th>Degree</th>\n",
       "      <th>Major</th>\n",
       "      <th>Age</th>\n",
       "      <th>Transportation</th>\n",
       "      <th>TNIfoodShop</th>\n",
       "      <th>NearTNIfood</th>\n",
       "      <th>BeverageShop</th>\n",
       "      <th>VendingMachine</th>\n",
       "    </tr>\n",
       "  </thead>\n",
       "  <tbody>\n",
       "    <tr>\n",
       "      <th>0</th>\n",
       "      <td>Male</td>\n",
       "      <td>Undergraduate</td>\n",
       "      <td>DSA</td>\n",
       "      <td>21</td>\n",
       "      <td>Walk</td>\n",
       "      <td>Hainanese chicken rice</td>\n",
       "      <td>Green Steak shop</td>\n",
       "      <td>Infinity (Building E)</td>\n",
       "      <td>7-11</td>\n",
       "    </tr>\n",
       "    <tr>\n",
       "      <th>1</th>\n",
       "      <td>Male</td>\n",
       "      <td>Undergraduate</td>\n",
       "      <td>DGE</td>\n",
       "      <td>18</td>\n",
       "      <td>Walk</td>\n",
       "      <td>Hiramiya Japanese Food</td>\n",
       "      <td>Shop opposite blue building</td>\n",
       "      <td>Infinity (Building E)</td>\n",
       "      <td>7-11</td>\n",
       "    </tr>\n",
       "    <tr>\n",
       "      <th>2</th>\n",
       "      <td>Female</td>\n",
       "      <td>Undergraduate</td>\n",
       "      <td>JIB</td>\n",
       "      <td>18</td>\n",
       "      <td>Car</td>\n",
       "      <td>Snack shop</td>\n",
       "      <td>7-11</td>\n",
       "      <td>Coffee Shop (Building B)</td>\n",
       "      <td>7-11</td>\n",
       "    </tr>\n",
       "    <tr>\n",
       "      <th>3</th>\n",
       "      <td>Female</td>\n",
       "      <td>Undergraduate</td>\n",
       "      <td>DSA</td>\n",
       "      <td>20</td>\n",
       "      <td>Walk</td>\n",
       "      <td>Hainanese chicken rice</td>\n",
       "      <td>Green Steak shop</td>\n",
       "      <td>Coffee Shop (Building B)</td>\n",
       "      <td>7-11</td>\n",
       "    </tr>\n",
       "    <tr>\n",
       "      <th>4</th>\n",
       "      <td>Female</td>\n",
       "      <td>Undergraduate</td>\n",
       "      <td>DSA</td>\n",
       "      <td>20</td>\n",
       "      <td>Walk</td>\n",
       "      <td>Hiramiya Japanese Food</td>\n",
       "      <td>Shop under blue building</td>\n",
       "      <td>Sunrise Coffee (Building A)</td>\n",
       "      <td>7-11</td>\n",
       "    </tr>\n",
       "  </tbody>\n",
       "</table>\n",
       "</div>"
      ],
      "text/plain": [
       "   Gender         Degree Major  Age Transportation             TNIfoodShop  \\\n",
       "0    Male  Undergraduate   DSA   21           Walk  Hainanese chicken rice   \n",
       "1    Male  Undergraduate   DGE   18           Walk  Hiramiya Japanese Food   \n",
       "2  Female  Undergraduate   JIB   18            Car              Snack shop   \n",
       "3  Female  Undergraduate   DSA   20           Walk  Hainanese chicken rice   \n",
       "4  Female  Undergraduate   DSA   20           Walk  Hiramiya Japanese Food   \n",
       "\n",
       "                   NearTNIfood                 BeverageShop VendingMachine  \n",
       "0             Green Steak shop        Infinity (Building E)           7-11  \n",
       "1  Shop opposite blue building        Infinity (Building E)           7-11  \n",
       "2                         7-11     Coffee Shop (Building B)           7-11  \n",
       "3             Green Steak shop     Coffee Shop (Building B)           7-11  \n",
       "4     Shop under blue building  Sunrise Coffee (Building A)           7-11  "
      ]
     },
     "execution_count": 10,
     "metadata": {},
     "output_type": "execute_result"
    }
   ],
   "source": [
    "# Format Data View\n",
    "df.iloc[:, 0: 9].head()\n"
   ]
  },
  {
   "cell_type": "code",
   "execution_count": 11,
   "metadata": {},
   "outputs": [
    {
     "data": {
      "text/html": [
       "<div>\n",
       "<style scoped>\n",
       "    .dataframe tbody tr th:only-of-type {\n",
       "        vertical-align: middle;\n",
       "    }\n",
       "\n",
       "    .dataframe tbody tr th {\n",
       "        vertical-align: top;\n",
       "    }\n",
       "\n",
       "    .dataframe thead th {\n",
       "        text-align: right;\n",
       "    }\n",
       "</style>\n",
       "<table border=\"1\" class=\"dataframe\">\n",
       "  <thead>\n",
       "    <tr style=\"text-align: right;\">\n",
       "      <th></th>\n",
       "      <th>RelaxSpot</th>\n",
       "      <th>LibrarySpendingTime</th>\n",
       "      <th>StudyTools</th>\n",
       "      <th>DeviceBrand</th>\n",
       "      <th>MonthlySpending</th>\n",
       "      <th>Accommodation</th>\n",
       "      <th>ShopExpensive</th>\n",
       "      <th>StudyStress</th>\n",
       "      <th>HomeworkStress</th>\n",
       "      <th>SocialStress</th>\n",
       "    </tr>\n",
       "  </thead>\n",
       "  <tbody>\n",
       "    <tr>\n",
       "      <th>0</th>\n",
       "      <td>Vacant Classroom ห้องเรียนที่ว่าง</td>\n",
       "      <td>less than 1</td>\n",
       "      <td>Tablet, Laptop, PC, Smart Phone</td>\n",
       "      <td>Apple, Samsung, Acer, Asus</td>\n",
       "      <td>more than 10,000</td>\n",
       "      <td>Dormitory</td>\n",
       "      <td>2</td>\n",
       "      <td>4</td>\n",
       "      <td>3</td>\n",
       "      <td>2</td>\n",
       "    </tr>\n",
       "    <tr>\n",
       "      <th>1</th>\n",
       "      <td>E Building lounge เลานจ์ตึก E</td>\n",
       "      <td>1 - 5</td>\n",
       "      <td>Tablet, Laptop, Paper, PC, Smart Phone</td>\n",
       "      <td>Apple, Acer, Other</td>\n",
       "      <td>more than 10,000</td>\n",
       "      <td>Dormitory</td>\n",
       "      <td>2</td>\n",
       "      <td>3</td>\n",
       "      <td>1</td>\n",
       "      <td>1</td>\n",
       "    </tr>\n",
       "    <tr>\n",
       "      <th>2</th>\n",
       "      <td>E Building lounge เลานจ์ตึก E</td>\n",
       "      <td>less than 1</td>\n",
       "      <td>Tablet, Smart Phone</td>\n",
       "      <td>Samsung, Huawei</td>\n",
       "      <td>5,000 - 10,000</td>\n",
       "      <td>Condominium</td>\n",
       "      <td>3</td>\n",
       "      <td>1</td>\n",
       "      <td>1</td>\n",
       "      <td>1</td>\n",
       "    </tr>\n",
       "    <tr>\n",
       "      <th>3</th>\n",
       "      <td>library ห้องสมุด</td>\n",
       "      <td>10 - 15</td>\n",
       "      <td>Tablet, Laptop, Smart Phone</td>\n",
       "      <td>Apple, Lenovo</td>\n",
       "      <td>3,000 - 5,000</td>\n",
       "      <td>Dormitory</td>\n",
       "      <td>4</td>\n",
       "      <td>3</td>\n",
       "      <td>4</td>\n",
       "      <td>1</td>\n",
       "    </tr>\n",
       "    <tr>\n",
       "      <th>4</th>\n",
       "      <td>library ห้องสมุด</td>\n",
       "      <td>10 - 15</td>\n",
       "      <td>Tablet, Laptop</td>\n",
       "      <td>Apple, Acer</td>\n",
       "      <td>3,000 - 5,000</td>\n",
       "      <td>Dormitory</td>\n",
       "      <td>1</td>\n",
       "      <td>1</td>\n",
       "      <td>4</td>\n",
       "      <td>3</td>\n",
       "    </tr>\n",
       "  </tbody>\n",
       "</table>\n",
       "</div>"
      ],
      "text/plain": [
       "                           RelaxSpot LibrarySpendingTime  \\\n",
       "0  Vacant Classroom ห้องเรียนที่ว่าง         less than 1   \n",
       "1      E Building lounge เลานจ์ตึก E               1 - 5   \n",
       "2      E Building lounge เลานจ์ตึก E         less than 1   \n",
       "3                   library ห้องสมุด             10 - 15   \n",
       "4                   library ห้องสมุด             10 - 15   \n",
       "\n",
       "                               StudyTools                 DeviceBrand  \\\n",
       "0         Tablet, Laptop, PC, Smart Phone  Apple, Samsung, Acer, Asus   \n",
       "1  Tablet, Laptop, Paper, PC, Smart Phone          Apple, Acer, Other   \n",
       "2                     Tablet, Smart Phone             Samsung, Huawei   \n",
       "3             Tablet, Laptop, Smart Phone               Apple, Lenovo   \n",
       "4                          Tablet, Laptop                 Apple, Acer   \n",
       "\n",
       "    MonthlySpending Accommodation  ShopExpensive  StudyStress  HomeworkStress  \\\n",
       "0  more than 10,000     Dormitory              2            4               3   \n",
       "1  more than 10,000     Dormitory              2            3               1   \n",
       "2    5,000 - 10,000   Condominium              3            1               1   \n",
       "3     3,000 - 5,000     Dormitory              4            3               4   \n",
       "4     3,000 - 5,000     Dormitory              1            1               4   \n",
       "\n",
       "   SocialStress  \n",
       "0             2  \n",
       "1             1  \n",
       "2             1  \n",
       "3             1  \n",
       "4             3  "
      ]
     },
     "execution_count": 11,
     "metadata": {},
     "output_type": "execute_result"
    }
   ],
   "source": [
    "df.iloc[:, 10: 20].head()"
   ]
  },
  {
   "cell_type": "code",
   "execution_count": 12,
   "metadata": {},
   "outputs": [
    {
     "data": {
      "text/html": [
       "<div>\n",
       "<style scoped>\n",
       "    .dataframe tbody tr th:only-of-type {\n",
       "        vertical-align: middle;\n",
       "    }\n",
       "\n",
       "    .dataframe tbody tr th {\n",
       "        vertical-align: top;\n",
       "    }\n",
       "\n",
       "    .dataframe thead th {\n",
       "        text-align: right;\n",
       "    }\n",
       "</style>\n",
       "<table border=\"1\" class=\"dataframe\">\n",
       "  <thead>\n",
       "    <tr style=\"text-align: right;\">\n",
       "      <th></th>\n",
       "      <th>FamilyStress</th>\n",
       "      <th>JopProspect</th>\n",
       "      <th>LanguageProficiency</th>\n",
       "      <th>FirstAid</th>\n",
       "      <th>LibrarySatsfied</th>\n",
       "      <th>InternetSatisfied</th>\n",
       "      <th>PrintingServices</th>\n",
       "      <th>CooperativeShop</th>\n",
       "      <th>Overall</th>\n",
       "    </tr>\n",
       "  </thead>\n",
       "  <tbody>\n",
       "    <tr>\n",
       "      <th>0</th>\n",
       "      <td>4</td>\n",
       "      <td>4</td>\n",
       "      <td>3</td>\n",
       "      <td>3</td>\n",
       "      <td>4</td>\n",
       "      <td>4</td>\n",
       "      <td>3</td>\n",
       "      <td>Sometimes</td>\n",
       "      <td>4</td>\n",
       "    </tr>\n",
       "    <tr>\n",
       "      <th>1</th>\n",
       "      <td>2</td>\n",
       "      <td>5</td>\n",
       "      <td>5</td>\n",
       "      <td>3</td>\n",
       "      <td>5</td>\n",
       "      <td>4</td>\n",
       "      <td>4</td>\n",
       "      <td>Sometimes</td>\n",
       "      <td>5</td>\n",
       "    </tr>\n",
       "    <tr>\n",
       "      <th>2</th>\n",
       "      <td>2</td>\n",
       "      <td>5</td>\n",
       "      <td>5</td>\n",
       "      <td>3</td>\n",
       "      <td>3</td>\n",
       "      <td>4</td>\n",
       "      <td>5</td>\n",
       "      <td>Always</td>\n",
       "      <td>5</td>\n",
       "    </tr>\n",
       "    <tr>\n",
       "      <th>3</th>\n",
       "      <td>3</td>\n",
       "      <td>4</td>\n",
       "      <td>3</td>\n",
       "      <td>3</td>\n",
       "      <td>4</td>\n",
       "      <td>4</td>\n",
       "      <td>3</td>\n",
       "      <td>Sometimes</td>\n",
       "      <td>4</td>\n",
       "    </tr>\n",
       "    <tr>\n",
       "      <th>4</th>\n",
       "      <td>1</td>\n",
       "      <td>5</td>\n",
       "      <td>4</td>\n",
       "      <td>3</td>\n",
       "      <td>4</td>\n",
       "      <td>4</td>\n",
       "      <td>3</td>\n",
       "      <td>Sometimes</td>\n",
       "      <td>5</td>\n",
       "    </tr>\n",
       "  </tbody>\n",
       "</table>\n",
       "</div>"
      ],
      "text/plain": [
       "   FamilyStress  JopProspect  LanguageProficiency  FirstAid  LibrarySatsfied  \\\n",
       "0             4            4                    3         3                4   \n",
       "1             2            5                    5         3                5   \n",
       "2             2            5                    5         3                3   \n",
       "3             3            4                    3         3                4   \n",
       "4             1            5                    4         3                4   \n",
       "\n",
       "   InternetSatisfied  PrintingServices CooperativeShop  Overall  \n",
       "0                  4                 3       Sometimes        4  \n",
       "1                  4                 4       Sometimes        5  \n",
       "2                  4                 5          Always        5  \n",
       "3                  4                 3       Sometimes        4  \n",
       "4                  4                 3       Sometimes        5  "
      ]
     },
     "execution_count": 12,
     "metadata": {},
     "output_type": "execute_result"
    }
   ],
   "source": [
    "df.iloc[:, 21: ].head()"
   ]
  },
  {
   "cell_type": "markdown",
   "metadata": {},
   "source": [
    "# Visualization"
   ]
  },
  {
   "cell_type": "code",
   "execution_count": 13,
   "metadata": {},
   "outputs": [
    {
     "data": {
      "text/plain": [
       "array(['Undergraduate', 'Master'], dtype=object)"
      ]
     },
     "execution_count": 13,
     "metadata": {},
     "output_type": "execute_result"
    }
   ],
   "source": [
    "pd.unique(df['Degree'])"
   ]
  },
  {
   "attachments": {},
   "cell_type": "markdown",
   "metadata": {},
   "source": [
    "## Pie Chart"
   ]
  },
  {
   "cell_type": "code",
   "execution_count": 14,
   "metadata": {},
   "outputs": [
    {
     "data": {
      "image/png": "[encoded data removed]",
      "text/plain": [
       "<Figure size 432x288 with 1 Axes>"
      ]
     },
     "metadata": {},
     "output_type": "display_data"
    }
   ],
   "source": [
    "# For Gender Data\n",
    "# Defining the labels\n",
    "my_labels = 'Male', 'Female', 'Prefer not to say', 'LGBT'\n",
    "# Defining Color\n",
    "my_colors = ['#008000', '#800080', '#FF0000', '#335eff']\n",
    "# Plotting the pie chart for above dataframe\n",
    "plt.pie(df['Gender'].value_counts(), labels=my_labels, autopct='%1.1f%%', startangle=15, colors=my_colors)\n",
    "plt.title('Gender')\n",
    "plt.axis('equal')\n",
    "plt.show()"
   ]
  },
  {
   "cell_type": "code",
   "execution_count": 15,
   "metadata": {},
   "outputs": [
    {
     "data": {
      "image/png": "[encoded data removed]",
      "text/plain": [
       "<Figure size 432x288 with 1 Axes>"
      ]
     },
     "metadata": {},
     "output_type": "display_data"
    }
   ],
   "source": [
    "# Degree\n",
    "# Defining the labels\n",
    "my_labels = 'Undergraduate', 'Master'\n",
    "# Plotting the pie chart for above dataframe\n",
    "plt.pie(df['Degree'].value_counts(), labels=my_labels, autopct='%1.1f%%', startangle=15)\n",
    "plt.title('Degree')\n",
    "plt.axis('equal')\n",
    "plt.show()"
   ]
  },
  {
   "attachments": {},
   "cell_type": "markdown",
   "metadata": {},
   "source": [
    "## Histrogram"
   ]
  },
  {
   "cell_type": "code",
   "execution_count": 16,
   "metadata": {},
   "outputs": [],
   "source": [
    "import seaborn as sns\n",
    "sns.set_style('whitegrid')"
   ]
  },
  {
   "cell_type": "code",
   "execution_count": 17,
   "metadata": {},
   "outputs": [
    {
     "data": {
      "text/plain": [
       "<AxesSubplot:ylabel='Frequency'>"
      ]
     },
     "execution_count": 17,
     "metadata": {},
     "output_type": "execute_result"
    },
    {
     "data": {
      "image/png": "[encoded data removed]",
      "text/plain": [
       "<Figure size 432x288 with 1 Axes>"
      ]
     },
     "metadata": {},
     "output_type": "display_data"
    }
   ],
   "source": [
    "df['Age'].plot(kind='hist')"
   ]
  },
  {
   "attachments": {},
   "cell_type": "markdown",
   "metadata": {},
   "source": [
    "## BarChart"
   ]
  },
  {
   "cell_type": "code",
   "execution_count": 18,
   "metadata": {},
   "outputs": [
    {
     "data": {
      "text/html": [
       "<div>\n",
       "<style scoped>\n",
       "    .dataframe tbody tr th:only-of-type {\n",
       "        vertical-align: middle;\n",
       "    }\n",
       "\n",
       "    .dataframe tbody tr th {\n",
       "        vertical-align: top;\n",
       "    }\n",
       "\n",
       "    .dataframe thead th {\n",
       "        text-align: right;\n",
       "    }\n",
       "</style>\n",
       "<table border=\"1\" class=\"dataframe\">\n",
       "  <thead>\n",
       "    <tr style=\"text-align: right;\">\n",
       "      <th></th>\n",
       "      <th>BiningAge</th>\n",
       "    </tr>\n",
       "  </thead>\n",
       "  <tbody>\n",
       "    <tr>\n",
       "      <th>0</th>\n",
       "      <td>(20.0, 21.6]</td>\n",
       "    </tr>\n",
       "    <tr>\n",
       "      <th>1</th>\n",
       "      <td>(17.999, 18.4]</td>\n",
       "    </tr>\n",
       "    <tr>\n",
       "      <th>2</th>\n",
       "      <td>(17.999, 18.4]</td>\n",
       "    </tr>\n",
       "    <tr>\n",
       "      <th>3</th>\n",
       "      <td>(19.0, 20.0]</td>\n",
       "    </tr>\n",
       "    <tr>\n",
       "      <th>4</th>\n",
       "      <td>(19.0, 20.0]</td>\n",
       "    </tr>\n",
       "    <tr>\n",
       "      <th>5</th>\n",
       "      <td>(18.4, 19.0]</td>\n",
       "    </tr>\n",
       "    <tr>\n",
       "      <th>6</th>\n",
       "      <td>(18.4, 19.0]</td>\n",
       "    </tr>\n",
       "    <tr>\n",
       "      <th>7</th>\n",
       "      <td>(18.4, 19.0]</td>\n",
       "    </tr>\n",
       "    <tr>\n",
       "      <th>8</th>\n",
       "      <td>(17.999, 18.4]</td>\n",
       "    </tr>\n",
       "    <tr>\n",
       "      <th>9</th>\n",
       "      <td>(18.4, 19.0]</td>\n",
       "    </tr>\n",
       "  </tbody>\n",
       "</table>\n",
       "</div>"
      ],
      "text/plain": [
       "        BiningAge\n",
       "0    (20.0, 21.6]\n",
       "1  (17.999, 18.4]\n",
       "2  (17.999, 18.4]\n",
       "3    (19.0, 20.0]\n",
       "4    (19.0, 20.0]\n",
       "5    (18.4, 19.0]\n",
       "6    (18.4, 19.0]\n",
       "7    (18.4, 19.0]\n",
       "8  (17.999, 18.4]\n",
       "9    (18.4, 19.0]"
      ]
     },
     "execution_count": 18,
     "metadata": {},
     "output_type": "execute_result"
    }
   ],
   "source": [
    "# Divide Age into 5 bins\n",
    "bining_data = pd.qcut(df['Age'], q=5)\n",
    "# Create Dataframe\n",
    "bining_df =pd.DataFrame(bining_data)\n",
    "bining_df = bining_df.rename(columns={'Age':'BiningAge'})\n",
    "bining_df.head(10)"
   ]
  },
  {
   "cell_type": "code",
   "execution_count": 19,
   "metadata": {},
   "outputs": [
    {
     "data": {
      "text/plain": [
       "[(20.0, 21.6], (17.999, 18.4], (19.0, 20.0], (18.4, 19.0], (21.6, 28.0]]\n",
       "Categories (5, interval[float64]): [(17.999, 18.4] < (18.4, 19.0] < (19.0, 20.0] < (20.0, 21.6] < (21.6, 28.0]]"
      ]
     },
     "execution_count": 19,
     "metadata": {},
     "output_type": "execute_result"
    }
   ],
   "source": [
    "# Show the bining elements\n",
    "pd.unique(bining_df['BiningAge'])"
   ]
  },
  {
   "cell_type": "code",
   "execution_count": 20,
   "metadata": {},
   "outputs": [
    {
     "data": {
      "text/plain": [
       "(18.4, 19.0]      6\n",
       "(21.6, 28.0]      5\n",
       "(17.999, 18.4]    5\n",
       "(19.0, 20.0]      4\n",
       "(20.0, 21.6]      3\n",
       "Name: BiningAge, dtype: int64"
      ]
     },
     "execution_count": 20,
     "metadata": {},
     "output_type": "execute_result"
    }
   ],
   "source": [
    "# Count the value of each bins\n",
    "bining_df['BiningAge'].value_counts()"
   ]
  },
  {
   "cell_type": "code",
   "execution_count": 21,
   "metadata": {},
   "outputs": [
    {
     "data": {
      "image/png": "[encoded data removed]",
      "text/plain": [
       "<Figure size 432x288 with 1 Axes>"
      ]
     },
     "metadata": {},
     "output_type": "display_data"
    }
   ],
   "source": [
    "ax = sns.countplot(data=bining_df, x='BiningAge')\n",
    "ax.tick_params(axis='x', labelrotation=90)"
   ]
  },
  {
   "attachments": {},
   "cell_type": "markdown",
   "metadata": {},
   "source": [
    "## Box plot"
   ]
  },
  {
   "cell_type": "code",
   "execution_count": 22,
   "metadata": {},
   "outputs": [
    {
     "data": {
      "image/png": "[encoded data removed]",
      "text/plain": [
       "<Figure size 360x360 with 1 Axes>"
      ]
     },
     "metadata": {},
     "output_type": "display_data"
    }
   ],
   "source": [
    "fig = plt.figure(figsize =(5, 5))\n",
    "# Creating plot from Age\n",
    "plt.boxplot(df['Age'])\n",
    "# show plot\n",
    "plt.show()"
   ]
  },
  {
   "attachments": {},
   "cell_type": "markdown",
   "metadata": {},
   "source": [
    "## Scatter"
   ]
  },
  {
   "cell_type": "code",
   "execution_count": 34,
   "metadata": {},
   "outputs": [
    {
     "data": {
      "text/plain": [
       "<AxesSubplot:>"
      ]
     },
     "execution_count": 34,
     "metadata": {},
     "output_type": "execute_result"
    },
    {
     "data": {
      "image/png": "[encoded data removed]",
      "text/plain": [
       "<Figure size 432x288 with 1 Axes>"
      ]
     },
     "metadata": {},
     "output_type": "display_data"
    }
   ],
   "source": [
    "# set fig background as whitegrid\n",
    "sns.set(style='whitegrid')\n",
    "# Plot the scatter for tensportation\n",
    "sns.scatterplot(data=df['Transportation'])"
   ]
  },
  {
   "attachments": {},
   "cell_type": "markdown",
   "metadata": {},
   "source": [
    "## Bubble"
   ]
  },
  {
   "cell_type": "code",
   "execution_count": 44,
   "metadata": {},
   "outputs": [
    {
     "data": {
      "text/plain": [
       "<AxesSubplot:>"
      ]
     },
     "execution_count": 44,
     "metadata": {},
     "output_type": "execute_result"
    },
    {
     "data": {
      "image/png": "[encoded data removed]",
      "text/plain": [
       "<Figure size 432x288 with 1 Axes>"
      ]
     },
     "metadata": {},
     "output_type": "display_data"
    }
   ],
   "source": [
    "# change size of data points\n",
    "minsize = min(df['LibrarySatsfied'])\n",
    "maxsize = max(df['LibrarySatsfied'])\n",
    "sns.scatterplot(data=df['LibrarySatsfied'], sizes=(minsize*100, maxsize*100))"
   ]
  },
  {
   "attachments": {},
   "cell_type": "markdown",
   "metadata": {},
   "source": [
    "## Heatmap"
   ]
  },
  {
   "cell_type": "code",
   "execution_count": 45,
   "metadata": {},
   "outputs": [
    {
     "data": {
      "image/png": "[encoded data removed]",
      "text/plain": [
       "<Figure size 1080x1080 with 2 Axes>"
      ]
     },
     "metadata": {},
     "output_type": "display_data"
    }
   ],
   "source": [
    "corr = df.corr()\n",
    "plt.figure(figsize=(15,15))\n",
    "sns.heatmap(corr, annot=True,linewidth=.5)\n",
    "plt.show()"
   ]
  }
 ],
 "metadata": {
  "kernelspec": {
   "display_name": "am_keras_tf",
   "language": "python",
   "name": "python3"
  },
  "language_info": {
   "codemirror_mode": {
    "name": "ipython",
    "version": 3
   },
   "file_extension": ".py",
   "mimetype": "text/x-python",
   "name": "python",
   "nbconvert_exporter": "python",
   "pygments_lexer": "ipython3",
   "version": "3.7.11"
  },
  "orig_nbformat": 4,
  "vscode": {
   "interpreter": {
    "hash": "30cf1f57c47d08da85c82f6cd73d64711e7d22ae8049cbb8ad1d5cf59f4e4188"
   }
  }
 },
 "nbformat": 4,
 "nbformat_minor": 2
}
