{
 "cells": [
  {
   "cell_type": "code",
   "execution_count": 1,
   "metadata": {},
   "outputs": [],
   "source": [
    "import pandas as pd\n",
    "import numpy as np\n",
    "import seaborn as sns\n",
    "import matplotlib.pyplot as plt"
   ]
  },
  {
   "attachments": {},
   "cell_type": "markdown",
   "metadata": {},
   "source": [
    "# Import Data"
   ]
  },
  {
   "cell_type": "code",
   "execution_count": 2,
   "metadata": {},
   "outputs": [
    {
     "data": {
      "text/html": [
       "<div>\n",
       "<style scoped>\n",
       "    .dataframe tbody tr th:only-of-type {\n",
       "        vertical-align: middle;\n",
       "    }\n",
       "\n",
       "    .dataframe tbody tr th {\n",
       "        vertical-align: top;\n",
       "    }\n",
       "\n",
       "    .dataframe thead th {\n",
       "        text-align: right;\n",
       "    }\n",
       "</style>\n",
       "<table border=\"1\" class=\"dataframe\">\n",
       "  <thead>\n",
       "    <tr style=\"text-align: right;\">\n",
       "      <th></th>\n",
       "      <th>Gender</th>\n",
       "      <th>Degree</th>\n",
       "      <th>Major</th>\n",
       "      <th>Age</th>\n",
       "      <th>Transportation</th>\n",
       "      <th>TNIfoodShop</th>\n",
       "      <th>NearTNIfood</th>\n",
       "      <th>BeverageShop</th>\n",
       "      <th>VendingMachine</th>\n",
       "      <th>SportFacilities</th>\n",
       "      <th>...</th>\n",
       "      <th>LecturerStress</th>\n",
       "      <th>FamilyStress</th>\n",
       "      <th>JopProspect</th>\n",
       "      <th>LanguageProficiency</th>\n",
       "      <th>FirstAid</th>\n",
       "      <th>LibrarySatsfied</th>\n",
       "      <th>InternetSatisfied</th>\n",
       "      <th>PrintingServices</th>\n",
       "      <th>CooperativeShop</th>\n",
       "      <th>Overall</th>\n",
       "    </tr>\n",
       "  </thead>\n",
       "  <tbody>\n",
       "    <tr>\n",
       "      <th>0</th>\n",
       "      <td>Male/ชาย</td>\n",
       "      <td>Undergraduate/ปริญญาตรี</td>\n",
       "      <td>DSA</td>\n",
       "      <td>2001</td>\n",
       "      <td>Walk เดินเท้า</td>\n",
       "      <td>Hainanese chicken rice ข้าวมันไก่นายโส่ย</td>\n",
       "      <td>Green Steak shop สเต็กคุณพีซ (ร้านเขียว)</td>\n",
       "      <td>Infinity/เอมุ (Building E) ตึก E</td>\n",
       "      <td>7-11</td>\n",
       "      <td>Table Tennis</td>\n",
       "      <td>...</td>\n",
       "      <td>3</td>\n",
       "      <td>4</td>\n",
       "      <td>4</td>\n",
       "      <td>3</td>\n",
       "      <td>3</td>\n",
       "      <td>4</td>\n",
       "      <td>4</td>\n",
       "      <td>3</td>\n",
       "      <td>Sometimes บางครั้ง</td>\n",
       "      <td>4</td>\n",
       "    </tr>\n",
       "    <tr>\n",
       "      <th>1</th>\n",
       "      <td>Male/ชาย</td>\n",
       "      <td>Undergraduate/ปริญญาตรี</td>\n",
       "      <td>DGE</td>\n",
       "      <td>2004</td>\n",
       "      <td>Walk เดินเท้า</td>\n",
       "      <td>Hiramiya Japanese Food ร้านอาหารญี่ปุ่นฮิรามิยะ</td>\n",
       "      <td>Shop opposite blue building ร้านป้านิด (ร้านตร...</td>\n",
       "      <td>Infinity/เอมุ (Building E) ตึก E</td>\n",
       "      <td>7-11</td>\n",
       "      <td>Badminton court</td>\n",
       "      <td>...</td>\n",
       "      <td>1</td>\n",
       "      <td>2</td>\n",
       "      <td>5</td>\n",
       "      <td>5</td>\n",
       "      <td>3</td>\n",
       "      <td>5</td>\n",
       "      <td>4</td>\n",
       "      <td>4</td>\n",
       "      <td>Sometimes บางครั้ง</td>\n",
       "      <td>5</td>\n",
       "    </tr>\n",
       "    <tr>\n",
       "      <th>2</th>\n",
       "      <td>Female/หญิง</td>\n",
       "      <td>Undergraduate/ปริญญาตรี</td>\n",
       "      <td>JIB</td>\n",
       "      <td>2004</td>\n",
       "      <td>Car รถยนต์</td>\n",
       "      <td>Snack shop ขนม-นม-เนย</td>\n",
       "      <td>7-11</td>\n",
       "      <td>Coffee Shop (Building B) ตึก B</td>\n",
       "      <td>7-11</td>\n",
       "      <td>Gym</td>\n",
       "      <td>...</td>\n",
       "      <td>2</td>\n",
       "      <td>2</td>\n",
       "      <td>5</td>\n",
       "      <td>5</td>\n",
       "      <td>3</td>\n",
       "      <td>3</td>\n",
       "      <td>4</td>\n",
       "      <td>5</td>\n",
       "      <td>Always มีตลอดเวลา</td>\n",
       "      <td>5</td>\n",
       "    </tr>\n",
       "    <tr>\n",
       "      <th>3</th>\n",
       "      <td>Female/หญิง</td>\n",
       "      <td>Undergraduate/ปริญญาตรี</td>\n",
       "      <td>DSA</td>\n",
       "      <td>2002</td>\n",
       "      <td>Walk เดินเท้า</td>\n",
       "      <td>Hainanese chicken rice ข้าวมันไก่นายโส่ย</td>\n",
       "      <td>Green Steak shop สเต็กคุณพีซ (ร้านเขียว)</td>\n",
       "      <td>Coffee Shop (Building B) ตึก B</td>\n",
       "      <td>7-11</td>\n",
       "      <td>Badminton court</td>\n",
       "      <td>...</td>\n",
       "      <td>3</td>\n",
       "      <td>3</td>\n",
       "      <td>4</td>\n",
       "      <td>3</td>\n",
       "      <td>3</td>\n",
       "      <td>4</td>\n",
       "      <td>4</td>\n",
       "      <td>3</td>\n",
       "      <td>Sometimes บางครั้ง</td>\n",
       "      <td>4</td>\n",
       "    </tr>\n",
       "    <tr>\n",
       "      <th>4</th>\n",
       "      <td>Female/หญิง</td>\n",
       "      <td>Undergraduate/ปริญญาตรี</td>\n",
       "      <td>DSA</td>\n",
       "      <td>2002</td>\n",
       "      <td>Walk เดินเท้า</td>\n",
       "      <td>Hiramiya Japanese Food ร้านอาหารญี่ปุ่นฮิรามิยะ</td>\n",
       "      <td>Shop under blue building ร้านพี่นก (ร้านใต้ตึก...</td>\n",
       "      <td>Sunrise Coffee (Building A) ตึก A</td>\n",
       "      <td>7-11</td>\n",
       "      <td>Basketball / Volley ball</td>\n",
       "      <td>...</td>\n",
       "      <td>1</td>\n",
       "      <td>1</td>\n",
       "      <td>5</td>\n",
       "      <td>4</td>\n",
       "      <td>3</td>\n",
       "      <td>4</td>\n",
       "      <td>4</td>\n",
       "      <td>3</td>\n",
       "      <td>Sometimes บางครั้ง</td>\n",
       "      <td>5</td>\n",
       "    </tr>\n",
       "  </tbody>\n",
       "</table>\n",
       "<p>5 rows × 30 columns</p>\n",
       "</div>"
      ],
      "text/plain": [
       "        Gender                   Degree Major   Age Transportation  \\\n",
       "0     Male/ชาย  Undergraduate/ปริญญาตรี   DSA  2001  Walk เดินเท้า   \n",
       "1     Male/ชาย  Undergraduate/ปริญญาตรี   DGE  2004  Walk เดินเท้า   \n",
       "2  Female/หญิง  Undergraduate/ปริญญาตรี   JIB  2004     Car รถยนต์   \n",
       "3  Female/หญิง  Undergraduate/ปริญญาตรี   DSA  2002  Walk เดินเท้า   \n",
       "4  Female/หญิง  Undergraduate/ปริญญาตรี   DSA  2002  Walk เดินเท้า   \n",
       "\n",
       "                                       TNIfoodShop  \\\n",
       "0         Hainanese chicken rice ข้าวมันไก่นายโส่ย   \n",
       "1  Hiramiya Japanese Food ร้านอาหารญี่ปุ่นฮิรามิยะ   \n",
       "2                            Snack shop ขนม-นม-เนย   \n",
       "3         Hainanese chicken rice ข้าวมันไก่นายโส่ย   \n",
       "4  Hiramiya Japanese Food ร้านอาหารญี่ปุ่นฮิรามิยะ   \n",
       "\n",
       "                                         NearTNIfood  \\\n",
       "0           Green Steak shop สเต็กคุณพีซ (ร้านเขียว)   \n",
       "1  Shop opposite blue building ร้านป้านิด (ร้านตร...   \n",
       "2                                               7-11   \n",
       "3           Green Steak shop สเต็กคุณพีซ (ร้านเขียว)   \n",
       "4  Shop under blue building ร้านพี่นก (ร้านใต้ตึก...   \n",
       "\n",
       "                        BeverageShop VendingMachine           SportFacilities  \\\n",
       "0   Infinity/เอมุ (Building E) ตึก E           7-11              Table Tennis   \n",
       "1   Infinity/เอมุ (Building E) ตึก E           7-11           Badminton court   \n",
       "2     Coffee Shop (Building B) ตึก B           7-11                       Gym   \n",
       "3     Coffee Shop (Building B) ตึก B           7-11           Badminton court   \n",
       "4  Sunrise Coffee (Building A) ตึก A           7-11  Basketball / Volley ball   \n",
       "\n",
       "   ... LecturerStress FamilyStress JopProspect LanguageProficiency FirstAid  \\\n",
       "0  ...              3            4           4                   3        3   \n",
       "1  ...              1            2           5                   5        3   \n",
       "2  ...              2            2           5                   5        3   \n",
       "3  ...              3            3           4                   3        3   \n",
       "4  ...              1            1           5                   4        3   \n",
       "\n",
       "  LibrarySatsfied  InternetSatisfied  PrintingServices     CooperativeShop  \\\n",
       "0               4                  4                 3  Sometimes บางครั้ง   \n",
       "1               5                  4                 4  Sometimes บางครั้ง   \n",
       "2               3                  4                 5   Always มีตลอดเวลา   \n",
       "3               4                  4                 3  Sometimes บางครั้ง   \n",
       "4               4                  4                 3  Sometimes บางครั้ง   \n",
       "\n",
       "   Overall  \n",
       "0        4  \n",
       "1        5  \n",
       "2        5  \n",
       "3        4  \n",
       "4        5  \n",
       "\n",
       "[5 rows x 30 columns]"
      ]
     },
     "execution_count": 2,
     "metadata": {},
     "output_type": "execute_result"
    }
   ],
   "source": [
    "df = pd.read_csv(\"TNIstudent.csv\")\n",
    "df = df.drop(\"Timestamp\", axis=1)\n",
    "# Change Columns name\n",
    "df = df.rename(columns={\n",
    "    'Gender เพศ':'Gender',\n",
    "    'Degree ระดับการศึกษา':'Degree',\n",
    "    'Major of Study สาขา':'Major',\n",
    "    'Year of Birth ปีเกิด':'Age',\n",
    "    'Mode of Transportation วิธีการเดินทาง':'Transportation',\n",
    "    'Most favourite food shop in TNI ร้านอาหารที่ชอบในTNI':'TNIfoodShop',\n",
    "    'Most favourite food shop near TNI ร้านอาหารที่ชอบใกล้TNI':'NearTNIfood',\n",
    "    'Most favourite beverage shop ร้านเครื่องดื่มที่ชอบ':'BeverageShop',\n",
    "    'Most favourite vending machine ตู้กดอัตโนมัติที่ชอบ':'VendingMachine',\n",
    "    'Most Favourite Sport Facilities กีฬาที่ชอบ':'SportFacilities',\n",
    "    'Most favourite spot to relax สถานที่พักผ่อนที่ชอบ':'RelaxSpot',\n",
    "    'Time spending in the library per week (hours) เวลาที่ใช้ในห้องสมุดต่อสัปดาห์':'LibrarySpendingTime',\n",
    "    'study tools and Devices อุปกรณ์ที่ใช้ในการเรียนรู้':'StudyTools',\n",
    "    'Device Brand แบรนด์ของอุปกรณ์':'DeviceBrand',\n",
    "    'How do you spend per month คุณใช้จ่ายเท่าไรต่อเดือน':'MonthlySpending',\n",
    "    'Type of accommodation รูปแบบที่พักอาศัย':'Accommodation',\n",
    "    'Do you think the shops in the institute is expensive คุณคิดว่าสินค้าของร้านค้าในสถาบันมีราคาสูงหรือไม่':'ShopExpensive',\n",
    "    'Stress from Study ความเครียดจากการเรียน':'StudyStress',\n",
    "    'Stress from Workload and Homework ความเครียดจากงานและการบ้าน':'HomeworkStress',\n",
    "    'Stress from Social interaction ความเครียดจากสังคม':'SocialStress',\n",
    "    'Stress from Lecturer ความเครียดจากอาจารย์ผู้สอน':'LecturerStress',\n",
    "    'Stress from Family Situation ความเครียดจากครอบครัว':'FamilyStress',\n",
    "    'How satisfied with the job prospect of TNI คุณพึงพอใจกับโอกาสในการได้รับงานจากTNIหรือไม่':'JopProspect',\n",
    "    'How satisfied with the language proficiency in English and Japanese คุณพึงพอใจกับทักษะระดับภาษาอังกฤษและญี่ปุ่นขนาดไหน':'LanguageProficiency',\n",
    "    'How satisfied with the first aid room facility คุณพึงพอใจกับห้องปฐมพยาบาลหรือไม่':'FirstAid',\n",
    "    'How satisfied with the library คุณพึงพอใจกับห้องสมุดขนาดไหน':'LibrarySatsfied',\n",
    "    'How satisfied with the WiFi and Internet คุณพึงพอใจกับไวไฟและอินเตอร์เน็ตขนาดไหน':'InternetSatisfied',\n",
    "    'Are you satisfied with the speed of the printing services shop คุณพึงพอใจกับความเร็วของร้านถ่ายเอกสารหรือไม่':'PrintingServices',\n",
    "    'Does cooperative shop has the item or goods you want สหกรณ์มีสินค้าที่คุณต้องการหรือไม่':'CooperativeShop',\n",
    "    'Overall opinion about TNI ความคิดเห็นเกี่ยวกับTNI':'Overall'\n",
    "    })\n",
    "df.head()"
   ]
  },
  {
   "cell_type": "code",
   "execution_count": 3,
   "metadata": {},
   "outputs": [
    {
     "data": {
      "text/html": [
       "<div>\n",
       "<style scoped>\n",
       "    .dataframe tbody tr th:only-of-type {\n",
       "        vertical-align: middle;\n",
       "    }\n",
       "\n",
       "    .dataframe tbody tr th {\n",
       "        vertical-align: top;\n",
       "    }\n",
       "\n",
       "    .dataframe thead th {\n",
       "        text-align: right;\n",
       "    }\n",
       "</style>\n",
       "<table border=\"1\" class=\"dataframe\">\n",
       "  <thead>\n",
       "    <tr style=\"text-align: right;\">\n",
       "      <th></th>\n",
       "      <th>Gender</th>\n",
       "      <th>Degree</th>\n",
       "      <th>Major</th>\n",
       "      <th>Age</th>\n",
       "      <th>Transportation</th>\n",
       "      <th>TNIfoodShop</th>\n",
       "      <th>NearTNIfood</th>\n",
       "      <th>BeverageShop</th>\n",
       "      <th>VendingMachine</th>\n",
       "      <th>SportFacilities</th>\n",
       "      <th>...</th>\n",
       "      <th>LecturerStress</th>\n",
       "      <th>FamilyStress</th>\n",
       "      <th>JopProspect</th>\n",
       "      <th>LanguageProficiency</th>\n",
       "      <th>FirstAid</th>\n",
       "      <th>LibrarySatsfied</th>\n",
       "      <th>InternetSatisfied</th>\n",
       "      <th>PrintingServices</th>\n",
       "      <th>CooperativeShop</th>\n",
       "      <th>Overall</th>\n",
       "    </tr>\n",
       "  </thead>\n",
       "  <tbody>\n",
       "    <tr>\n",
       "      <th>0</th>\n",
       "      <td>Male</td>\n",
       "      <td>Undergraduate</td>\n",
       "      <td>DSA</td>\n",
       "      <td>21</td>\n",
       "      <td>Walk</td>\n",
       "      <td>Hainanese chicken rice</td>\n",
       "      <td>Green Steak shop</td>\n",
       "      <td>Infinity (Building E)</td>\n",
       "      <td>7-11</td>\n",
       "      <td>Table Tennis</td>\n",
       "      <td>...</td>\n",
       "      <td>3</td>\n",
       "      <td>4</td>\n",
       "      <td>4</td>\n",
       "      <td>3</td>\n",
       "      <td>3</td>\n",
       "      <td>4</td>\n",
       "      <td>4</td>\n",
       "      <td>3</td>\n",
       "      <td>Sometimes</td>\n",
       "      <td>4</td>\n",
       "    </tr>\n",
       "    <tr>\n",
       "      <th>1</th>\n",
       "      <td>Male</td>\n",
       "      <td>Undergraduate</td>\n",
       "      <td>DGE</td>\n",
       "      <td>18</td>\n",
       "      <td>Walk</td>\n",
       "      <td>Hiramiya Japanese Food</td>\n",
       "      <td>Shop opposite blue building</td>\n",
       "      <td>Infinity (Building E)</td>\n",
       "      <td>7-11</td>\n",
       "      <td>Badminton court</td>\n",
       "      <td>...</td>\n",
       "      <td>1</td>\n",
       "      <td>2</td>\n",
       "      <td>5</td>\n",
       "      <td>5</td>\n",
       "      <td>3</td>\n",
       "      <td>5</td>\n",
       "      <td>4</td>\n",
       "      <td>4</td>\n",
       "      <td>Sometimes</td>\n",
       "      <td>5</td>\n",
       "    </tr>\n",
       "    <tr>\n",
       "      <th>2</th>\n",
       "      <td>Female</td>\n",
       "      <td>Undergraduate</td>\n",
       "      <td>JIB</td>\n",
       "      <td>18</td>\n",
       "      <td>Car</td>\n",
       "      <td>Snack shop</td>\n",
       "      <td>7-11</td>\n",
       "      <td>Coffee Shop (Building B)</td>\n",
       "      <td>7-11</td>\n",
       "      <td>Gym</td>\n",
       "      <td>...</td>\n",
       "      <td>2</td>\n",
       "      <td>2</td>\n",
       "      <td>5</td>\n",
       "      <td>5</td>\n",
       "      <td>3</td>\n",
       "      <td>3</td>\n",
       "      <td>4</td>\n",
       "      <td>5</td>\n",
       "      <td>Always</td>\n",
       "      <td>5</td>\n",
       "    </tr>\n",
       "    <tr>\n",
       "      <th>3</th>\n",
       "      <td>Female</td>\n",
       "      <td>Undergraduate</td>\n",
       "      <td>DSA</td>\n",
       "      <td>20</td>\n",
       "      <td>Walk</td>\n",
       "      <td>Hainanese chicken rice</td>\n",
       "      <td>Green Steak shop</td>\n",
       "      <td>Coffee Shop (Building B)</td>\n",
       "      <td>7-11</td>\n",
       "      <td>Badminton court</td>\n",
       "      <td>...</td>\n",
       "      <td>3</td>\n",
       "      <td>3</td>\n",
       "      <td>4</td>\n",
       "      <td>3</td>\n",
       "      <td>3</td>\n",
       "      <td>4</td>\n",
       "      <td>4</td>\n",
       "      <td>3</td>\n",
       "      <td>Sometimes</td>\n",
       "      <td>4</td>\n",
       "    </tr>\n",
       "    <tr>\n",
       "      <th>4</th>\n",
       "      <td>Female</td>\n",
       "      <td>Undergraduate</td>\n",
       "      <td>DSA</td>\n",
       "      <td>20</td>\n",
       "      <td>Walk</td>\n",
       "      <td>Hiramiya Japanese Food</td>\n",
       "      <td>Shop under blue building</td>\n",
       "      <td>Sunrise Coffee (Building A)</td>\n",
       "      <td>7-11</td>\n",
       "      <td>Basketball / Volley ball</td>\n",
       "      <td>...</td>\n",
       "      <td>1</td>\n",
       "      <td>1</td>\n",
       "      <td>5</td>\n",
       "      <td>4</td>\n",
       "      <td>3</td>\n",
       "      <td>4</td>\n",
       "      <td>4</td>\n",
       "      <td>3</td>\n",
       "      <td>Sometimes</td>\n",
       "      <td>5</td>\n",
       "    </tr>\n",
       "  </tbody>\n",
       "</table>\n",
       "<p>5 rows × 30 columns</p>\n",
       "</div>"
      ],
      "text/plain": [
       "   Gender         Degree Major  Age Transportation             TNIfoodShop  \\\n",
       "0    Male  Undergraduate   DSA   21           Walk  Hainanese chicken rice   \n",
       "1    Male  Undergraduate   DGE   18           Walk  Hiramiya Japanese Food   \n",
       "2  Female  Undergraduate   JIB   18            Car              Snack shop   \n",
       "3  Female  Undergraduate   DSA   20           Walk  Hainanese chicken rice   \n",
       "4  Female  Undergraduate   DSA   20           Walk  Hiramiya Japanese Food   \n",
       "\n",
       "                   NearTNIfood                 BeverageShop VendingMachine  \\\n",
       "0             Green Steak shop        Infinity (Building E)           7-11   \n",
       "1  Shop opposite blue building        Infinity (Building E)           7-11   \n",
       "2                         7-11     Coffee Shop (Building B)           7-11   \n",
       "3             Green Steak shop     Coffee Shop (Building B)           7-11   \n",
       "4     Shop under blue building  Sunrise Coffee (Building A)           7-11   \n",
       "\n",
       "            SportFacilities  ... LecturerStress FamilyStress JopProspect  \\\n",
       "0              Table Tennis  ...              3            4           4   \n",
       "1           Badminton court  ...              1            2           5   \n",
       "2                       Gym  ...              2            2           5   \n",
       "3           Badminton court  ...              3            3           4   \n",
       "4  Basketball / Volley ball  ...              1            1           5   \n",
       "\n",
       "  LanguageProficiency FirstAid LibrarySatsfied  InternetSatisfied  \\\n",
       "0                   3        3               4                  4   \n",
       "1                   5        3               5                  4   \n",
       "2                   5        3               3                  4   \n",
       "3                   3        3               4                  4   \n",
       "4                   4        3               4                  4   \n",
       "\n",
       "   PrintingServices  CooperativeShop  Overall  \n",
       "0                 3        Sometimes        4  \n",
       "1                 4        Sometimes        5  \n",
       "2                 5           Always        5  \n",
       "3                 3        Sometimes        4  \n",
       "4                 3        Sometimes        5  \n",
       "\n",
       "[5 rows x 30 columns]"
      ]
     },
     "execution_count": 3,
     "metadata": {},
     "output_type": "execute_result"
    }
   ],
   "source": [
    "dithen = {\n",
    "    # Gender\n",
    "    'Male/ชาย':'Male',\n",
    "    'Female/หญิง':'Female',\n",
    "    'Prefer not to say/ไม่ระบุ':'Prefer not to say',\n",
    "    'LGBT/เพศทางเลือก':'LGBT',\n",
    "    # Degree\n",
    "    'Undergraduate/ปริญญาตรี':'Undergraduate',\n",
    "    'Master/ปริญญาโท':'Master',\n",
    "    # Transportation\n",
    "    'Walk เดินเท้า':'Walk',\n",
    "    'Public Transport การเดินทางสาธารณะ':'Public Transport',\n",
    "    'Bicycle จักรยาน':'Bicycle',\n",
    "    'Motorbike จักรยานยนต์':'Motorbike',\n",
    "    'Car รถยนต์':'Car',\n",
    "    # TNIfoodShop\n",
    "    'Hiramiya Japanese Food ร้านอาหารญี่ปุ่นฮิรามิยะ':'Hiramiya Japanese Food',\n",
    "    'Nima (Halal food) ร้านนิมา':'Nima (Halal food)',\n",
    "    'โอยาซึ (o yatsu)':'o yatsu',\n",
    "    'Kaizen ไข่เส้น':'Kaizen',\n",
    "    'Hainanese chicken rice ข้าวมันไก่นายโส่ย':'Hainanese chicken rice',\n",
    "    'Snack shop ขนม-นม-เนย':'Snack shop',\n",
    "    'Noodle shop ชิม ชาม นุ้ดเดิ้ล':'Noodle shop',\n",
    "    'Thai food shop ร้านคุณภา':'Thai food shop',\n",
    "    'Fast food building D ป้ากาณจน์ ตึก D':'Fast food building D',\n",
    "    'Thai omlet shop building Dร้านข้าวไข่เจียวตึก D':'Thai omlet shop building D',\n",
    "    # NearTNIfood\t\n",
    "    'Blue shop behind 7-11 เลิศวิลัย (ร้านฟ้า)':'Blue shop behind 7-11',\n",
    "    'Green Steak shop สเต็กคุณพีซ (ร้านเขียว)':'Green Steak shop',\n",
    "    'Kitty shop (japanese food) ร้านคิตตี้':'Kitty shop (japanese food)',\n",
    "    'Shop under blue building ร้านพี่นก (ร้านใต้ตึกฟ้า)':'Shop under blue building',\n",
    "    'Shop opposite blue building ร้านป้านิด (ร้านตรงข้ามตึกฟ้า)':'Shop opposite blue building',\n",
    "    'Shop next to pink building ครัวเจ๊น้อย (ร้านข้างตึกชมพู)':'Shop next to pink building',\n",
    "    'Beadouin steak and coffee เบดูอิน':'Beadouin steak and coffee',\n",
    "    'Noodle at soi 40 ก๋วยเตี๋ยวซอย40':'Noodle at soi 40',\n",
    "    'Food shop in front of soi 40 ร้านอาหารตามสั่งหน้าซอย40':'Food shop in front of soi 40',\n",
    "    'Papaya salad at soi 40 ร้านส้มตำซอย40':'Papaya salad at soi 40',\n",
    "    # BeverageShop\n",
    "    'Sunrise Coffee (Building A) ตึก A':'Sunrise Coffee (Building A)',\n",
    "    'Infinity/เอมุ (Building E) ตึก E':'Infinity (Building E)',\n",
    "    'Coffee Shop (Building B) ตึก B':'Coffee Shop (Building B)',\n",
    "    'Coffee Shop (Building D) ตึกD':'Coffee Shop (Building D)',\n",
    "    # LibrarySpendingTime\n",
    "    'less than 1 น้อยกว่า 1':'less than 1',\n",
    "    '15 - 20 hr':'15 - 20',\n",
    "    'More than 20 (มากกว่า 20 ชั่วโมง)':'More than 20',\n",
    "    # MonthlySpending\t\n",
    "    'less than 3,000 น้อยกว่า3,000':'less than 3,000',\n",
    "    'more than 10,000 มากกว่า10,000':'more than 10,000',\n",
    "    # Accommodation\t\n",
    "    'Dormitory หอพัก':'Dormitory',\n",
    "    'Condominium คอนโดมิเนียม':'Condominium',\n",
    "    'Detached House บ้านเดี่ยว':'Detached House',\n",
    "    'Apartment อพาร์ทเม้นท์':'Apartment',\n",
    "    'Town house ทาวน์เฮ้าส์':'Town house',\n",
    "    'Town home ทาวน์โฮม':'Town home',\n",
    "    # CooperativeShop\t\n",
    "    'Always มีตลอดเวลา':'Always',\n",
    "    'Sometimes บางครั้ง':'Sometimes',\n",
    "    'Never ไม่เคย':'Never'\n",
    "}\n",
    "\n",
    "# Replacing the value with the wanted value\n",
    "df['Gender'].replace(dithen,inplace=True)\n",
    "df['Degree'].replace(dithen,inplace=True)\n",
    "df['Age']=2022-df['Age']\n",
    "df['Transportation'].replace(dithen,inplace=True)\n",
    "df['TNIfoodShop'].replace(dithen,inplace=True)\n",
    "df['NearTNIfood'].replace(dithen,inplace=True)\n",
    "df['BeverageShop'].replace(dithen,inplace=True)\n",
    "df['LibrarySpendingTime'].replace(dithen,inplace=True)\n",
    "df['MonthlySpending'].replace(dithen,inplace=True)\n",
    "df['Accommodation'].replace(dithen,inplace=True)\n",
    "df['CooperativeShop'].replace(dithen,inplace=True)\n",
    "\n",
    "df.head()"
   ]
  },
  {
   "cell_type": "markdown",
   "metadata": {},
   "source": [
    "# Check the value in the column"
   ]
  },
  {
   "cell_type": "code",
   "execution_count": 4,
   "metadata": {},
   "outputs": [
    {
     "data": {
      "text/plain": [
       "Index(['Gender', 'Degree', 'Major', 'Age', 'Transportation', 'TNIfoodShop',\n",
       "       'NearTNIfood', 'BeverageShop', 'VendingMachine', 'SportFacilities',\n",
       "       'RelaxSpot', 'LibrarySpendingTime', 'StudyTools', 'DeviceBrand',\n",
       "       'MonthlySpending', 'Accommodation', 'ShopExpensive', 'StudyStress',\n",
       "       'HomeworkStress', 'SocialStress', 'LecturerStress', 'FamilyStress',\n",
       "       'JopProspect', 'LanguageProficiency', 'FirstAid', 'LibrarySatsfied',\n",
       "       'InternetSatisfied', 'PrintingServices', 'CooperativeShop', 'Overall'],\n",
       "      dtype='object')"
      ]
     },
     "execution_count": 4,
     "metadata": {},
     "output_type": "execute_result"
    }
   ],
   "source": [
    "df.columns"
   ]
  },
  {
   "cell_type": "code",
   "execution_count": 5,
   "metadata": {},
   "outputs": [
    {
     "data": {
      "text/plain": [
       "Gender                 object\n",
       "Degree                 object\n",
       "Major                  object\n",
       "Age                     int64\n",
       "Transportation         object\n",
       "TNIfoodShop            object\n",
       "NearTNIfood            object\n",
       "BeverageShop           object\n",
       "VendingMachine         object\n",
       "SportFacilities        object\n",
       "RelaxSpot              object\n",
       "LibrarySpendingTime    object\n",
       "StudyTools             object\n",
       "DeviceBrand            object\n",
       "MonthlySpending        object\n",
       "Accommodation          object\n",
       "ShopExpensive           int64\n",
       "StudyStress             int64\n",
       "HomeworkStress          int64\n",
       "SocialStress            int64\n",
       "LecturerStress          int64\n",
       "FamilyStress            int64\n",
       "JopProspect             int64\n",
       "LanguageProficiency     int64\n",
       "FirstAid                int64\n",
       "LibrarySatsfied         int64\n",
       "InternetSatisfied       int64\n",
       "PrintingServices        int64\n",
       "CooperativeShop        object\n",
       "Overall                 int64\n",
       "dtype: object"
      ]
     },
     "execution_count": 5,
     "metadata": {},
     "output_type": "execute_result"
    }
   ],
   "source": [
    "df.dtypes"
   ]
  },
  {
   "cell_type": "code",
   "execution_count": 6,
   "metadata": {},
   "outputs": [
    {
     "data": {
      "text/plain": [
       "array(['DSA', 'DGE', 'JIB', 'IBN', 'MT', 'MIT', 'IT'], dtype=object)"
      ]
     },
     "execution_count": 6,
     "metadata": {},
     "output_type": "execute_result"
    }
   ],
   "source": [
    "pd.unique(df['Major'])"
   ]
  },
  {
   "cell_type": "code",
   "execution_count": 7,
   "metadata": {},
   "outputs": [
    {
     "data": {
      "text/plain": [
       "DSA    10\n",
       "MT      4\n",
       "DGE     3\n",
       "IBN     3\n",
       "JIB     1\n",
       "MIT     1\n",
       "IT      1\n",
       "Name: Major, dtype: int64"
      ]
     },
     "execution_count": 7,
     "metadata": {},
     "output_type": "execute_result"
    }
   ],
   "source": [
    "df['Major'].value_counts()"
   ]
  },
  {
   "cell_type": "code",
   "execution_count": 8,
   "metadata": {},
   "outputs": [
    {
     "data": {
      "text/html": [
       "<div>\n",
       "<style scoped>\n",
       "    .dataframe tbody tr th:only-of-type {\n",
       "        vertical-align: middle;\n",
       "    }\n",
       "\n",
       "    .dataframe tbody tr th {\n",
       "        vertical-align: top;\n",
       "    }\n",
       "\n",
       "    .dataframe thead th {\n",
       "        text-align: right;\n",
       "    }\n",
       "</style>\n",
       "<table border=\"1\" class=\"dataframe\">\n",
       "  <thead>\n",
       "    <tr style=\"text-align: right;\">\n",
       "      <th></th>\n",
       "      <th>LibrarySpendingTime</th>\n",
       "      <th>StudyTools</th>\n",
       "      <th>DeviceBrand</th>\n",
       "      <th>MonthlySpending</th>\n",
       "      <th>Accommodation</th>\n",
       "      <th>ShopExpensive</th>\n",
       "      <th>StudyStress</th>\n",
       "      <th>HomeworkStress</th>\n",
       "      <th>SocialStress</th>\n",
       "    </tr>\n",
       "  </thead>\n",
       "  <tbody>\n",
       "    <tr>\n",
       "      <th>0</th>\n",
       "      <td>less than 1</td>\n",
       "      <td>Tablet, Laptop, PC, Smart Phone</td>\n",
       "      <td>Apple, Samsung, Acer, Asus</td>\n",
       "      <td>more than 10,000</td>\n",
       "      <td>Dormitory</td>\n",
       "      <td>2</td>\n",
       "      <td>4</td>\n",
       "      <td>3</td>\n",
       "      <td>2</td>\n",
       "    </tr>\n",
       "    <tr>\n",
       "      <th>1</th>\n",
       "      <td>1 - 5</td>\n",
       "      <td>Tablet, Laptop, Paper, PC, Smart Phone</td>\n",
       "      <td>Apple, Acer, Other</td>\n",
       "      <td>more than 10,000</td>\n",
       "      <td>Dormitory</td>\n",
       "      <td>2</td>\n",
       "      <td>3</td>\n",
       "      <td>1</td>\n",
       "      <td>1</td>\n",
       "    </tr>\n",
       "    <tr>\n",
       "      <th>2</th>\n",
       "      <td>less than 1</td>\n",
       "      <td>Tablet, Smart Phone</td>\n",
       "      <td>Samsung, Huawei</td>\n",
       "      <td>5,000 - 10,000</td>\n",
       "      <td>Condominium</td>\n",
       "      <td>3</td>\n",
       "      <td>1</td>\n",
       "      <td>1</td>\n",
       "      <td>1</td>\n",
       "    </tr>\n",
       "    <tr>\n",
       "      <th>3</th>\n",
       "      <td>10 - 15</td>\n",
       "      <td>Tablet, Laptop, Smart Phone</td>\n",
       "      <td>Apple, Lenovo</td>\n",
       "      <td>3,000 - 5,000</td>\n",
       "      <td>Dormitory</td>\n",
       "      <td>4</td>\n",
       "      <td>3</td>\n",
       "      <td>4</td>\n",
       "      <td>1</td>\n",
       "    </tr>\n",
       "    <tr>\n",
       "      <th>4</th>\n",
       "      <td>10 - 15</td>\n",
       "      <td>Tablet, Laptop</td>\n",
       "      <td>Apple, Acer</td>\n",
       "      <td>3,000 - 5,000</td>\n",
       "      <td>Dormitory</td>\n",
       "      <td>1</td>\n",
       "      <td>1</td>\n",
       "      <td>4</td>\n",
       "      <td>3</td>\n",
       "    </tr>\n",
       "  </tbody>\n",
       "</table>\n",
       "</div>"
      ],
      "text/plain": [
       "  LibrarySpendingTime                              StudyTools  \\\n",
       "0         less than 1         Tablet, Laptop, PC, Smart Phone   \n",
       "1               1 - 5  Tablet, Laptop, Paper, PC, Smart Phone   \n",
       "2         less than 1                     Tablet, Smart Phone   \n",
       "3             10 - 15             Tablet, Laptop, Smart Phone   \n",
       "4             10 - 15                          Tablet, Laptop   \n",
       "\n",
       "                  DeviceBrand   MonthlySpending Accommodation  ShopExpensive  \\\n",
       "0  Apple, Samsung, Acer, Asus  more than 10,000     Dormitory              2   \n",
       "1          Apple, Acer, Other  more than 10,000     Dormitory              2   \n",
       "2             Samsung, Huawei    5,000 - 10,000   Condominium              3   \n",
       "3               Apple, Lenovo     3,000 - 5,000     Dormitory              4   \n",
       "4                 Apple, Acer     3,000 - 5,000     Dormitory              1   \n",
       "\n",
       "   StudyStress  HomeworkStress  SocialStress  \n",
       "0            4               3             2  \n",
       "1            3               1             1  \n",
       "2            1               1             1  \n",
       "3            3               4             1  \n",
       "4            1               4             3  "
      ]
     },
     "execution_count": 8,
     "metadata": {},
     "output_type": "execute_result"
    }
   ],
   "source": [
    "#Show the hidden columns\n",
    "df.iloc[:, 11: 20].head()"
   ]
  },
  {
   "cell_type": "markdown",
   "metadata": {},
   "source": [
    "# View Format data"
   ]
  },
  {
   "cell_type": "code",
   "execution_count": 9,
   "metadata": {},
   "outputs": [
    {
     "data": {
      "text/html": [
       "<div>\n",
       "<style scoped>\n",
       "    .dataframe tbody tr th:only-of-type {\n",
       "        vertical-align: middle;\n",
       "    }\n",
       "\n",
       "    .dataframe tbody tr th {\n",
       "        vertical-align: top;\n",
       "    }\n",
       "\n",
       "    .dataframe thead th {\n",
       "        text-align: right;\n",
       "    }\n",
       "</style>\n",
       "<table border=\"1\" class=\"dataframe\">\n",
       "  <thead>\n",
       "    <tr style=\"text-align: right;\">\n",
       "      <th></th>\n",
       "      <th>Gender</th>\n",
       "      <th>Degree</th>\n",
       "      <th>Major</th>\n",
       "      <th>Age</th>\n",
       "      <th>Transportation</th>\n",
       "      <th>TNIfoodShop</th>\n",
       "      <th>NearTNIfood</th>\n",
       "      <th>BeverageShop</th>\n",
       "      <th>VendingMachine</th>\n",
       "    </tr>\n",
       "  </thead>\n",
       "  <tbody>\n",
       "    <tr>\n",
       "      <th>0</th>\n",
       "      <td>Male</td>\n",
       "      <td>Undergraduate</td>\n",
       "      <td>DSA</td>\n",
       "      <td>21</td>\n",
       "      <td>Walk</td>\n",
       "      <td>Hainanese chicken rice</td>\n",
       "      <td>Green Steak shop</td>\n",
       "      <td>Infinity (Building E)</td>\n",
       "      <td>7-11</td>\n",
       "    </tr>\n",
       "    <tr>\n",
       "      <th>1</th>\n",
       "      <td>Male</td>\n",
       "      <td>Undergraduate</td>\n",
       "      <td>DGE</td>\n",
       "      <td>18</td>\n",
       "      <td>Walk</td>\n",
       "      <td>Hiramiya Japanese Food</td>\n",
       "      <td>Shop opposite blue building</td>\n",
       "      <td>Infinity (Building E)</td>\n",
       "      <td>7-11</td>\n",
       "    </tr>\n",
       "    <tr>\n",
       "      <th>2</th>\n",
       "      <td>Female</td>\n",
       "      <td>Undergraduate</td>\n",
       "      <td>JIB</td>\n",
       "      <td>18</td>\n",
       "      <td>Car</td>\n",
       "      <td>Snack shop</td>\n",
       "      <td>7-11</td>\n",
       "      <td>Coffee Shop (Building B)</td>\n",
       "      <td>7-11</td>\n",
       "    </tr>\n",
       "    <tr>\n",
       "      <th>3</th>\n",
       "      <td>Female</td>\n",
       "      <td>Undergraduate</td>\n",
       "      <td>DSA</td>\n",
       "      <td>20</td>\n",
       "      <td>Walk</td>\n",
       "      <td>Hainanese chicken rice</td>\n",
       "      <td>Green Steak shop</td>\n",
       "      <td>Coffee Shop (Building B)</td>\n",
       "      <td>7-11</td>\n",
       "    </tr>\n",
       "    <tr>\n",
       "      <th>4</th>\n",
       "      <td>Female</td>\n",
       "      <td>Undergraduate</td>\n",
       "      <td>DSA</td>\n",
       "      <td>20</td>\n",
       "      <td>Walk</td>\n",
       "      <td>Hiramiya Japanese Food</td>\n",
       "      <td>Shop under blue building</td>\n",
       "      <td>Sunrise Coffee (Building A)</td>\n",
       "      <td>7-11</td>\n",
       "    </tr>\n",
       "  </tbody>\n",
       "</table>\n",
       "</div>"
      ],
      "text/plain": [
       "   Gender         Degree Major  Age Transportation             TNIfoodShop  \\\n",
       "0    Male  Undergraduate   DSA   21           Walk  Hainanese chicken rice   \n",
       "1    Male  Undergraduate   DGE   18           Walk  Hiramiya Japanese Food   \n",
       "2  Female  Undergraduate   JIB   18            Car              Snack shop   \n",
       "3  Female  Undergraduate   DSA   20           Walk  Hainanese chicken rice   \n",
       "4  Female  Undergraduate   DSA   20           Walk  Hiramiya Japanese Food   \n",
       "\n",
       "                   NearTNIfood                 BeverageShop VendingMachine  \n",
       "0             Green Steak shop        Infinity (Building E)           7-11  \n",
       "1  Shop opposite blue building        Infinity (Building E)           7-11  \n",
       "2                         7-11     Coffee Shop (Building B)           7-11  \n",
       "3             Green Steak shop     Coffee Shop (Building B)           7-11  \n",
       "4     Shop under blue building  Sunrise Coffee (Building A)           7-11  "
      ]
     },
     "execution_count": 9,
     "metadata": {},
     "output_type": "execute_result"
    }
   ],
   "source": [
    "# Format Data View\n",
    "df.iloc[:, 0: 9].head()\n"
   ]
  },
  {
   "cell_type": "code",
   "execution_count": 10,
   "metadata": {},
   "outputs": [
    {
     "data": {
      "text/html": [
       "<div>\n",
       "<style scoped>\n",
       "    .dataframe tbody tr th:only-of-type {\n",
       "        vertical-align: middle;\n",
       "    }\n",
       "\n",
       "    .dataframe tbody tr th {\n",
       "        vertical-align: top;\n",
       "    }\n",
       "\n",
       "    .dataframe thead th {\n",
       "        text-align: right;\n",
       "    }\n",
       "</style>\n",
       "<table border=\"1\" class=\"dataframe\">\n",
       "  <thead>\n",
       "    <tr style=\"text-align: right;\">\n",
       "      <th></th>\n",
       "      <th>RelaxSpot</th>\n",
       "      <th>LibrarySpendingTime</th>\n",
       "      <th>StudyTools</th>\n",
       "      <th>DeviceBrand</th>\n",
       "      <th>MonthlySpending</th>\n",
       "      <th>Accommodation</th>\n",
       "      <th>ShopExpensive</th>\n",
       "      <th>StudyStress</th>\n",
       "      <th>HomeworkStress</th>\n",
       "      <th>SocialStress</th>\n",
       "    </tr>\n",
       "  </thead>\n",
       "  <tbody>\n",
       "    <tr>\n",
       "      <th>0</th>\n",
       "      <td>Vacant Classroom ห้องเรียนที่ว่าง</td>\n",
       "      <td>less than 1</td>\n",
       "      <td>Tablet, Laptop, PC, Smart Phone</td>\n",
       "      <td>Apple, Samsung, Acer, Asus</td>\n",
       "      <td>more than 10,000</td>\n",
       "      <td>Dormitory</td>\n",
       "      <td>2</td>\n",
       "      <td>4</td>\n",
       "      <td>3</td>\n",
       "      <td>2</td>\n",
       "    </tr>\n",
       "    <tr>\n",
       "      <th>1</th>\n",
       "      <td>E Building lounge เลานจ์ตึก E</td>\n",
       "      <td>1 - 5</td>\n",
       "      <td>Tablet, Laptop, Paper, PC, Smart Phone</td>\n",
       "      <td>Apple, Acer, Other</td>\n",
       "      <td>more than 10,000</td>\n",
       "      <td>Dormitory</td>\n",
       "      <td>2</td>\n",
       "      <td>3</td>\n",
       "      <td>1</td>\n",
       "      <td>1</td>\n",
       "    </tr>\n",
       "    <tr>\n",
       "      <th>2</th>\n",
       "      <td>E Building lounge เลานจ์ตึก E</td>\n",
       "      <td>less than 1</td>\n",
       "      <td>Tablet, Smart Phone</td>\n",
       "      <td>Samsung, Huawei</td>\n",
       "      <td>5,000 - 10,000</td>\n",
       "      <td>Condominium</td>\n",
       "      <td>3</td>\n",
       "      <td>1</td>\n",
       "      <td>1</td>\n",
       "      <td>1</td>\n",
       "    </tr>\n",
       "    <tr>\n",
       "      <th>3</th>\n",
       "      <td>library ห้องสมุด</td>\n",
       "      <td>10 - 15</td>\n",
       "      <td>Tablet, Laptop, Smart Phone</td>\n",
       "      <td>Apple, Lenovo</td>\n",
       "      <td>3,000 - 5,000</td>\n",
       "      <td>Dormitory</td>\n",
       "      <td>4</td>\n",
       "      <td>3</td>\n",
       "      <td>4</td>\n",
       "      <td>1</td>\n",
       "    </tr>\n",
       "    <tr>\n",
       "      <th>4</th>\n",
       "      <td>library ห้องสมุด</td>\n",
       "      <td>10 - 15</td>\n",
       "      <td>Tablet, Laptop</td>\n",
       "      <td>Apple, Acer</td>\n",
       "      <td>3,000 - 5,000</td>\n",
       "      <td>Dormitory</td>\n",
       "      <td>1</td>\n",
       "      <td>1</td>\n",
       "      <td>4</td>\n",
       "      <td>3</td>\n",
       "    </tr>\n",
       "  </tbody>\n",
       "</table>\n",
       "</div>"
      ],
      "text/plain": [
       "                           RelaxSpot LibrarySpendingTime  \\\n",
       "0  Vacant Classroom ห้องเรียนที่ว่าง         less than 1   \n",
       "1      E Building lounge เลานจ์ตึก E               1 - 5   \n",
       "2      E Building lounge เลานจ์ตึก E         less than 1   \n",
       "3                   library ห้องสมุด             10 - 15   \n",
       "4                   library ห้องสมุด             10 - 15   \n",
       "\n",
       "                               StudyTools                 DeviceBrand  \\\n",
       "0         Tablet, Laptop, PC, Smart Phone  Apple, Samsung, Acer, Asus   \n",
       "1  Tablet, Laptop, Paper, PC, Smart Phone          Apple, Acer, Other   \n",
       "2                     Tablet, Smart Phone             Samsung, Huawei   \n",
       "3             Tablet, Laptop, Smart Phone               Apple, Lenovo   \n",
       "4                          Tablet, Laptop                 Apple, Acer   \n",
       "\n",
       "    MonthlySpending Accommodation  ShopExpensive  StudyStress  HomeworkStress  \\\n",
       "0  more than 10,000     Dormitory              2            4               3   \n",
       "1  more than 10,000     Dormitory              2            3               1   \n",
       "2    5,000 - 10,000   Condominium              3            1               1   \n",
       "3     3,000 - 5,000     Dormitory              4            3               4   \n",
       "4     3,000 - 5,000     Dormitory              1            1               4   \n",
       "\n",
       "   SocialStress  \n",
       "0             2  \n",
       "1             1  \n",
       "2             1  \n",
       "3             1  \n",
       "4             3  "
      ]
     },
     "execution_count": 10,
     "metadata": {},
     "output_type": "execute_result"
    }
   ],
   "source": [
    "df.iloc[:, 10: 20].head()"
   ]
  },
  {
   "cell_type": "code",
   "execution_count": 11,
   "metadata": {},
   "outputs": [
    {
     "data": {
      "text/html": [
       "<div>\n",
       "<style scoped>\n",
       "    .dataframe tbody tr th:only-of-type {\n",
       "        vertical-align: middle;\n",
       "    }\n",
       "\n",
       "    .dataframe tbody tr th {\n",
       "        vertical-align: top;\n",
       "    }\n",
       "\n",
       "    .dataframe thead th {\n",
       "        text-align: right;\n",
       "    }\n",
       "</style>\n",
       "<table border=\"1\" class=\"dataframe\">\n",
       "  <thead>\n",
       "    <tr style=\"text-align: right;\">\n",
       "      <th></th>\n",
       "      <th>FamilyStress</th>\n",
       "      <th>JopProspect</th>\n",
       "      <th>LanguageProficiency</th>\n",
       "      <th>FirstAid</th>\n",
       "      <th>LibrarySatsfied</th>\n",
       "      <th>InternetSatisfied</th>\n",
       "      <th>PrintingServices</th>\n",
       "      <th>CooperativeShop</th>\n",
       "      <th>Overall</th>\n",
       "    </tr>\n",
       "  </thead>\n",
       "  <tbody>\n",
       "    <tr>\n",
       "      <th>0</th>\n",
       "      <td>4</td>\n",
       "      <td>4</td>\n",
       "      <td>3</td>\n",
       "      <td>3</td>\n",
       "      <td>4</td>\n",
       "      <td>4</td>\n",
       "      <td>3</td>\n",
       "      <td>Sometimes</td>\n",
       "      <td>4</td>\n",
       "    </tr>\n",
       "    <tr>\n",
       "      <th>1</th>\n",
       "      <td>2</td>\n",
       "      <td>5</td>\n",
       "      <td>5</td>\n",
       "      <td>3</td>\n",
       "      <td>5</td>\n",
       "      <td>4</td>\n",
       "      <td>4</td>\n",
       "      <td>Sometimes</td>\n",
       "      <td>5</td>\n",
       "    </tr>\n",
       "    <tr>\n",
       "      <th>2</th>\n",
       "      <td>2</td>\n",
       "      <td>5</td>\n",
       "      <td>5</td>\n",
       "      <td>3</td>\n",
       "      <td>3</td>\n",
       "      <td>4</td>\n",
       "      <td>5</td>\n",
       "      <td>Always</td>\n",
       "      <td>5</td>\n",
       "    </tr>\n",
       "    <tr>\n",
       "      <th>3</th>\n",
       "      <td>3</td>\n",
       "      <td>4</td>\n",
       "      <td>3</td>\n",
       "      <td>3</td>\n",
       "      <td>4</td>\n",
       "      <td>4</td>\n",
       "      <td>3</td>\n",
       "      <td>Sometimes</td>\n",
       "      <td>4</td>\n",
       "    </tr>\n",
       "    <tr>\n",
       "      <th>4</th>\n",
       "      <td>1</td>\n",
       "      <td>5</td>\n",
       "      <td>4</td>\n",
       "      <td>3</td>\n",
       "      <td>4</td>\n",
       "      <td>4</td>\n",
       "      <td>3</td>\n",
       "      <td>Sometimes</td>\n",
       "      <td>5</td>\n",
       "    </tr>\n",
       "  </tbody>\n",
       "</table>\n",
       "</div>"
      ],
      "text/plain": [
       "   FamilyStress  JopProspect  LanguageProficiency  FirstAid  LibrarySatsfied  \\\n",
       "0             4            4                    3         3                4   \n",
       "1             2            5                    5         3                5   \n",
       "2             2            5                    5         3                3   \n",
       "3             3            4                    3         3                4   \n",
       "4             1            5                    4         3                4   \n",
       "\n",
       "   InternetSatisfied  PrintingServices CooperativeShop  Overall  \n",
       "0                  4                 3       Sometimes        4  \n",
       "1                  4                 4       Sometimes        5  \n",
       "2                  4                 5          Always        5  \n",
       "3                  4                 3       Sometimes        4  \n",
       "4                  4                 3       Sometimes        5  "
      ]
     },
     "execution_count": 11,
     "metadata": {},
     "output_type": "execute_result"
    }
   ],
   "source": [
    "df.iloc[:, 21: ].head()"
   ]
  },
  {
   "cell_type": "markdown",
   "metadata": {},
   "source": [
    "# Visualization"
   ]
  },
  {
   "cell_type": "code",
   "execution_count": 12,
   "metadata": {},
   "outputs": [
    {
     "data": {
      "text/plain": [
       "array(['Undergraduate', 'Master'], dtype=object)"
      ]
     },
     "execution_count": 12,
     "metadata": {},
     "output_type": "execute_result"
    }
   ],
   "source": [
    "pd.unique(df['Degree'])"
   ]
  },
  {
   "attachments": {},
   "cell_type": "markdown",
   "metadata": {},
   "source": [
    "## Pie Chart"
   ]
  },
  {
   "cell_type": "code",
   "execution_count": 13,
   "metadata": {},
   "outputs": [
    {
     "data": {
      "image/png": "iVBORw0KGgoAAAANSUhEUgAAAicAAAGbCAYAAAAfsDBOAAAAOXRFWHRTb2Z0d2FyZQBNYXRwbG90bGliIHZlcnNpb24zLjYuMiwgaHR0cHM6Ly9tYXRwbG90bGliLm9yZy8o6BhiAAAACXBIWXMAAA9hAAAPYQGoP6dpAABUfElEQVR4nO3dd3hUZeL28e/MpPcEQhJ6CYHQQUBFaYJ0FhAFVFQUxYJ93f3pvqKirmVdXV1XXRRFXXtBRVRQUUApUqRJ7yWEkhAI6cnMef+YGAm9JPNMuT9cuZLMOXPmHgxy85znPMdmWZaFiIiIiJewmw4gIiIiciSVExEREfEqKiciIiLiVVRORERExKuonIiIiIhXUTkRERERr6JyIiIiIl5F5URERES8isqJiIiIeBWVExE5bQ0bNmTMmDGmY4iIn1M5EfFSW7du5fbbbyctLY2IiAgiIiJo0aIF48ePZ+XKlabjiYhUmyDTAUTkWNOnT2fkyJEEBQVx9dVX07ZtW+x2O+vWrWPq1Km88sorbN26lQYNGpiOKiJS5VRORLzM5s2bGTVqFA0aNGDWrFmkpKRU2v7000/z8ssvY7f79sBnWVkZLpeLkJAQ01FExMv49v/dRPzQP/7xD/Lz85kyZcoxxQQgKCiIO++8k3r16lU8tm7dOi6//HISEhIICwujY8eOTJs2rdLz3nzzTWw2G/PmzePee+8lMTGRyMhIhg0bxv79+yvta1kWjz/+OHXr1iUiIoKePXuyevXq4+Y9ePAgd999N/Xq1SM0NJTU1FSefvppXC5XxT7btm3DZrPxz3/+k+eff54mTZoQGhrKmjVrzuW3SkT8lEZORLzM9OnTSU1N5fzzzz+t/VevXs1FF11EnTp1uP/++4mMjOSjjz5i6NChfPrppwwbNqzS/nfccQfx8fE8/PDDbNu2jeeff57bb7+dDz/8sGKfhx56iMcff5wBAwYwYMAAfv31V/r06UNJSUmlYxUUFNC9e3cyMjK4+eabqV+/PvPnz+eBBx4gMzOT559/vtL+U6ZMoaioiHHjxhEaGkpCQsLZ/SaJiH+zRMRrHDp0yAKsoUOHHrMtJyfH2r9/f8VHQUGBZVmW1atXL6t169ZWUVFRxb4ul8vq0qWL1bRp04rHpkyZYgFW7969LZfLVfH4PffcYzkcDuvgwYOWZVnWvn37rJCQEGvgwIGV9vvb3/5mAdZ1111X8dhjjz1mRUZGWhs2bKiU9f7777ccDoe1Y8cOy7Isa+vWrRZgxcTEWPv27TuH3yERCQQ6rSPiRXJzcwGIioo6ZluPHj1ITEys+HjppZc4cOAAP/zwAyNGjODw4cNkZWWRlZVFdnY2ffv2ZePGjWRkZFQ6zrhx47DZbBXfd+3aFafTyfbt2wH4/vvvKSkp4Y477qi03913331Mpo8//piuXbsSHx9f8dpZWVn07t0bp9PJ3LlzK+0/fPhwEhMTz/r3R0QCg07riHiR6OhoAPLy8o7ZNmnSJA4fPszevXsZPXo0AJs2bcKyLCZMmMCECROOe8x9+/ZRp06diu/r169faXt8fDwAOTk5ABUlpWnTppX2S0xMrNj3dxs3bmTlypUnLBz79u2r9H2jRo2Ou5+IyJFUTkS8SGxsLCkpKfz222/HbPt9Dsq2bdsqHvt90ul9991H3759j3vM1NTUSt87HI7j7mdZ1hnndblcXHrppfz1r3897va0tLRK34eHh5/xa4hI4FE5EfEyAwcOZPLkySxatIjOnTufdN/GjRsDEBwcTO/evavk9X9fO2Xjxo0VxwfYv39/xejK75o0aUJeXl6VvbaICOhSYhGv89e//pWIiAhuuOEG9u7de8z2I0c4atWqRY8ePZg0aRKZmZnH7Hv0JcKno3fv3gQHB/Piiy9Weq2jr7wBGDFiBAsWLGDmzJnHbDt48CBlZWVn/PoiIho5EfEyTZs25b333uPKK6+kWbNmFSvEWpbF1q1bee+997Db7dStWxeAl156iYsvvpjWrVtz00030bhxY/bu3cuCBQvYtWsXK1asOKPXT0xM5L777uPJJ59k0KBBDBgwgGXLlvHNN99Qs2bNSvv+5S9/Ydq0aQwaNIgxY8Zw3nnnkZ+fz6pVq/jkk0/Ytm3bMc8RETkVlRMRLzRkyBBWrVrFs88+y7fffssbb7yBzWajQYMGDBw4kFtuuYW2bdsC0KJFC5YsWcLEiRN58803yc7OplatWrRv356HHnrorF7/8ccfJywsjP/+97/8+OOPnH/++Xz77bcMHDiw0n4RERHMmTOHJ554go8//pi3336bmJgY0tLSmDhxIrGxsef8eyEigcdmnc0sOBEREZFqojknIiIi4lVUTkRERMSrqJyIiIiIV1E5EREREa+iciJSBbZt24bNZmP58uWmo4iI+DyVEwlYY8aMwWazccsttxyzbfz48dhsNsaMGeP5YCIiAU7lRAJavXr1+OCDDygsLKx4rKioiPfee++YG+SJiIhnqJxIQOvQoQP16tVj6tSpFY9NnTqV+vXr0759+4rHZsyYwcUXX0xcXBw1atRg0KBBbN68+aTH/u233+jfvz9RUVEkJSVxzTXXkJWVVW3vRUTEX6icSMC74YYbmDJlSsX3b7zxBtdff32lffLz87n33ntZsmQJs2bNwm63M2zYsIq7Ah/t4MGDXHLJJbRv354lS5YwY8YM9u7dy4gRI6r1vYiI+AMtXy8Bb/To0TzwwANs374dgHnz5vHBBx8we/bsin2GDx9e6TlvvPEGiYmJrFmzhlatWh1zzP/85z+0b9+eJ554otJz6tWrx4YNG0hLS6ueNyMi4gdUTiTgJSYmMnDgQN58800sy2LgwIHH3Kxu48aNPPTQQ/zyyy9kZWVVjJjs2LHjuOVkxYoV/Pjjj0RFRR2zbfPmzSonIiInoXIigvvUzu233w647/J7tMGDB9OgQQNee+01ateujcvlolWrVpSUlBz3eHl5eQwePJinn376mG0pKSlVG15ExM+onIgA/fr1o6SkBJvNRt++fStty87OZv369bz22mt07doVgJ9//vmkx+vQoQOffvopDRs2JChIf8xERM6EJsSKAA6Hg7Vr17JmzRocDkelbfHx8dSoUYNXX32VTZs28cMPP3Dvvfee9Hjjx4/nwIEDXHnllSxevJjNmzczc+ZMrr/+epxOZ3W+FRERn6dyIlIuJiaGmJiYYx632+188MEHLF26lFatWnHPPffwzDPPnPRYtWvXZt68eTidTvr06UPr1q25++67iYuLw27XHzsRkZOxWZZlmQ4hIiIi8jv9E05ERES8isqJiIiIeBWVExEREfEqKiciIiLiVVRORERExKuonIiIiIhXUTkRERERr6J1tUX8QKmzlL35e9mbt5c9eXsqfZ1TlIPTcmJZFhZWxWeX5TqtxyKCI6gVUYukqCRqRdYiKTKJpKikis9RIcfe3FBE5FyonIh4OZflYuehnWzI3sCG7A1sztlMZl6mu4Tk7WVv/l5yCnOwMLOeYkRwRKXS8nuRSYpMIjkqmfTEdJrXbE6QXf+7EZHToxViRbxEcVkxq/evZsWeFazLWsfGAxsrykhRWZHpeOck1BFKi8QWtE1uS7ukdrRNbkvbpLbEh8ebjiYiXkjlRMSAorIilu9ZzuKMxSzNXMqvmb+yLmsdpa5S09E8ql5MvYqi0japLW2T25KakIrdpulwIoFM5UTEAw4UHuCn7T8xd/tc5myfw4q9KyhzlZmO5ZUigyNpndSatkltubDuhfRN7UtyVLLpWCLiQSonItVgf/7+iiIyZ/scVu1dZWxOiK+zYaNtclv6NelH/6b96VKvi+aviPg5lRORKrIscxnT1k9j2oZpLMtcpjJSTWJCY+jduHdFWakbU9d0JBGpYionImepxFnCj1t/ZNr6aXy54Ut25u40HSkgtUxsSb/UfvRP7U/XBl0JcYSYjiQi50jlROQM5BTm8NXGr5i2fhozNs3gcMlh05HkCJHBkfRs1JP+qf35U7M/aVRFxEepnIicwqGiQ7yz8h0+XvMx83bO00RWH2G32enTpA9j24/lT83+pBEVER+iciJyAgt3LeTVpa/y4eoPKSgtMB1HzkHNiJpc0+YaxrYfS8taLU3HEZFTUDkROUJucS7vrnyXSUsnsWLvCtNxpBqcX+d8xrYfy6hWo4gOjTYdR0SOQ+VEBFicsZhJSyfxwW8fkF+abzqOeEBkcCRXtLyCse3HcnH9i03HEZEjqJxIwDpcfJj3Vr3HpKWTWLZnmek4YlCzGs24of0NXNf2OpKikkzHEQl4KicScH7N/JVJSybx3m/vkVeSZzqOeJEgexADmw7kzxf+ma4NupqOIxKwVE4kIFiWxdS1U3lq3lMs2b3EdBzxAd0bdGdCtwn0atzLdBSRgKNyIn5v+obpPPTjQzp1I2elS70uTOg2gX6p/UxHEQkYKifit77f8j0TfpzAwl0LTUcRP9Cpdice7PYgf2r2J9NRRPyeyon4nZ93/MyEHycwe9ts01HED7VLbseDXR/ksvTLsNlspuOI+CWVE/EbS3Yv4cEfHmTm5pmmo0gAaJnYkgndJjCi5QiVFJEqpnIiPm/l3pVM+HEC09ZPMx1FAlDnOp15ts+zWitFpAqpnIjPWpe1jodnP8zHqz/GQj/GYtZl6Zfxj97/oElCE9NRRHyeyon4nMzDmTww6wHeWfkOTstpOo5IhRBHCOM7jWdCtwnEh8ebjiPis1ROxGdYlsXkXyfz1+//ysGig6bjiJxQQngCD3d/mPGdxuOwO0zHEfE5KifiEzZkb2Dcl+OYs32O6Sgip61dcjv+O/C/nF/3fNNRRHyKyol4tTJXGf+Y9w8em/sYRWVFpuOInDG7zc5NHW7iqd5PERcWZzqOiE9QORGvtThjMTd+eSMr9640HUXknCVHJfNCvxcY0XKE6SgiXk/lRLxOfkk+E36cwL9/+bcmvIrfGZQ2iJcHvEy92Hqmo4h4LZUT8SozN83klq9uYdvBbaajiFSb2NBYXuz/Ite0vcZ0FBGvpHIiXiGrIIt7Zt7DOyvfMR1FxGOGpw9n0qBJ1IioYTqKiFdRORHj3ln5DvfMvIesgizTUUQ8Ljkqmdf/9DoDmg4wHUXEa6iciDH5JfmMnTaWD1d/aDqKiHE3n3czz/Z5lsiQSNNRRIxTOREj1met57KPLmPN/jWmo4h4jdSEVD6+4mPaJbczHUXEKJUT8bipa6cy5vMxHC45bDqKiNcJCwrjlYGvMKbdGNNRRIxRORGPcbqcPDDrAZ6Z/4zpKCJe76YON/Fi/xcJDQo1HUXE41ROxCP25e9j1Cej+HHbj6ajiPiMjrU78skVn9AgroHpKCIepXIi1W7hroVc/tHlZBzOMB1FxOfUCK/Bu5e9S9/UvqajiHiM3XQA8W8vLXqJ7m92VzEROUvZhdkMeG8AE2dPRP+WlEChkROpFgWlBdw8/WYtqiZShfqn9uedy94hITzBdBSRaqVyIlVu84HNXPbRZbphn0g1aBjXkC9GfUGbpDamo4hUG5UTqVJfb/yaq6dezcGig6ajiPituLA4vrzySy6uf7HpKCLVQnNOpMq8u/JdhnwwRMVEpJodLDpIn//14euNX5uOIlItVE6kSkxaMolrP7+WMleZ6SgiAaGwrJChHwzlvVXvmY4iUuVUTuSc/WPeP7jlq1twWS7TUUQCSqmrlNFTR/PSopdMRxGpUionck7+36z/x/99/3+mY4gELAuL27+5nYmzJ5qOIlJlNCFWzoplWdw14y5eXPSi6SgiUu7OznfyfL/nsdlspqOInBOVEzljTpeTsdPG8taKt0xHEZGjjG4zmilDphBkDzIdReSsqZzIGSlxlnDVp1fx6dpPTUcRkRMYlDaIjy7/iPDgcNNRRM6KyomctoLSAi778DJmbp5pOoqInELX+l358soviQ2LNR1F5IypnMhpyS3OZeB7A/l5x8+mo4jIaWqX3I6Zo2dSK7KW6SgiZ0TlRE4pqyCLvu/05dfMX01HEZEzlFYjjZ+v/5nEyETTUUROmy4llpPan7+f7m92VzER8VEbsjcw8L2B5Jfkm44ictpUTuSE8kvyGfT+INbsX2M6ioicg8W7F3P5x5drBWfxGSonclxlrjJGfDKCRRmLTEcRkSowY9MMbpx2o+kYIqdF5USO65bpt+imYiJ+5q0Vb/HA9w+YjiFySioncoyHfnyI15e9bjqGiFSDp+Y9xX8W/cd0DJGT0tU6UsmrS1/l5uk3m44hItXIbrPz4eUfcnmLy01HETkulROp8MW6Lxj+0XCcltN0FBGpZqGOUGaOnkn3ht1NRxE5hsqJALBg5wJ6vd2LwrJC01FExENiQ2P56fqfaJ3U2nQUkUo050RYn7Wewe8PVjERCTCHig/R/93+7Dy003QUkUpUTgJcVkEW/d7tR3ZhtukoImJAxuEM+r7TlwOFB0xHEamgchLAnC4nIz8ZybaD20xHERGD1matdY+elmr0VLyDykkA++t3f+WHrT+YjiEiXmD+zvmM/3q86RgigMpJwHpv1Xs8t/A50zFExItMWT6Fd1a+YzqGiK7WCUTL9yyny+tdNAHWlJ+AWcD5QH8gB3jhBPteAbQ8wbZi4HtgHVAIxJUfs9MR+8wAlgMhQG+gzRHbVgMrgKvO/C2I/4oKiWLpuKWk1UgzHUUCWJDpAOJZ2QXZDPtwmIqJKRnAUiDpiMdigT8ftd9SYD6QepJjzQS2ApfhLiabga+AaKA5sB5YBVwDHAC+AJoAkUAR7oJ07bm8GfFHeSV5jPxkJAvHLiQ0KNR0HAlQOq0TQFyWiys/vVITYE0pBj4FBgNhRzxux10ojvxYh3vE5GR/N+wE2gGNgHigI5CMuwAB7AcaAnWA1uXHOli+7TvcIyxx5/B+xG8t37OcP397dGMW8RyVkwDy5E9P8t2W70zHCFxfA2m4Ry9OZjewB2h/iv3q4R4dyQUs3KMo2UccP7n8WIXln0uBBGA7kIn7FJDICby0+CWmrp1qOoYEKM05CRDzdsyjx1s9KHOVmY4SmFbhnmtyExAMTMFdHvofZ9/pwDbg9lMcswz4Eve8ETtgwz0q0+6IfX4EVpa/Zk+gKfAqMBT3yMsiIKL8ebXO8D2J34sLi2PZzctoGNfQdBQJMBo5CQA5hTlcNfUqFRNTDuGemHoZ7pJwMqW4i0yH0zjuL8Au4EpgHNAH9+jM5iP26QncBdwGpAM/A41x/8mfC9xQ/lqfnd5bkcBysOggoz4ZRamz1HQUCTAqJwFg3PRx7Di0w3SMwLUbyAcmARPLP7bjLhcTAdcR+67BXVDanuKYpbgntPYFmuEehTkf9zyV+Sd4zn7coyg9cY/MNMA9ObYl7tM8xWf0riRA/JLxC3+b9TfTMSTA6GodPzdl2RQ+WfOJ6RiBrTFw61GPfQHUBC6i8j8RfsVdNiJPcUwn7lJjO+pxO+75J0ezcJ8u6ot7YqzFH6Xo95tQu47zPBHg2QXP0rNRTwY0HWA6igQIjZz4sc0HNnPnjDtNx5BQ3JcOH/kRDIRT+ZLibNwjKic6pfMisLb86zDcIx/f4p4ImwMswz3/JP04z/0V99ySZuXf1yt/3k5gIZBYnkfkOCwsrvv8OjJyM069s0gVUDnxU5ZlMeaLMeSV5JmOIqdrGRDDia/myca9PsnvLsd9mfBU4CXc80kuwX1J8ZHycM8vOXLybV3gQuA93IuxDTnH7OL3sgqyuHrq1ThdzlPvLHKOdLWOn3rxlxc1aiIiVW5ij4k81P0h0zHEz6mc+KFtB7fR6uVW5Jfmm44iIn4mxBHCqltXaXl7qVY6reOHxn05TsVERKpFibOE278+1SI8IudG5cTPvLHsDa0CKyLV6rst3/Hx6o9NxxA/ptM6fiTzcCYtXm7BwaKDpqOIiJ+rE12HdbevIyokynQU8UMaOfEjt319m4qJiHhExuEMHp3zqOkY4qc0cuInZmyaQf93j3ejFhGR6hFsD2b5LctpkdjCdBTxMxo58QNlrjLumXmP6RgiEmBKXaXc9tVtpmOIH1I58QMvLXqJdVnrTMcQkQA0Z/sc3l35rukY4md0WsfHZRVk0fTFppprIiLGJEcls278OmLDYk1HET+hkRMfN+GHCSomImLUnrw9PPSjVo2VqqOREx+2cu9KOkzqgNPSvS5ExCyHzcGScUtol9zOdBTxAxo58WF3z7hbxUREvILTcnLbV7ehf+9KVVA58VFT107lx20/mo4hIlJhwa4FTFk+xXQM8QM6reODisuKSX8pna0Ht5qOIiJSSUpUClvv2kpoUKjpKOLDNHLig55b8JyKiYh4pcy8TF5f9rrpGOLjNHLiY3KLc6n/r/ocKj5kOoqIyHE1iG3Axjs2EuwINh1FfJRGTnzMpCWTVExExKttP7Sd/638n+kY4sM0cuJDisuKafRCIzLzMk1HERE5qaYJTVk7fi0Ou8N0FPFBGjnxIW+veFvFRER8wsYDG/lo9UemY4iP0siJj3BZLpr/pzkbD2w0HUVE5LS0qtWKlbesxGazmY4iPkYjJz5i6tqpKiYi4lN+2/cbn6/73HQM8UEqJz7i6XlPm44gInLG/v7T301HEB+kcuIDvt/yPUt2LzEdQ0TkjC3NXMo3G78xHUN8jMqJD9CoiYj4Mo2eyJlSOfFyS3cv5fst35uOISJy1ubtnMfsbbNNxxAfonLi5Z6a95TpCCIi5+zxuY+bjiA+ROXEi23M3sjUtVNNxxAROWezts5i4a6FpmOIj1A58WLPzH8Gl+UyHUNEpEo8u+BZ0xHER2gRNi+VeTiTRi80othZbDqKiEiVCHGEkHFvBjUjapqOIl5OIydeatLSSSomIuJXSpwlvLvyXdMxxAeonHipd1a+YzqCiEiVe2P5G6YjiA9QOfFCC3YuYHPOZtMxRESq3Mq9K1m6e6npGOLlVE680LurNOwpIv5ryvIppiOIl9OEWC9T5ioj5dkUsgqyTEcREakW8WHxZP45k9CgUNNRxEtp5MTLzNg0Q8VERPxaTlEOn637zHQM8WIqJ15Gp3REJBDo1I6cjMqJFzlcfJgv1n1hOoaISLX7fsv37Dy003QM8VIqJ15k6tqpFJYVmo4hIlLtXJaLN5e/aTqGeCmVEy+iUzoiEkj+t/J/piOIl1I58RKZhzP5YesPpmOIiHjMxgMbWbV3lekY4oVUTrzE+7+9j9Nymo4hIuJRuvO6HI/KiZfQKR0RCURT16mcyLFUTrzA2v1r+TXzV9MxREQ8buXelWzJ2WI6hngZlRMvoFETEQlkOrUjR1M58QJfrNfaJiISuFRO5GgqJ4btz9/P6n2rTccQETFm4a6FZB7ONB1DvIjKiWE/bvsRC917UUQCl4XFN5u+MR1DvIjKiWE/bv3RdAQREeNmbp5pOoJ4EZUTw37YpoXXRES+3/I9LstlOoZ4CZUTg3Yf3s2G7A2mY4iIGBfkrMnKXdtNxxAvEWQ6QCDTcvUiEqjC7bGcH30LtZ3DKMxqzc6t4SxbbqNdPdPJxBuonBik+SYiEijsOGgXPZKm9tFw8Hx2bI/ncKmN9Ufss3gtXD/YWETxIionBmm+iYj4s8bhF9E2dBzh+T3J3FWH3C12Np1k/xUbobQMgvU3U8DTj4Ah2w5uY9vBbaZjiIhUmRrBDekYeRs1SwaQsyeNvVuC2XEGzy8ugVWboEPzaosoPkLlxBDNNxERXxdqj6RT9I3Ud11BUXZbdm6NJMuykXUOx1yyVuVEVE6M+XGb5puIiG+xWTZaR19GM8e1OHIvZOeOmhSWVJ43cq6W6QJGQeXEGE2GFRFfUC/sPDqE30JUfi/2ZNTn4FYH1XkP4XXbqvHg4jNUTgzYkL2BjMMZpmOIiBwjxpHC+dG3Uat0MLl7m7N7Syi7PPj6hwtg1z6oW8uDLypeR+XEAI2aiIi3CLKF0in6ehoyktIDHdixPZoDThsHDGZat13lJNCpnBiwYNcC0xFEJIC1iBxIi+AxBB++mF07kygosuFNUz3Wb4PenUynEJNUTgxYs3+N6QgiEkBSQlpyXsRtxBb1Yf/uRmRvcbDVdKiTWKdV7AOeyokB67LWmY4gIn4s0lGD86NuI9k5hPx9Ldi1JZxMINN0sNO0XuUk4KmceFhGbgaHSw6bjiEifsRBMB2iR9PEfiXOnE7s3BHLoTIbh0wHO0sHcmHvAUhKMJ1ETFE58bC1WWtNRxARP5AWcQmtQm4kLK8bGbtSyNtiZ6PpUFVo3TaVk0CmcuJhOqUjImcjMTiVTlG3EV/UnwOZTdi3JRh/Pvuxbjt072A6hZhiNx0g0Kzdr5ETETm1cHss3WP/wlVRCxhWnE+DDRvYu/Qe1q1uzr4DwabjVbuqXoxtzJgxDB069ITbly1bxsiRI0lJSSE0NJQGDRowaNAgvvzySyzLAmDbtm3YbLaKj5CQEFJTU3n88ccr9mnYsGGlfY7+GDNmTNW+MT+lkRMPW5etkRMROZbNstEuehRpjtFw8Hx2bE8gr7Rql4b3JRvO5I6B5+iLL75gxIgR9O7dm7feeovU1FSKi4uZP38+Dz74IF27diUuLq5i/++//56WLVtSXFzMzz//zI033khKSgpjx45l8eLFOJ1OAObPn8/w4cNZv349MTExAISHh3vujfkwlRMP08iJiPyuUXgX2oaOIyK/J3sy6nJoq51NpkN5iX05UFQCYSHV+zr5+fmMHTuWgQMHMnXq1Erb0tPTGTt2bMWoyO9q1KhBcnIyAA0aNGDKlCn8+uuvjB07lsTExIr9EhLck2Zq1apVqdzIqamceFBucS6Zeb5yMZ+IVLWE4Pp0iryNmiUDObgnjT1bQthpOpSXsiz3Mvapdav3db799luys7P561//esJ9bDbbCbctWbKEpUuXcu2111ZHvIClcuJBGjURCSyh9kg6RY2lnnUFJQfasXNbJFkuG1mmg/kIT5STDRvca+M2a9as4rHFixfTs2fPiu8/+OADBg0aVPF9ly5dsNvtlJSUUFpayrhx41ROqpjKiQfpSh0R/9c6ahjNg67FcagLu3YmUljsXUvD+5Jd+8y8bps2bVi+fDkATZs2paysrNL2Dz/8kPT0dEpLS/ntt9+44447iI+P56mnnjKQ1j+pnHiQ1jgR8T91w9rTIexWogt7szejPjlbHGwxHcpP7Npb/a/RtGlTANavX88FF1wAQGhoKKmpqSd8Tr169Sq2p6ens3nzZiZMmMAjjzxCWFhY9YcOAConHqRyIuL7YhwpdI6+haTSP5G7N53dW0LJMB3KT+3eX/2v0adPHxISEnj66af57LPPzuoYDoeDsrIySkpKVE6qiMqJB+m0jojvCbKF0jH6OhoyCmdOB3ZsjyHHaSPHdLAAsOdA1R7v0KFDFadrflejRg0mT57MyJEjGThwIHfeeSdNmzYlLy+PGTNmAO7ycaTs7Gz27NlDWVkZq1at4oUXXqBnz54VlwvLuVM58ZAyVxlbcjTYK+ILmkf0o2XIDYQcvpiMncnkF9n8aml4X7G3isvJ7Nmzad++faXHxo4dy+TJk5k/fz5PP/001157LQcOHCA2NpaOHTseMxkWoHfv3oC7tKSkpDBgwAD+/ve/V23YAGezjr6AW6rF3ry9JD+bbDqGiBxHcmgLOkbcRmxhH7IyG5GVo3+3eYvZr0BUhOkU4mn6E+ghB4sOmo4gIuUiHTXoHHUztZ3DyNvfkoytYWRaNqpjFaI9q54iY9kD1Eq/i3qdnj/uPjnbp7Lntycozt2EZZUSGt2UpBZ/pkaTa/44zup/snf1PwBIbvl/JLX8c8W2/P2/sOOX22g+4Bdsdv/63/qeA5CqchJw/Oun2IvlFOkMtYgpdhx0iB5Nqv0qXDmd2LkjjtwyG7nV/Lr5WYvZv3ES4fFtTrpfUGgCya3/H2ExzbE7Qji4azrb5l9PUFgtYuv0pSBnJbuXP0TqJdMBi00/DCKmdh/C41tjucrYvvAWGlz4qt8VE4C92dW/1ol4H//7SfZSGjkR8aymET1pFTKW8Lzu7N5Vm8Nb7B6dN+IszWPrT1fT4ILXyFz1+En3jU7uUen7pPS7yN78Fnn7fia2Tl+KDq0jIr4NMSmXABAe34aiQ+sIj2/NntXPEJ3UjcianarrrRiVc9h0AjFB5cRDVE5EqlfN4MZ0ihxPQnF/DuxJZd+WYDx477hj7PhlPLF1BxJTu/cpy8mRLMvi8J4fKM5dT3SHpwEIj2tNUe4GSvJ2YGFRnLuBsLhWFB/eTPamKaQPWlpdb8O4/ELTCcQElRMPySnUaR2RqhRmi6ZzzDjquoZTmNWGXVsj2GfZMLSoaCUHtn5AwYFfSR+4+LSf4yw5xMpP6uByFmOzOah//svE1L4UgPC4dOq0f4IN37u/r9P+ScLj0tnwbW/qnvcPcnfPZPeKR7DZgqnX+QWik7pVy/syIU/lJCCpnHiIRk5Ezo3NstE25grS7NdiO3Q+O3fWIL/ExnrTwY5Skr+TnYvvouml32F3nP6CXPbgaNIHLcdVlsfhzFnsWnIvodGNK075JDa7hcRmt1Tsn735LRzB0UQmXsjqz5vRfOBiSgt2sXXuKFpdthW7I7Sq35oRGjkJTConHqJyInLmGoZfQNvQcUQVXELmrnoc2mpns+lQp1CQvZSyon2snd7hjwctJ3l757Jv3X/ocHUxNrvjmOfZbHbCYtxLokcktKPw0Fr2rHrymPkoAGVFWexeMZFmfeeSn/ULoTFphMU0JSymKZarlOLcDYTHt66ut+hRGjkJTConHqJyInJq8UH16BR1K4mlgzi4pxl7toSwy3SoMxSd0osWg1dVemzb/OsJi21Ocsv/O24xOS7LhctVfNxNO5fcQ1L6PYRE1iU/ezGWq/SPp1llWJbzrPN7m7wC0wnEBJUTD9GlxCLHCraF0zlmLPVdIyg50I6d26LIdtnINh3sHDiCowmPb1XpMXtQJEGhNSoe3/rztYRE1KFOhycByFz1JJE1OhIa3QSXs5jcjK/J3vI/GlzwyjHHz939HUW5G2h40VsARNboRFHuOg5lfENJ/k6wOQiLaVbN79Jz8otMJxATVE48RCMnIm6tIoeQHnQdjtyL2LUrkcJiGxtMh/Kwkvwd2Gz2iu9dZfns+OU2Sgp2YXeEExbbnEYXv0NCo5GVnucqK2THottp3O3DiueHRNalfucX2TbveuyOUBpd9Bb2oHCPvp/qpJGTwKTl6z2k82udWbz79Gfui/iLumHtaR92MzGFvdmX0ZADuad5WkME9wJsH+i2NQFHIyceotM6Eiiig5LoHHkryWV/IndfOru3hLEb2G06mPgkTYgNTConHqLTOuKvHATTMWYMjRiFM+c8dmyP4aDTxkHTwcQv6FLiwKRy4iEqJ+JPmkX0pVXIDYQc7krGrmTyt9g8ujS8BI6C41+wJH5O5cQDisuKKXOVmY4hctaSQprTMeI24or6kpXZmKwtQWwzHUoCguUynUBMUDnxAMfprmsg4iUi7PF0jr6FOs5h5O9vxa6tYeyxbOwxHUxEAoLKiQcE2YOwYcNCF0aJd7LjoH30VaTaroJDndmxLZ7DZTbWmQ4mIgFJ5cRDgh3BlDhLTMeQAGa37KS6Umla2pT6BfWpmVuT6JxogvcF073+XoIz9+ByTMVln4bTEYzLEYTT7v7ssv/xtdMehMvmwGV34LL/vi0Il92B0xZU/pgDp8293Wlz4LLZ3c8p/3BW+tq9zUn5PthxYsey2Ssec2LHVf7hxHbE13Zcls29PzacVvk26/evyz+Xf1R87QIX7s/ux8Dpcn92ucDpcn92WTbT/9lEApLKiYeEOEJUTqRa2SwbTawmpJWkUa+wHom5icTkxBC8LxhnppPCjEKcJZWXNS/AvcLVd8tDuavJKkJ/W2oiuldzBgXjcpR/BIXgDArBFRSMyxFSvi3kj32CQtzFzh7kLnWO4PKiF1z+dRAue/nn8v2cjuDyshf0R/mrKH2OP8qfrbz0/V4ObfYjyt8Rpc9e/jVHlD/sfxRE7O79sP+x7feid8RnC1ul8ucqL34nKn1Wpcd+L3s2nNYfRe/30ue03HNJVP7kRFROPCTEEWI6gvg4m2WjkdWItFJ3+UjKTSI6J5qQfSG4Ml0UZBTgLD5++TiVwkIbr+wcyO2peQRt8rb7/JrlKCvFUVZ66h3lrDiDfi91IbiCQsoL4BFFLywCWGg6pniYVoj1kJRnU9iTp+mEcnINXA1IK02jQWEDkg4nEZMTQ8h+d/ko3FVIWVH1XvWVkuziRscb2DN87XZ74rciIiA/33QK8TCNnHiIRk4EoK6rLs3LmtOgoAFJee7yEbo/FGuPReGuQkoLKv8LvbD8l6dk7rHzXqMxXF3jv9iyszz2uiInFBxsOoEYoHLiISongaGOqw7NSpvRoMg98hF7MJawrDCszPLykV+5fBSV//Imm7cG8Xn6OIYW/xtbXp7pOBLoVE4CksqJhwTb9QfMHyS7kmle1pyGRQ1JPpxMbE4soVmhsAeKMoooOVx50nNx+S9fs3JtCNEdbqPXb89jK9FEbjEoNNR0AjFA5cRDNHLiGxKtRNJL02lY1JCUvJSKkQ/2QNGuIkpy/aN8nI55v0YQfeFtdF74AjZNTRNTYmNNJxADVE48ROXEOyRYCaSXptO4uDHJh5OJPxRPWFYYtr02CncWUnKocvkoKf8VqGYsiCO62820mPtf01EkUMXFmU4gBqiceEhEcITpCAEh3oon3ZlOo8JGpOSlEH8onvDscMiE4oxiinMqj3IEevk4HR/PTWZM92toMOd/pqNIIFI5CUgqJx5SI6KG6Qh+IcaKoUVZCxoVN6J2Xm0SDiUQnhWOba+N4oxiirIrTy4tLf8l5+bNOU24tetl1PppqukoEmhUTgKSyomH1AhXOTkd0VY06U73aZfa+bVJOJhAeHY49j12d/nIUvkw5b8/t+buCw4Ts/A701EkkKicBCSVEw+pGVHTdASvEGlF0tzZnCbFTaiTX4eEQwlEZEdg32unJKOEwn2V1/Qoo4zDHDaUVo5kWTZe+rULd7fLI3z5AtNxJFConAQklRMPCZRyEmaF0cLZgibFTaidX5sauTWIyI7Asc9Bya7y8nHEhR9OnCofPqSkxMbLm/pwZ/M8gtetMh1HAoHKSUBSOfEQfyknoVYo6c50mpS4Rz5q5NYgMjsSx14HpbtLKdhTUKl8uHCRhxby8id5eTZey7qMmxvk49i+xXQc8XcqJwFJ5cRDfKWcBFvBNHc2J7UklboFdalxqAZRB6Jw7HNQtruMgswCLNcf7cPCUvkIQPuzbLwddjXXJb2Gfa/uGSXVKCnJdAIxQOXEQ7ylnARZQTRzNSO1JJV6BfWoeagmkQciCdoX9Ef5cFZecEvlQ45nxy4HnzQdyxWF/8GWe8h0HPFX9eqZTiAG6K7EHrLj0A4aPN+g2l/HbtlJc6WRVppG3fy61MytSfSBaIL2B1GWUUZhZiGuMle155DA0alNEf03PI+tyLvuESR+Yv9+qOkd/7gTz1E58ZAyVxlhj4fhtJzndBy7ZSfVSiWtJM098pFbk5icGIL2BeHc7aRgdwGuUpUP8axLOh/m4qXPY3Oe28+3SCXh4VBQYDqFGKDTOh4SZA8iJTqFXbm7TrqfzbLRxGriLh+F9ah1uBbR2dEE7w/GmemkMKMQZ0nlvwDyya/O6CKn9MOiaKIuvpX2P//HdBTxJzqlE7BUTjyofmx9Mg5l0MhqRFppGvUL61MrtxbROdGE7AvBlemiIKMAZ3Hl8lGA/uUg3m/azzWJ6j6WpnNeNx1F/IXKScBSOfGg+5bfx5rX1lBWVFbp8cLyXyK+7r059bip+0hqz/nQdBTxByonActuOkAgiYuLO6aYiPib1+Y0J+eigaZjiD+oX990AjFE5cSDElITTEcQ8QAbLy3sSH7H7qaDiK9TOQlYKiceFN8k3nQEEY9wOm28tLoHxa3OMx1FfFl6uukEYojKiQdp5EQCSWGhjUm7BlHWpJnpKOKrWrQwnUAMUTnxoKikKEKiQkzHEPGYnIM2puSPxFWnruko4mtq19Z9dQKYyomHJbZMNB1BxKN277HzfsgYrIQapqOIL2nZ0nQCMUjlxMNSOqSYjiDicZu2BjEt+WasyEjTUcRX6JROQFM58TCVEwlUy9eE8EOz8VjBwaajiC/QyElAUznxMJUTCWQ//xrBoo7jsWw201HE26mcBDSVEw+r1aoWjhCH6RgixsxYEMfarjebjiHeTqd1AprKiYc5QhzUalXLdAwRoz6em8yO7teYjiHeqmFDXakT4FRODEjukGw6gohxU+Y0YX/XYaZjiDe64ALTCcQwlRMDNO9ExO2/89qQe/6lpmOIt7nwQtMJxDCVEwNUTkTcXC4bLy3rQmE7/UtZjqCRk4CncmJActtk7EH6rRcBKCmx8crmvpQ2b2U6ygnNBQYDtQEb8PlR2x8BmgORQDzQG/jlNI77EtAQCAPOBxYdtf1eIAGoB7x71LaPyzP5nbAwaN/edAoxTH9DGhAUFkTN9JqmY4h4jcOHbbyWdRnO+o1MRzmufKAt7jJxPGnAf4BVwM+4C0cfYP9Jjvkh7vLxMPBr+fH7AvvKt38JvAd8C/wDuBHIKt92CPh/J8nj09q3B62FE/BUTgype6HuNSJypP1Zdv5njcZVK8l0lGP0Bx4HTjR99yrcoyWNgZbAc0AusPIkx3wOuAm4HmgB/BeIAN4o374W6AF0BK4EYoCt5dv+CtwK1D+bN+PtNN9EUDkxpnHvxqYjiHid7TsdfBp3I1ZMrOkoZ60EeBWIxT0acqJ9luIuNL+zl3+/oPz7tsASIKd830IgFffIzK/AnVUd3FtovomgcmJM416Nsdm1SqbI0dZsCGZGw1uxwsJMRzkj04Eo3PNH/gV8B5zo5G0W4ASOHiNKAvaUf90XGA10AsYAb+Ge03Ir7lGWV4BmwEXA6ip6D16hSxfTCcQLqJwYEp4QTnJ7rXcicjyLVoYxr814LIfvrKbcE1gOzAf6ASP4Y/7I2XoE2IR7Lssw4EncoyvBuE8z/Yx7Lsq15/g6XiM9HerUMZ1CvIDKiUGNL9WpHZETmbUomhUX3mo6xmmLxH3a5QLgdSCo/PPx1AQcwN6jHt8LnOifLOuAd4DHgNlANyARdwn6FTh89tG9R58+phOIl1A5MajJpU1MRxDxal/8XJNN3W8wHeOsuIDiE2wLAc4DZh21/yzgeNNBLeBm3JNoo3CfEiot3/b7Z+c55vUKKidSTuXEoHoX1SMoPMh0DBGv9u6c+mR2G2k0Qx7uUzbLy7/fWv71DtyXGf8NWAhsxz159QYgA7jiiGP0wn258e/uBV7DPZdkLe65JPm4r9452mTcoyS/r2tyEfBD+Wv+C/fVPnFn+d68RkgI9OhhOoV4CZUTg4JCg2jQtYHpGCJe79W5zcnpMsDY6y8B2pd/gLtYtAcewn16Zh0wHPd6J4OBbOAn3JcV/24zf6xTAjAS+Gf5MdrhLjszOHaS7F7g78C/j3isM/BnYCDwETDl7N+a97joIoiIMJ1CvITNsizLdIhANv+f8/nuL9+ZjiHi9YKCLO5u9yORS+aajiLV4ckn4f77TacQL6GRE8M0KVbk9JSV2XhpdU+KW3UwHUWqQ9++phOIF1E5MSypTRKRtSJNxxDxCYWFNibtGkxZk2amo0hVqlUL2rUznUK8iMqJYTabjdT+qaZjiPiMnIM2puSPxFVbt4DwG0OGgE2LUsofVE68QMsRLU+9k4hU2L3HzvuhY7ASapiOIlXhiitOvY8EFJUTL9D40saE1wg3HUPEp2zaGsS0lHFYkTot6tNq1ICePU2nEC+jcuIFHMEO0i9LNx1DxOcsXx3KD81vwwoONh1FztbQoRCk9Z6kMpUTL9FqVCvTEUR80s9LI1ncaTyW5iz4pssvN51AvJDKiZdo2KMhUclRpmOI+KRv5sextus40zHkTMXHQ69eplOIF1I58RI2u430y3VqR+RsfTw3hR3dR5uOIWdiyBDQKTk5DpUTL6JTOyLnZsqcVPZ3HWY6hpwuXaUjJ6By4kXqdalHTL0Y0zFEfNp/57Uh9/zepmPIqSQl6S7EckIqJ17EZrNpzRORc+Ry2Xhp2UUUtrvAdBQ5mWuv1VU6ckIqJ15Gp3ZEzl1JiY1XNveltJn+PHmtsWNNJxAvpnLiZWp3rE2tVrVMxxDxeYcP23gt+zKc9RuZjiJHu/hiaKb7I8mJqZx4oU7jO5mOIOIX9mfZeccajatWkukociSNmsgpqJx4oTbXtCE0NtR0DBG/sG2ng6lxN2LFxJqOIgDR0bpKR05J5cQLhUSG0G5MO9MxRPzG6g3BzGh0C1ZYmOkoMmoU6H5IcgoqJ16q022dQKtxi1SZRSvCmdf2NiyHw3SUwHbjjaYTiA9QOfFSNdJq0OTSJqZjiPiVWb/EsOLCW0zHCFwdO0LnzqZTiA9QOfFinW7XxFiRqvbFz4ls6n6D6RiB6a67TCcQH6Fy4sXSBqYR1zDOdAwRv/PunPpkdhthOkZgSUmBkSNNpxAfoXLixWx2Gx1v7Wg6hohfenVuOge7DDAdI3Dcdptu8ienTeXEy3W4sQNB4VriWaTq2XhpUSfyO3YzHcT/RUTArbeaTiE+ROXEy4UnhNP6qtamY4j4pbIyGy+v6Ulxy/amo/i3G26AGjVMpzipRx55hKSkJGw2G59//rnpOAFP5cQHXHz/xdgcuq5YpDoUFNiYtHswZY3TTEfxTw4H3HtvlRxqzJgx2Gw2bDYbISEhpKam8uijj1JWVnZOx127di0TJ05k0qRJZGZm0r9//yrJW5V69OjB3Xfffcr9GjZsyPPPP1/teaqbyokPSEhNoO01bU3HEPFbOTl2phSOxJVSx3QU/zN8ODSquvsb9evXj8zMTDZu3Mif//xnHnnkEZ555pnj7ltSUnJax9y8eTMAQ4YMITk5mdDQs1uhu7S09KyeJ8dSOfER3SZ0wx6k/1wi1WV3poMPwq/Hik8wHcV/2O0wYUKVHjI0NJTk5GQaNGjArbfeSu/evZk2bRrgHlkZOnQof//736lduzbNym8uuHPnTkaMGEFcXBwJCQkMGTKEbdu2Ae7TOYMHDy6Pa8dm+2OUevLkyaSnpxMWFkbz5s15+eWXK7Zt27YNm83Ghx9+SPfu3QkLC+Pdd989bmabzcbkyZMZNmwYERERNG3atCLz7+bMmUPnzp0JDQ0lJSWF+++/v2JEaMyYMcyZM4cXXnihYuTo9/xH6tGjB9u3b+eee+6p2O93n376KS1btiQ0NJSGDRvy7LPPnvT3ecWKFfTs2ZPo6GhiYmI477zzWLJkCQDZ2dlceeWV1KlTh4iICFq3bs37779f8dy3336bGjVqUFxcXOmYQ4cO5Zprrjnp6/5Of9v5iPjG8bS5to3pGCJ+beOWIL6sfTOWllevGiNGQKtW1foS4eHhlUZIZs2axfr16/nuu++YPn06paWl9O3bl+joaH766SfmzZtHVFQU/fr1o6SkhPvuu48pU6YAkJmZSWZmJgDvvvsuDz30EH//+99Zu3YtTzzxBBMmTOCtt96q9Pr3338/d911F2vXrqVv374nzDlx4kRGjBjBypUrGTBgAFdffTUHDhwAICMjgwEDBtCpUydWrFjBK6+8wuuvv87jjz8OwAsvvMCFF17ITTfdVJGxXr16x7zG1KlTqVu3Lo8++mil97J06VJGjBjBqFGjWLVqFY888ggTJkzgzTffPGHeq6++mrp167J48WKWLl3K/fffT3D51VZFRUWcd955fPXVV/z222+MGzeOa665hkWLFgFwxRVX4HQ6KxWwffv28dVXX3HDDae3xpAuA/Eh3R7sxsr/rcRV6jIdRcRvLVsdStR5t9Fz5fPYNEx/9hwOeOSRaju8ZVnMmjWLmTNncscdd1Q8HhkZyeTJkwkJCQHgnXfeweVyMXny5IqRhClTphAXF8fs2bPp06cPcXFxACQnJ1cc5+GHH+bZZ5/lsssuA6BRo0asWbOGSZMmcd1111Xsd/fdd1fsczJjxozhyiuvBOCJJ57g3//+N4sWLaJfv368/PLL1KtXj//85z/YbDaaN2/O7t27+b//+z8eeughYmNjCQkJISIiolLGoyUkJOBwOIiOjq6033PPPUevXr2YUD6KlZaWxpo1a3jmmWcYM2bMcY+1Y8cO/vKXv9C8eXMAmjZtWrGtTp063HfffRXf33HHHcycOZOPPvqIzp07Ex4ezlVXXcWUKVO4ovwmj++88w7169enR48ep/y9Ao2c+JT4RvG0vU5zT0Sq209LI1nS6TYsmyain7Wrr4by0ypVafr06URFRREWFkb//v0ZOXIkjxxRglq3bl1RTMB9emLTpk1ER0cTFRVFVFQUCQkJFBUVVcw1OVp+fj6bN29m7NixFc+Jiori8ccfP+Y5HTue3lpUbdr8MfIdGRlJTEwM+/btA9wTci+88MJKp2Euuugi8vLy2LVr12kd/2TWrl3LRRddVOmxiy66iI0bN+J0Oo/7nHvvvZcbb7yR3r1789RTT1V6306nk8cee4zWrVuTkJBAVFQUM2fOZMeOHRX73HTTTXz77bdkZGQA8Oabb1ZMaD4dGjnxMd0e7MaKt1Zo9ESkmn09P56obuNInzvJdBTfExQEDz1ULYfu2bMnr7zyCiEhIdSuXZugoMp/jUUedUouLy+P884777jzQRITE4/7Gnl5eQC89tprnH/++ZW2OY66ceTRr3ciwUctQGez2XC5vPf/44888ghXXXUVX331Fd988w0PP/wwH3zwAcOGDeOZZ57hhRde4Pnnn6d169ZERkZy9913Vzq91r59e9q2bcvbb79Nnz59WL16NV999dVpv77KiY+JaxBHu+vb8eurv5qOIuL3PpqbwvXdR1N/zjumo/iW666DJtVz49LIyEhSU1NPe/8OHTrw4YcfUqtWLWJiYk7rOUlJSdSuXZstW7Zw9dVXn23U05aens6nn36KZVkVIwvz5s0jOjqaunXrAhASEnLCUY4jHW+/9PR05s2bV+mxefPmkZaWdkzZOlJaWhppaWncc889XHnllUyZMoVhw4Yxb948hgwZwujRowFwuVxs2LCBFi1aVHr+jTfeyPPPP09GRga9e/c+7jyZE9FpHR/U7f91wxGi276LeMKUOalkdR1qOobvCAmp8it0zsXVV19NzZo1GTJkCD/99BNbt25l9uzZ3HnnnSc9ZTJx4kSefPJJ/v3vf7NhwwZWrVrFlClTeO6556o842233cbOnTu54447WLduHV988QUPP/ww9957L3a7+6/phg0b8ssvv7Bt2zaysrJOOOrSsGFD5s6dS0ZGBllZWQD8+c9/ZtasWTz22GNs2LCBt956i//85z+V5o0cqbCwkNtvv53Zs2ezfft25s2bx+LFi0lPTwfc80++++475s+fz9q1a7n55pvZu3fvMce56qqr2LVrF6+99tppT4T9ncqJD4qtH0v7sVrRUsRTXpnXlsPn9zIdwzfcdBM0aGA6RYWIiAjmzp1L/fr1ueyyy0hPT2fs2LEUFRWddCTlxhtvZPLkyUyZMoXWrVvTvXt33nzzTRpV4Zotv6tTpw5ff/01ixYtom3bttxyyy2MHTuWBx98sGKf++67D4fDQYsWLUhMTKw0v+NIjz76KNu2baNJkyYVp606dOjARx99xAcffECrVq146KGHePTRR084GdbhcJCdnc21115LWloaI0aMoH///kycOBGABx98kA4dOtC3b1969OhBcnIyQ4cOPeY4sbGxDB8+nKioqONuPxmbZVnWGT1DvEL+vnxeTHuR4kPFp95ZRM5ZaKjF3c1nELbiF9NRvFd8PGzc6PVL1Yvn9OrVi5YtW/Lvf//7jJ6nkRMfFVkrkh6P9DAdQyRgFBfbeGVrP0rTWpqO4r0eeUTFRADIycnhs88+Y/bs2YwfP/6Mn6+REx/mKnPx33b/Zf/q/aajiASMWokuxoW/jWPHNtNRvEt6Oqxc6b5SRwJew4YNycnJYcKECSec23IyKic+buuPW3n7krdNxxAJKA3rO7mmcBL2/ftMR/EeM2dCnz6mU4if0GkdH9eoZyNajtAws4gnbdvhYGr8TVineWmq3xs0SMVEqpTKiR+49J+XEhwZfOodRaTKrN4QzMxGt2Kd5R1s/UZICFTD5bUS2FRO/EBsvVi6/q2r6RgiAeeXFeHMazce6yQLWfm9O++EI+67IlIVNOfET5QVl/FKq1c4sOmA6SgiAWdo1/20/ekl0zE8r0ED+O03iIoynUT8jEZO/ERQaBB9nz/x7bpFpPp8/lMiW7pfbzqG502apGIi1UIjJ37m/T+9z4YvN5iO4XcWl/86yEEAalGL7nSnKZWHsy0s3uVdNrGJkYwknfQTHrOYYr7ne9axjkIKiSOO8zmfTnSq2GcGM1jOckIIoTe9acMfdzZdzWpWsIKruKpq36yctZu7rSF57kemY3jGtdfCW2+ZTiF+SiMnfmbQfwcRnhBuOobfiSGG3vTmZm5mHONoRCPe5332UflS0oUsPO1jzmQmm9jEZVzGeMZzARfwNV+zjnUArGc9q1jFNVzDpVzKNKaRTz4ARRQxi1kMYEDVvUk5Z5PmpnOwSwD8N0lKgn/9y3QK8WMqJ34munY0A14KgP85elgzmpFGGjWoQU1q0otehBDCLv64cVgmmcxnPkMYclrH3MlO2tGORjQinng60pFkkskgA4D97KchDalDHVrTmlBCK0ZuvuM7OtGJOOKq+q3KObHx0qJO5J/n5xPUX3wREhJMpxA/pnLih1qNakXLkVr7pLq4cLGKVZRSSl3ctzMvoYRP+ZSBDCSa6NM6Tj3qsZ715JKLhcVWtpJNNk1w32o+mWR2s5tCCtnNbkopJYEEtrOdTDI5n/Or7T3K2Ssrs/Hy2ksoadHOdJTqMWwYXHGF6RTi5zTnxE8V5hTySqtXOLz7sOkofmMve5nMZMooI4QQhjOcNNIA+JIvceGqGDV5hEdOOeekjDK+5EtWsAI7dmzYGMxg2tGuYp8f+ZGVrCSYYHrSk6Y05VVeZShD2clOFrGICCIYzGBqUata37+cmfh4F7fFv0/Qlo2mo1SduDhYswZSUkwnET+nkRM/FR4fzp/e+JPpGH6lBjW4hVu4iZvoRCc+53P2sY91rGMrW+lHvzM63i/8wi52cSVXMo5x9KEPX/M1m9lcsU9PenIXd3Ebt5FOOj/zM41pjB07c5nLDdxABzrwGZ9V9duVc5STY2dK4ShcKXVMR6k6L76oYiIeoTs0+bHUvqmcd8t5LP3vUtNR/EIQQdTAfcfV2tQmgwx+4ReCCOIAB3iKpyrt/xEfUZ/6XM+xl5iWUsosZjGKURWjL8kks4c9zGd+xamdI+1nPytZyc3czDKW0YAGRBJJS1ryBV9QTDGhBPhqpV5md6aDD5tcz6j4l7Hl+PgaRKNHuz9EPEDlxM/1+Wcftn6/VYuzVQMLizLK6EEPOtCh0rZXeIW+9KUZzY77XCdOXLiwYav0uB07FseeabWwmM50+tKXUEKxsHDhqjgWUPG9eJcNm4P4suXNDC5+AVtBgek4Z6dJE3j5ZdMpJIDotI6fC4kMYejbQ7E5bKfeWU7oe75nG9vIIYe97K34vg1tiCaapKN+AcQSSzzxFcd4kRdZy1oAwgijAQ34lm/ZylZyyGEZy1jBiuPOU/mVX4kgoqLs1KMeW9nKTnaykIUkkkg4uoTcWy1bHcrsFuOxgnzw34PBwfDeexB9ehO9RaqCD/5JkTNV78J6XPTXi/j5yZ9NR/FZ+eTzGZ+RRx6hhJJEEtdwzXFPv5xINtkUUVTx/eVczixmMZWpFFJILLFcwiV0pGOl5+WRx1zmMpaxFY/VpS4XciHv8R6RRDKUoef8HqV6zV0SSXSX8Zy34N/YfOk6hEcfhc6dTaeQAKOrdQKEs9TJm93eZNfCXafeWUSqzYhuu0mf+6rpGKfnkkvgu+/ArkF28Sz9xAUIR7CDKz6+gojECNNRRALaR3Nrs7P71aZjnFrNmvC//6mYiBH6qQsgMXVjGP7+cGx2zT8RMemNOU3Juvj0VhI2wm6Hd96B2rVNJ5EApXISYBr3akzPx3qajiES8F6Z347DnXuZjnF8TzwBfXWXczFHc04CkGVZfDj0Q9ZPW286ikhACw21uLv5N4StWGQ6yh9GjoQPPjCdQgKcykmAKs4tZvL5k8lal2U6ikhAi4mxuD35E4I3rDYdBdq2hfnzIUJz08QsndYJUKExoYyaNoqwuDDTUUQCWm6ujck5w3HWa2A2SI0a8PnnKibiFVROAliNpjUY/sFwLdAmYti+/XbetV2LK9HQzRsdDvjoI2jY0MzrixxF5STApfZNpdeTXjopTySAbN3hYGrCjVgxMZ5/8X/+072miYiXUDkRLvrLRbS/sb3pGCIBb/X6EL5tfCtWqAdv4HjHHXD33Z57PZHToAmxAoDL6eLjyz9m3efrTEcRCXi9z8+ly+Lnsbmq+WaOw4e7T+dooTXxMvqJFADsDjvD3x9Og+6GJ+WJCN//EsPKi26p3hfp2tW90JqKiXgh/VRKhaCwIEZ9MYqktkmmo4gEvM9/qsWW7mOq5+AtWsAXX0CYrtYT76RyIpWExYYxesZo4hvHm44iEvD+N6che7pdUbUHrVMHZsyAeP0ZF++lciLHiEqOYvS3o4lMijQdRSTgTZrbgoMX9q+ag8XGwjffQL16VXM8kWqiciLHldAkgdEzRhMa48GrBkTkOGy8tLgzBeddfG6HiYyEadOgdeuqiSVSjVRO5ISS2yUzatooHKEO01FEAlpZmY2X1/WipGW7sztARARMnw7dulVpLpHqonIiJ9Wwe0Mu/+By7EH6URExKT/fxquZQyhr3PTMnhgeDl9+CT16VEsukeqgv3HklJoPbc4Vn1yhERQRw7IP2Hir6EpcKXVO7wlhYe5TOVr9VXyMyomcluZDmnPltCsJCg8yHUUkoO3abefDiOux4hNOvmNYmPty4d69PRNMpAqpnMhpa9KnCaNnjCYkOsR0FJGAtmFzENPr3Ix1ojsIh4bCZ59Bnz6eDSZSRVRO5Iw06NaAa2ddS1i8Fm8SMenX30KZ02I8VtBRo5nh4e5i0q+fmWAiVUDlRM5YnU51GDN7DJG1tA6KiElzlkSy9PzbsGw29wOxsfDtt9C/itZFETFEN/6Ts5a1Pou3e73N4YzDpqOIBLSR3XfTfO3nMHMmtGtnOo7IOdPIiZy1ms1qcv1P1xPXKM50FJGA9u3OlhTOX6piIn5DIydyznIzcnmnzzvsX7PfdBSRgJNyXgpXfXUVUUlRpqOIVBmVE6kSxbnFfHrlp2z8eqPpKCIBo0nfJoz4ZAQhUbqCTvyLyolUGctl8e1fvmXhcwtNRxHxe22vbcvgyYNxBGtxRPE/KidS5Za9sYzpt0zHVeoyHUXE79jsNno82oNu/0/3yRH/pXIi1WL73O18NPwjCrIKTEcR8Rth8WEMf284qf1STUcRqVYqJ1Jtcrbm8P7g99m/WhNlRc5VUpskRkwdQUKTUyxbL+IHVE6kWhUfLp8o+5UmyoqcrVajWvGn1/9EcESw6SgiHqFyItXOcll899fvWPDsAtNRRHyKzWGj99O96fLnLqajiHiUyol4zNqpa5l24zSKcopMRxHxehE1Ixj+wXAa92psOoqIx6mciEcd2nmIz0Z/xva5201HEfFaKR1SGDF1BHEN4kxHETFC5UQ8znJZzP37XOZMnIPl1I+fSAUbdLy1I32f7UtQWNCp9xfxUyonYszO+Tv59KpPObT9kOkoIsZF14lmyBtDaNKniekoIsapnIhRRYeKmH7zdFZ/uNp0FBFjWl/VmgEvDSAsLsx0FBGvoHIiXmHZlGV8c8c3lOaXmo4i4jHhNcIZ+MpAWl7R0nQUEa+iciJeI3tDNlNHT2X34t2mo4hUu6YDmjJ48mCiU6JNRxHxOion4lUsl8Wilxbx44M/UpxbbDqOSJULjgym73N9OW/ceaajiHgtlRPxSrkZucy4awZrP11rOopIlal/cX2GvDlES9CLnILKiXi1DdM38PXtX+uKHvFpUclR9H66N22uaYPNZjMdR8TrqZyI1yvJL2H2w7P55YVfcJW5TMcROW32IDud7+xMj4d7EBoTajqOiM9QORGfsWf5HqbfPJ2MRRmmo4icUqNejej/7/4ktkg0HUXE56iciE+xXBaLX1nMjxN+1D16xCvF1o+lz7N9aHF5C9NRRHyWyon4pKKDRfz89M8s+vciSgu0NoqY5wh10OW+LnT9W1eCI4JNxxHxaSon4tMOZx5mzsQ5LHt9meajiBk2SB+WTu9/9NZVOCJVROVE/MKBTQf44cEfWP3RatBPtHhIsyHN6P5wd1Lap5iOIuJXVE7Er2T+msmsB2ax+dvNpqOIH0sbnEaPR3qQ0kGlRKQ6qJyIX9r6w1ZmPTBLV/ZIlWo6sCk9HulB7Y61TUcR8WsqJ+LXNn6zkQXPLmDrrK2mo4gPS+2fSo9HelCncx3TUUQCgsqJBIQ9K/aw8LmFrHp/Fa5STZyV02CD1H6pdH+oO3UvqGs6jUhAUTmRgHJ492F+efEXlk5aqnVS5LhCY0Jpe11bOo3vRM1mNU3HEQlIKicSkEryS1g+ZTkLn19IzuYc03HECyS2TKTT+E60vaYtIVEhpuOIBDSVEwlolsti3efrWPivhez4eYfpOOJh9iA7zYY0o9P4TjTq2ch0HBEpp3IiUi5rfRbL3ljGyv+tJC8zz3QcqUaRtSLpcFMHOt7SkZi6MabjiMhRVE5EjuJyutj0zSaWT1nOhukbcJY4TUeSKhAUHkTawDRajmxJsz81wxHiMB1JRE5A5UTkJAoPFLLmkzWsencV23/artVnfYwjxEGTPk1oOaolzYc011wSER+hciJymg7tOMSq91ex+oPV7Fm+x3QcOQGbw0ajSxrRalQr0i9LJywuzHQkETlDKiciZyF3Vy4bv97Ixq82smXWFkrzdWdkk2x2G/UuqkerUa1ocXkLImtFmo4kIudA5UTkHJUVl7F9znY2fLWBjV9t1KXJHhLfOJ7Glzam8aWNaXRJI8Ljw01HEpEqonIiUsWy1mdVjKpsn7tdK9JWkfCEcBpd0qiikMQ3ijcdSUSqicqJSDUqLSxl95Ld7Fqwi10L3R+6TPn0BIUFUffCujS+tDFNLm1CSocUbHab6Vgi4gEqJyIedmjHIXYu2MmuhbvIWJhB5rJMnMWBfbmyzWGjVqta1O5Umzqd6lCncx1qtaqFPchuOpqIGKByImKYs8RJ5rJMMn7JYP/a/WSvzyZ7QzaHdx/2y0uXQ2NCSWqTRFJb90dy22RqtapFcESw6Wgi4iVUTkS8VEl+CQc2HiB7g7us/F5asjdkU3TQe29aaHPYiKkTQ1yjOOIaHvXRKI7Y+rHYbDo9IyInpnIi4oPy9+eTuyuXgqwCCvYXUJBVQP7+fAqyCijMKqz4umB/AQXZBVjOs/9jbg+2ExoTSlhsGKExoYTGhlZ8HxITQkTNiEoFJLZerE7HiMg5UTkRv9SwYUPuvvtu7r77btNRjLMsi5LDJbicLiyndVqfg8ODK0pIcLhOt4iIZwWZDiC+b8yYMbz11lvHPL5x40ZSU1MNJJIj2Ww2QmNCTccQETltKidSJfr168eUKVMqPZaYmGgojYiI+DKdGJYqERoaSnJycqUPh8PBF198QYcOHQgLC6Nx48ZMnDiRsrKyiufZbDYmTZrEoEGDiIiIID09nQULFrBp0yZ69OhBZGQkXbp0YfPmzRXP2bx5M0OGDCEpKYmoqCg6derE999/f9J8Bw8e5MYbbyQxMZGYmBguueQSVqxYUW2/HyIicvZUTqTa/PTTT1x77bXcddddrFmzhkmTJvHmm2/y97//vdJ+jz32GNdeey3Lly+nefPmXHXVVdx888088MADLFmyBMuyuP322yv2z8vLY8CAAcyaNYtly5bRr18/Bg8ezI4dO06Y5YorrmDfvn188803LF26lA4dOtCrVy8OHDhQbe9fRETOkiVyjq677jrL4XBYkZGRFR+XX3651atXL+uJJ56otO///vc/KyUlpeJ7wHrwwQcrvl+wYIEFWK+//nrFY++//74VFhZ20gwtW7a0XnzxxYrvGzRoYP3rX/+yLMuyfvrpJysmJsYqKiqq9JwmTZpYkyZNOuP3KyIi1UtzTqRK9OzZk1deeaXi+8jISNq0acO8efMqjZQ4nU6KioooKCggIiICgDZt2lRsT0pKAqB169aVHisqKiI3N5eYmBjy8vJ45JFH+Oqrr8jMzKSsrIzCwsITjpysWLGCvLw8atSoUenxwsLCSqeLRETEO6icSJWIjIw85sqcvLw8Jk6cyGWXXXbM/mFhYRVfBwf/canq74tzHe8xl8t9A7377ruP7777jn/+85+kpqYSHh7O5ZdfTklJyXGz5eXlkZKSwuzZs4/ZFhcXd3pvUEREPEblRKpNhw4dWL9+fZVfTjxv3jzGjBnDsGHDAHf52LZt20lz7Nmzh6CgIBo2bFilWUREpOqpnEi1eeihhxg0aBD169fn8ssvx263s2LFCn777Tcef/zxsz5u06ZNmTp1KoMHD8ZmszFhwoSKUZXj6d27NxdeeCFDhw7lH//4B2lpaezevZuvvvqKYcOG0bFjx7POIiIiVU9X60i16du3L9OnT+fbb7+lU6dOXHDBBfzrX/+iQYMG53Tc5557jvj4eLp06cLgwYPp27cvHTp0OOH+NpuNr7/+mm7dunH99deTlpbGqFGj2L59e8UcFxER8R5avl5ERES8ikZORERExKuonIiIiIhXUTkRERERr6JyIiIiIl5F5URERES8isqJiIiIeBWVExEREfEqKiciIiLiVVRORERExKuonIiIiIhXUTkRERERr6JyIiIiIl5F5URERES8isqJiIiIeBWVExEREfEq/x8lHtdrgI47wQAAAABJRU5ErkJggg==",
      "text/plain": [
       "<Figure size 640x480 with 1 Axes>"
      ]
     },
     "metadata": {},
     "output_type": "display_data"
    }
   ],
   "source": [
    "# For Gender Data\n",
    "# Defining the labels\n",
    "my_labels = 'Male', 'Female', 'Prefer not to say', 'LGBT'\n",
    "# Defining Color\n",
    "my_colors = ['#008000', '#800080', '#FF0000', '#335eff']\n",
    "# Plotting the pie chart for above dataframe\n",
    "plt.pie(df['Gender'].value_counts(), labels=my_labels, autopct='%1.1f%%', startangle=15, colors=my_colors)\n",
    "plt.title('Gender')\n",
    "plt.axis('equal')\n",
    "plt.show()"
   ]
  },
  {
   "cell_type": "code",
   "execution_count": 14,
   "metadata": {},
   "outputs": [
    {
     "data": {
      "image/png": "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",
      "text/plain": [
       "<Figure size 640x480 with 1 Axes>"
      ]
     },
     "metadata": {},
     "output_type": "display_data"
    }
   ],
   "source": [
    "# Degree\n",
    "# Defining the labels\n",
    "my_labels = 'Undergraduate', 'Master'\n",
    "# Plotting the pie chart for above dataframe\n",
    "plt.pie(df['Degree'].value_counts(), labels=my_labels, autopct='%1.1f%%', startangle=15)\n",
    "plt.title('Degree')\n",
    "plt.axis('equal')\n",
    "plt.show()"
   ]
  },
  {
   "attachments": {},
   "cell_type": "markdown",
   "metadata": {},
   "source": [
    "## Histrogram"
   ]
  },
  {
   "cell_type": "code",
   "execution_count": 15,
   "metadata": {},
   "outputs": [],
   "source": [
    "import seaborn as sns\n",
    "sns.set_style('whitegrid')"
   ]
  },
  {
   "cell_type": "code",
   "execution_count": 16,
   "metadata": {},
   "outputs": [
    {
     "data": {
      "text/plain": [
       "<AxesSubplot: ylabel='Frequency'>"
      ]
     },
     "execution_count": 16,
     "metadata": {},
     "output_type": "execute_result"
    },
    {
     "data": {
      "image/png": "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",
      "text/plain": [
       "<Figure size 640x480 with 1 Axes>"
      ]
     },
     "metadata": {},
     "output_type": "display_data"
    }
   ],
   "source": [
    "df['Age'].plot(kind='hist')"
   ]
  },
  {
   "attachments": {},
   "cell_type": "markdown",
   "metadata": {},
   "source": [
    "## BarChart"
   ]
  },
  {
   "cell_type": "code",
   "execution_count": 17,
   "metadata": {},
   "outputs": [
    {
     "data": {
      "text/html": [
       "<div>\n",
       "<style scoped>\n",
       "    .dataframe tbody tr th:only-of-type {\n",
       "        vertical-align: middle;\n",
       "    }\n",
       "\n",
       "    .dataframe tbody tr th {\n",
       "        vertical-align: top;\n",
       "    }\n",
       "\n",
       "    .dataframe thead th {\n",
       "        text-align: right;\n",
       "    }\n",
       "</style>\n",
       "<table border=\"1\" class=\"dataframe\">\n",
       "  <thead>\n",
       "    <tr style=\"text-align: right;\">\n",
       "      <th></th>\n",
       "      <th>BiningAge</th>\n",
       "    </tr>\n",
       "  </thead>\n",
       "  <tbody>\n",
       "    <tr>\n",
       "      <th>0</th>\n",
       "      <td>(20.0, 21.6]</td>\n",
       "    </tr>\n",
       "    <tr>\n",
       "      <th>1</th>\n",
       "      <td>(17.999, 18.4]</td>\n",
       "    </tr>\n",
       "    <tr>\n",
       "      <th>2</th>\n",
       "      <td>(17.999, 18.4]</td>\n",
       "    </tr>\n",
       "    <tr>\n",
       "      <th>3</th>\n",
       "      <td>(19.0, 20.0]</td>\n",
       "    </tr>\n",
       "    <tr>\n",
       "      <th>4</th>\n",
       "      <td>(19.0, 20.0]</td>\n",
       "    </tr>\n",
       "    <tr>\n",
       "      <th>5</th>\n",
       "      <td>(18.4, 19.0]</td>\n",
       "    </tr>\n",
       "    <tr>\n",
       "      <th>6</th>\n",
       "      <td>(18.4, 19.0]</td>\n",
       "    </tr>\n",
       "    <tr>\n",
       "      <th>7</th>\n",
       "      <td>(18.4, 19.0]</td>\n",
       "    </tr>\n",
       "    <tr>\n",
       "      <th>8</th>\n",
       "      <td>(17.999, 18.4]</td>\n",
       "    </tr>\n",
       "    <tr>\n",
       "      <th>9</th>\n",
       "      <td>(18.4, 19.0]</td>\n",
       "    </tr>\n",
       "  </tbody>\n",
       "</table>\n",
       "</div>"
      ],
      "text/plain": [
       "        BiningAge\n",
       "0    (20.0, 21.6]\n",
       "1  (17.999, 18.4]\n",
       "2  (17.999, 18.4]\n",
       "3    (19.0, 20.0]\n",
       "4    (19.0, 20.0]\n",
       "5    (18.4, 19.0]\n",
       "6    (18.4, 19.0]\n",
       "7    (18.4, 19.0]\n",
       "8  (17.999, 18.4]\n",
       "9    (18.4, 19.0]"
      ]
     },
     "execution_count": 17,
     "metadata": {},
     "output_type": "execute_result"
    }
   ],
   "source": [
    "# Divide Age into 5 bins\n",
    "bining_data = pd.qcut(df['Age'], q=5)\n",
    "# Create Dataframe\n",
    "bining_df =pd.DataFrame(bining_data)\n",
    "bining_df = bining_df.rename(columns={'Age':'BiningAge'})\n",
    "bining_df.head(10)"
   ]
  },
  {
   "cell_type": "code",
   "execution_count": 18,
   "metadata": {},
   "outputs": [
    {
     "data": {
      "text/plain": [
       "[(20.0, 21.6], (17.999, 18.4], (19.0, 20.0], (18.4, 19.0], (21.6, 28.0]]\n",
       "Categories (5, interval[float64, right]): [(17.999, 18.4] < (18.4, 19.0] < (19.0, 20.0] < (20.0, 21.6] < (21.6, 28.0]]"
      ]
     },
     "execution_count": 18,
     "metadata": {},
     "output_type": "execute_result"
    }
   ],
   "source": [
    "# Show the bining elements\n",
    "pd.unique(bining_df['BiningAge'])"
   ]
  },
  {
   "cell_type": "code",
   "execution_count": 19,
   "metadata": {},
   "outputs": [
    {
     "data": {
      "text/plain": [
       "(18.4, 19.0]      6\n",
       "(17.999, 18.4]    5\n",
       "(21.6, 28.0]      5\n",
       "(19.0, 20.0]      4\n",
       "(20.0, 21.6]      3\n",
       "Name: BiningAge, dtype: int64"
      ]
     },
     "execution_count": 19,
     "metadata": {},
     "output_type": "execute_result"
    }
   ],
   "source": [
    "# Count the value of each bins\n",
    "bining_df['BiningAge'].value_counts()"
   ]
  },
  {
   "cell_type": "code",
   "execution_count": 20,
   "metadata": {},
   "outputs": [
    {
     "data": {
      "image/png": "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",
      "text/plain": [
       "<Figure size 640x480 with 1 Axes>"
      ]
     },
     "metadata": {},
     "output_type": "display_data"
    }
   ],
   "source": [
    "ax = sns.countplot(data=bining_df, x='BiningAge')\n",
    "ax.tick_params(axis='x', labelrotation=90)"
   ]
  },
  {
   "attachments": {},
   "cell_type": "markdown",
   "metadata": {},
   "source": [
    "## Box plot"
   ]
  },
  {
   "cell_type": "code",
   "execution_count": 21,
   "metadata": {},
   "outputs": [
    {
     "data": {
      "image/png": "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",
      "text/plain": [
       "<Figure size 500x500 with 1 Axes>"
      ]
     },
     "metadata": {},
     "output_type": "display_data"
    }
   ],
   "source": [
    "fig = plt.figure(figsize =(5, 5))\n",
    "# Creating plot from Age\n",
    "plt.boxplot(df['Age'])\n",
    "# show plot\n",
    "plt.show()"
   ]
  },
  {
   "attachments": {},
   "cell_type": "markdown",
   "metadata": {},
   "source": [
    "## Scatter"
   ]
  },
  {
   "cell_type": "code",
   "execution_count": 22,
   "metadata": {},
   "outputs": [
    {
     "data": {
      "text/plain": [
       "<AxesSubplot: ylabel='Transportation'>"
      ]
     },
     "execution_count": 22,
     "metadata": {},
     "output_type": "execute_result"
    },
    {
     "data": {
      "image/png": "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",
      "text/plain": [
       "<Figure size 640x480 with 1 Axes>"
      ]
     },
     "metadata": {},
     "output_type": "display_data"
    }
   ],
   "source": [
    "# set fig background as whitegrid\n",
    "sns.set(style='whitegrid')\n",
    "# Plot the scatter for tensportation\n",
    "sns.scatterplot(data=df['Transportation'])"
   ]
  },
  {
   "attachments": {},
   "cell_type": "markdown",
   "metadata": {},
   "source": [
    "## Bubble"
   ]
  },
  {
   "cell_type": "code",
   "execution_count": 23,
   "metadata": {},
   "outputs": [
    {
     "data": {
      "application/vnd.plotly.v1+json": {
       "config": {
        "plotlyServerURL": "https://plot.ly"
       },
       "data": [
        {
         "marker": {
          "size": [
           40,
           60,
           80,
           100
          ]
         },
         "mode": "markers",
         "type": "scatter",
         "x": [
          4,
          5,
          3,
          4,
          4,
          2,
          5,
          3,
          2,
          4,
          4,
          5,
          5,
          5,
          4,
          5,
          4,
          3,
          5,
          4,
          3,
          4,
          3
         ],
         "y": [
          4,
          4,
          4,
          4,
          4,
          2,
          2,
          2,
          1,
          2,
          4,
          4,
          3,
          3,
          4,
          4,
          4,
          4,
          4,
          2,
          1,
          2,
          1
         ]
        }
       ],
       "layout": {
        "template": {
         "data": {
          "bar": [
           {
            "error_x": {
             "color": "#2a3f5f"
            },
            "error_y": {
             "color": "#2a3f5f"
            },
            "marker": {
             "line": {
              "color": "#E5ECF6",
              "width": 0.5
             },
             "pattern": {
              "fillmode": "overlay",
              "size": 10,
              "solidity": 0.2
             }
            },
            "type": "bar"
           }
          ],
          "barpolar": [
           {
            "marker": {
             "line": {
              "color": "#E5ECF6",
              "width": 0.5
             },
             "pattern": {
              "fillmode": "overlay",
              "size": 10,
              "solidity": 0.2
             }
            },
            "type": "barpolar"
           }
          ],
          "carpet": [
           {
            "aaxis": {
             "endlinecolor": "#2a3f5f",
             "gridcolor": "white",
             "linecolor": "white",
             "minorgridcolor": "white",
             "startlinecolor": "#2a3f5f"
            },
            "baxis": {
             "endlinecolor": "#2a3f5f",
             "gridcolor": "white",
             "linecolor": "white",
             "minorgridcolor": "white",
             "startlinecolor": "#2a3f5f"
            },
            "type": "carpet"
           }
          ],
          "choropleth": [
           {
            "colorbar": {
             "outlinewidth": 0,
             "ticks": ""
            },
            "type": "choropleth"
           }
          ],
          "contour": [
           {
            "colorbar": {
             "outlinewidth": 0,
             "ticks": ""
            },
            "colorscale": [
             [
              0,
              "#0d0887"
             ],
             [
              0.1111111111111111,
              "#46039f"
             ],
             [
              0.2222222222222222,
              "#7201a8"
             ],
             [
              0.3333333333333333,
              "#9c179e"
             ],
             [
              0.4444444444444444,
              "#bd3786"
             ],
             [
              0.5555555555555556,
              "#d8576b"
             ],
             [
              0.6666666666666666,
              "#ed7953"
             ],
             [
              0.7777777777777778,
              "#fb9f3a"
             ],
             [
              0.8888888888888888,
              "#fdca26"
             ],
             [
              1,
              "#f0f921"
             ]
            ],
            "type": "contour"
           }
          ],
          "contourcarpet": [
           {
            "colorbar": {
             "outlinewidth": 0,
             "ticks": ""
            },
            "type": "contourcarpet"
           }
          ],
          "heatmap": [
           {
            "colorbar": {
             "outlinewidth": 0,
             "ticks": ""
            },
            "colorscale": [
             [
              0,
              "#0d0887"
             ],
             [
              0.1111111111111111,
              "#46039f"
             ],
             [
              0.2222222222222222,
              "#7201a8"
             ],
             [
              0.3333333333333333,
              "#9c179e"
             ],
             [
              0.4444444444444444,
              "#bd3786"
             ],
             [
              0.5555555555555556,
              "#d8576b"
             ],
             [
              0.6666666666666666,
              "#ed7953"
             ],
             [
              0.7777777777777778,
              "#fb9f3a"
             ],
             [
              0.8888888888888888,
              "#fdca26"
             ],
             [
              1,
              "#f0f921"
             ]
            ],
            "type": "heatmap"
           }
          ],
          "heatmapgl": [
           {
            "colorbar": {
             "outlinewidth": 0,
             "ticks": ""
            },
            "colorscale": [
             [
              0,
              "#0d0887"
             ],
             [
              0.1111111111111111,
              "#46039f"
             ],
             [
              0.2222222222222222,
              "#7201a8"
             ],
             [
              0.3333333333333333,
              "#9c179e"
             ],
             [
              0.4444444444444444,
              "#bd3786"
             ],
             [
              0.5555555555555556,
              "#d8576b"
             ],
             [
              0.6666666666666666,
              "#ed7953"
             ],
             [
              0.7777777777777778,
              "#fb9f3a"
             ],
             [
              0.8888888888888888,
              "#fdca26"
             ],
             [
              1,
              "#f0f921"
             ]
            ],
            "type": "heatmapgl"
           }
          ],
          "histogram": [
           {
            "marker": {
             "pattern": {
              "fillmode": "overlay",
              "size": 10,
              "solidity": 0.2
             }
            },
            "type": "histogram"
           }
          ],
          "histogram2d": [
           {
            "colorbar": {
             "outlinewidth": 0,
             "ticks": ""
            },
            "colorscale": [
             [
              0,
              "#0d0887"
             ],
             [
              0.1111111111111111,
              "#46039f"
             ],
             [
              0.2222222222222222,
              "#7201a8"
             ],
             [
              0.3333333333333333,
              "#9c179e"
             ],
             [
              0.4444444444444444,
              "#bd3786"
             ],
             [
              0.5555555555555556,
              "#d8576b"
             ],
             [
              0.6666666666666666,
              "#ed7953"
             ],
             [
              0.7777777777777778,
              "#fb9f3a"
             ],
             [
              0.8888888888888888,
              "#fdca26"
             ],
             [
              1,
              "#f0f921"
             ]
            ],
            "type": "histogram2d"
           }
          ],
          "histogram2dcontour": [
           {
            "colorbar": {
             "outlinewidth": 0,
             "ticks": ""
            },
            "colorscale": [
             [
              0,
              "#0d0887"
             ],
             [
              0.1111111111111111,
              "#46039f"
             ],
             [
              0.2222222222222222,
              "#7201a8"
             ],
             [
              0.3333333333333333,
              "#9c179e"
             ],
             [
              0.4444444444444444,
              "#bd3786"
             ],
             [
              0.5555555555555556,
              "#d8576b"
             ],
             [
              0.6666666666666666,
              "#ed7953"
             ],
             [
              0.7777777777777778,
              "#fb9f3a"
             ],
             [
              0.8888888888888888,
              "#fdca26"
             ],
             [
              1,
              "#f0f921"
             ]
            ],
            "type": "histogram2dcontour"
           }
          ],
          "mesh3d": [
           {
            "colorbar": {
             "outlinewidth": 0,
             "ticks": ""
            },
            "type": "mesh3d"
           }
          ],
          "parcoords": [
           {
            "line": {
             "colorbar": {
              "outlinewidth": 0,
              "ticks": ""
             }
            },
            "type": "parcoords"
           }
          ],
          "pie": [
           {
            "automargin": true,
            "type": "pie"
           }
          ],
          "scatter": [
           {
            "fillpattern": {
             "fillmode": "overlay",
             "size": 10,
             "solidity": 0.2
            },
            "type": "scatter"
           }
          ],
          "scatter3d": [
           {
            "line": {
             "colorbar": {
              "outlinewidth": 0,
              "ticks": ""
             }
            },
            "marker": {
             "colorbar": {
              "outlinewidth": 0,
              "ticks": ""
             }
            },
            "type": "scatter3d"
           }
          ],
          "scattercarpet": [
           {
            "marker": {
             "colorbar": {
              "outlinewidth": 0,
              "ticks": ""
             }
            },
            "type": "scattercarpet"
           }
          ],
          "scattergeo": [
           {
            "marker": {
             "colorbar": {
              "outlinewidth": 0,
              "ticks": ""
             }
            },
            "type": "scattergeo"
           }
          ],
          "scattergl": [
           {
            "marker": {
             "colorbar": {
              "outlinewidth": 0,
              "ticks": ""
             }
            },
            "type": "scattergl"
           }
          ],
          "scattermapbox": [
           {
            "marker": {
             "colorbar": {
              "outlinewidth": 0,
              "ticks": ""
             }
            },
            "type": "scattermapbox"
           }
          ],
          "scatterpolar": [
           {
            "marker": {
             "colorbar": {
              "outlinewidth": 0,
              "ticks": ""
             }
            },
            "type": "scatterpolar"
           }
          ],
          "scatterpolargl": [
           {
            "marker": {
             "colorbar": {
              "outlinewidth": 0,
              "ticks": ""
             }
            },
            "type": "scatterpolargl"
           }
          ],
          "scatterternary": [
           {
            "marker": {
             "colorbar": {
              "outlinewidth": 0,
              "ticks": ""
             }
            },
            "type": "scatterternary"
           }
          ],
          "surface": [
           {
            "colorbar": {
             "outlinewidth": 0,
             "ticks": ""
            },
            "colorscale": [
             [
              0,
              "#0d0887"
             ],
             [
              0.1111111111111111,
              "#46039f"
             ],
             [
              0.2222222222222222,
              "#7201a8"
             ],
             [
              0.3333333333333333,
              "#9c179e"
             ],
             [
              0.4444444444444444,
              "#bd3786"
             ],
             [
              0.5555555555555556,
              "#d8576b"
             ],
             [
              0.6666666666666666,
              "#ed7953"
             ],
             [
              0.7777777777777778,
              "#fb9f3a"
             ],
             [
              0.8888888888888888,
              "#fdca26"
             ],
             [
              1,
              "#f0f921"
             ]
            ],
            "type": "surface"
           }
          ],
          "table": [
           {
            "cells": {
             "fill": {
              "color": "#EBF0F8"
             },
             "line": {
              "color": "white"
             }
            },
            "header": {
             "fill": {
              "color": "#C8D4E3"
             },
             "line": {
              "color": "white"
             }
            },
            "type": "table"
           }
          ]
         },
         "layout": {
          "annotationdefaults": {
           "arrowcolor": "#2a3f5f",
           "arrowhead": 0,
           "arrowwidth": 1
          },
          "autotypenumbers": "strict",
          "coloraxis": {
           "colorbar": {
            "outlinewidth": 0,
            "ticks": ""
           }
          },
          "colorscale": {
           "diverging": [
            [
             0,
             "#8e0152"
            ],
            [
             0.1,
             "#c51b7d"
            ],
            [
             0.2,
             "#de77ae"
            ],
            [
             0.3,
             "#f1b6da"
            ],
            [
             0.4,
             "#fde0ef"
            ],
            [
             0.5,
             "#f7f7f7"
            ],
            [
             0.6,
             "#e6f5d0"
            ],
            [
             0.7,
             "#b8e186"
            ],
            [
             0.8,
             "#7fbc41"
            ],
            [
             0.9,
             "#4d9221"
            ],
            [
             1,
             "#276419"
            ]
           ],
           "sequential": [
            [
             0,
             "#0d0887"
            ],
            [
             0.1111111111111111,
             "#46039f"
            ],
            [
             0.2222222222222222,
             "#7201a8"
            ],
            [
             0.3333333333333333,
             "#9c179e"
            ],
            [
             0.4444444444444444,
             "#bd3786"
            ],
            [
             0.5555555555555556,
             "#d8576b"
            ],
            [
             0.6666666666666666,
             "#ed7953"
            ],
            [
             0.7777777777777778,
             "#fb9f3a"
            ],
            [
             0.8888888888888888,
             "#fdca26"
            ],
            [
             1,
             "#f0f921"
            ]
           ],
           "sequentialminus": [
            [
             0,
             "#0d0887"
            ],
            [
             0.1111111111111111,
             "#46039f"
            ],
            [
             0.2222222222222222,
             "#7201a8"
            ],
            [
             0.3333333333333333,
             "#9c179e"
            ],
            [
             0.4444444444444444,
             "#bd3786"
            ],
            [
             0.5555555555555556,
             "#d8576b"
            ],
            [
             0.6666666666666666,
             "#ed7953"
            ],
            [
             0.7777777777777778,
             "#fb9f3a"
            ],
            [
             0.8888888888888888,
             "#fdca26"
            ],
            [
             1,
             "#f0f921"
            ]
           ]
          },
          "colorway": [
           "#636efa",
           "#EF553B",
           "#00cc96",
           "#ab63fa",
           "#FFA15A",
           "#19d3f3",
           "#FF6692",
           "#B6E880",
           "#FF97FF",
           "#FECB52"
          ],
          "font": {
           "color": "#2a3f5f"
          },
          "geo": {
           "bgcolor": "white",
           "lakecolor": "white",
           "landcolor": "#E5ECF6",
           "showlakes": true,
           "showland": true,
           "subunitcolor": "white"
          },
          "hoverlabel": {
           "align": "left"
          },
          "hovermode": "closest",
          "mapbox": {
           "style": "light"
          },
          "paper_bgcolor": "white",
          "plot_bgcolor": "#E5ECF6",
          "polar": {
           "angularaxis": {
            "gridcolor": "white",
            "linecolor": "white",
            "ticks": ""
           },
           "bgcolor": "#E5ECF6",
           "radialaxis": {
            "gridcolor": "white",
            "linecolor": "white",
            "ticks": ""
           }
          },
          "scene": {
           "xaxis": {
            "backgroundcolor": "#E5ECF6",
            "gridcolor": "white",
            "gridwidth": 2,
            "linecolor": "white",
            "showbackground": true,
            "ticks": "",
            "zerolinecolor": "white"
           },
           "yaxis": {
            "backgroundcolor": "#E5ECF6",
            "gridcolor": "white",
            "gridwidth": 2,
            "linecolor": "white",
            "showbackground": true,
            "ticks": "",
            "zerolinecolor": "white"
           },
           "zaxis": {
            "backgroundcolor": "#E5ECF6",
            "gridcolor": "white",
            "gridwidth": 2,
            "linecolor": "white",
            "showbackground": true,
            "ticks": "",
            "zerolinecolor": "white"
           }
          },
          "shapedefaults": {
           "line": {
            "color": "#2a3f5f"
           }
          },
          "ternary": {
           "aaxis": {
            "gridcolor": "white",
            "linecolor": "white",
            "ticks": ""
           },
           "baxis": {
            "gridcolor": "white",
            "linecolor": "white",
            "ticks": ""
           },
           "bgcolor": "#E5ECF6",
           "caxis": {
            "gridcolor": "white",
            "linecolor": "white",
            "ticks": ""
           }
          },
          "title": {
           "x": 0.05
          },
          "xaxis": {
           "automargin": true,
           "gridcolor": "white",
           "linecolor": "white",
           "ticks": "",
           "title": {
            "standoff": 15
           },
           "zerolinecolor": "white",
           "zerolinewidth": 2
          },
          "yaxis": {
           "automargin": true,
           "gridcolor": "white",
           "linecolor": "white",
           "ticks": "",
           "title": {
            "standoff": 15
           },
           "zerolinecolor": "white",
           "zerolinewidth": 2
          }
         }
        }
       }
      }
     },
     "metadata": {},
     "output_type": "display_data"
    }
   ],
   "source": [
    "import plotly.express as px\n",
    "import plotly.graph_objects as go\n",
    "x = df['LibrarySatsfied']\n",
    "y = df['InternetSatisfied']\n",
    "fig = go.Figure(data=[go.Scatter(\n",
    "    x = df['LibrarySatsfied'],\n",
    "    y = df['InternetSatisfied'],\n",
    "    mode='markers',\n",
    "    marker_size=[40, 60, 80, 100])\n",
    "])\n",
    "\n",
<<<<<<< HEAD
    "fig.show()\n"
=======
    "fig.show()"
>>>>>>> 3d10044844c4658844fbe815ecd19dae21702b98
   ]
  },
  {
   "attachments": {},
   "cell_type": "markdown",
   "metadata": {},
   "source": [
    "## Heatmap"
   ]
  },
  {
   "cell_type": "code",
   "execution_count": 24,
   "metadata": {},
   "outputs": [
    {
     "name": "stderr",
     "output_type": "stream",
     "text": [
<<<<<<< HEAD
      "C:\\Users\\moonn\\AppData\\Local\\Temp\\ipykernel_15468\\926057597.py:1: FutureWarning:\n",
=======
      "C:\\Users\\moonn\\AppData\\Local\\Temp\\ipykernel_31464\\926057597.py:1: FutureWarning:\n",
>>>>>>> 3d10044844c4658844fbe815ecd19dae21702b98
      "\n",
      "The default value of numeric_only in DataFrame.corr is deprecated. In a future version, it will default to False. Select only valid columns or specify the value of numeric_only to silence this warning.\n",
      "\n"
     ]
    },
    {
     "data": {
      "image/png": "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",
      "text/plain": [
       "<Figure size 1500x1500 with 2 Axes>"
      ]
     },
     "metadata": {},
     "output_type": "display_data"
    }
   ],
   "source": [
    "corr = df.corr()\n",
    "plt.figure(figsize=(15,15))\n",
    "sns.heatmap(corr, annot=True,linewidth=.5)\n",
    "plt.show()"
   ]
  }
 ],
 "metadata": {
  "kernelspec": {
   "display_name": "deep",
   "language": "python",
   "name": "python3"
  },
  "language_info": {
   "codemirror_mode": {
    "name": "ipython",
    "version": 3
   },
   "file_extension": ".py",
   "mimetype": "text/x-python",
   "name": "python",
   "nbconvert_exporter": "python",
   "pygments_lexer": "ipython3",
<<<<<<< HEAD
   "version": "3.9.15"
=======
   "version": "3.9.15 (main, Nov 24 2022, 14:39:17) [MSC v.1916 64 bit (AMD64)]"
>>>>>>> 3d10044844c4658844fbe815ecd19dae21702b98
  },
  "orig_nbformat": 4,
  "vscode": {
   "interpreter": {
    "hash": "e005bc1b11d6aaa96f11b2554b7d82dc2be6b42362672cc58d91cfe694e52bb7"
   }
  }
 },
 "nbformat": 4,
 "nbformat_minor": 2
}
